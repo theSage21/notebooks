{
 "cells": [
  {
   "cell_type": "markdown",
   "metadata": {},
   "source": [
    "A Turing machine is defined by a 7 tuple:\n",
    "\n",
    "- Q: A finite set of states\n",
    "- T: A finite set of tape alphabet symbols\n",
    "- b: belongs to T and is the blank symbol. The only symbol allowed to occur infinitely often on the tape\n",
    "- A: is a subset of T - {b}. It is the set of input symbols\n",
    "- d: the table of instructions or the transition function.\n",
    "- q0: initial state\n",
    "- F: Set of final states\n",
    "\n",
    "Here we shall construct a simple turing machine and thus demonstrate that PYthon3 is Turing complete."
   ]
  },
  {
   "cell_type": "code",
   "execution_count": 1,
   "metadata": {
    "ExecuteTime": {
     "end_time": "2016-05-10T16:52:34.180283",
     "start_time": "2016-05-10T16:52:34.168315"
    },
    "collapsed": true
   },
   "outputs": [],
   "source": [
    "Q = set(['A', 'B', 'C', 'HALT'])\n",
    "T = set(['0', '1'])\n",
    "b = '0'\n",
    "A = set(['1'])\n",
    "q0 = 'A'\n",
    "F = set(['HALT'])"
   ]
  },
  {
   "cell_type": "code",
   "execution_count": 2,
   "metadata": {
    "ExecuteTime": {
     "end_time": "2016-05-10T16:55:39.669350",
     "start_time": "2016-05-10T16:55:39.657947"
    },
    "collapsed": true
   },
   "outputs": [],
   "source": [
    "# We define the transition table here as a dictionary\n",
    "\n",
    "# It has been taken from this link\n",
    "# https://en.wikipedia.org/wiki/Turing_machine\n",
    "d = {('0', 'A'): ('1', 'r', 'B'),\n",
    "     ('0', 'B'): ('1', 'l', 'A'),\n",
    "     ('0', 'C'): ('1', 'l', 'B'),\n",
    "     ('1', 'A'): ('1', 'l', 'C'),\n",
    "     ('1', 'B'): ('1', 'r', 'B'),\n",
    "     ('1', 'C'): ('1', 'r', 'HALT'),\n",
    "    }"
   ]
  },
  {
   "cell_type": "code",
   "execution_count": 3,
   "metadata": {
    "ExecuteTime": {
     "end_time": "2016-05-10T17:03:31.729402",
     "start_time": "2016-05-10T17:03:31.700311"
    },
    "collapsed": true
   },
   "outputs": [],
   "source": [
    "# Now we give life to our Turing machine\n",
    "def run_machine(machine):\n",
    "    \"Initially all tape cells are marked 0\"\n",
    "    q, t, b, a, d, q0, f = machine\n",
    "    tape = []\n",
    "    current_state = q0\n",
    "    index = 0\n",
    "    current_char = '0'\n",
    "    while True:\n",
    "        # Read at the index\n",
    "        try:\n",
    "            current_char = tape[index]\n",
    "        except:\n",
    "            tape.append(b)\n",
    "            current_char = b\n",
    "        # Move according to table\n",
    "        w, m, n = d[(current_char, current_state)]\n",
    "        tape[index] = w\n",
    "        index = index +1 if m == 'r' else index - 1\n",
    "        if index < 0:\n",
    "            tape = [b] + tape\n",
    "            index = 0\n",
    "        current_state = n\n",
    "        # Stop if final reached\n",
    "        if current_state in f:\n",
    "            break\n",
    "    return tape"
   ]
  },
  {
   "cell_type": "code",
   "execution_count": 5,
   "metadata": {
    "ExecuteTime": {
     "end_time": "2016-05-10T17:04:08.264122",
     "start_time": "2016-05-10T17:04:08.259284"
    },
    "collapsed": false
   },
   "outputs": [],
   "source": [
    "tape = run_machine((Q, T, b, A, d, q0, F))"
   ]
  },
  {
   "cell_type": "code",
   "execution_count": 6,
   "metadata": {
    "ExecuteTime": {
     "end_time": "2016-05-10T17:04:12.991265",
     "start_time": "2016-05-10T17:04:12.986030"
    },
    "collapsed": false
   },
   "outputs": [
    {
     "name": "stdout",
     "output_type": "stream",
     "text": [
      "['1', '1', '1', '1', '1', '1']\n"
     ]
    }
   ],
   "source": [
    "print(tape)"
   ]
  },
  {
   "cell_type": "markdown",
   "metadata": {},
   "source": [
    "This shows that python3 is turing complete.  \n",
    "The Turing machine we just implemented is a busy beaver."
   ]
  }
 ],
 "metadata": {
  "kernelspec": {
   "display_name": "Python 3",
   "language": "python",
   "name": "python3"
  },
  "language_info": {
   "codemirror_mode": {
    "name": "ipython",
    "version": 3
   },
   "file_extension": ".py",
   "mimetype": "text/x-python",
   "name": "python",
   "nbconvert_exporter": "python",
   "pygments_lexer": "ipython3",
   "version": "3.5.1"
  }
 },
 "nbformat": 4,
 "nbformat_minor": 0
}
