{
 "cells": [
  {
   "cell_type": "code",
   "execution_count": 4,
   "metadata": {
    "ExecuteTime": {
     "end_time": "2016-07-18T20:04:18.637193",
     "start_time": "2016-07-18T20:04:18.626990"
    },
    "collapsed": true
   },
   "outputs": [],
   "source": [
    "import math\n",
    "import time\n",
    "import matplotlib.pyplot as plt\n",
    "%matplotlib inline"
   ]
  },
  {
   "cell_type": "code",
   "execution_count": 6,
   "metadata": {
    "ExecuteTime": {
     "end_time": "2016-07-18T20:04:51.052210",
     "start_time": "2016-07-18T20:04:51.045623"
    },
    "collapsed": true
   },
   "outputs": [],
   "source": [
    "def fact(n):\n",
    "    if n <= 1:\n",
    "        return 1\n",
    "    else:\n",
    "        return n * fact(n - 1)"
   ]
  },
  {
   "cell_type": "code",
   "execution_count": 19,
   "metadata": {
    "ExecuteTime": {
     "end_time": "2016-07-18T20:06:52.066539",
     "start_time": "2016-07-18T20:06:51.647512"
    },
    "collapsed": false
   },
   "outputs": [
    {
     "data": {
      "text/plain": [
       "<matplotlib.text.Text at 0xaf8d8b2c>"
      ]
     },
     "execution_count": 19,
     "metadata": {},
     "output_type": "execute_result"
    },
    {
     "data": {
      "image/png": "[encoded data removed]",
      "text/plain": [
       "<matplotlib.figure.Figure at 0xaf98754c>"
      ]
     },
     "metadata": {},
     "output_type": "display_data"
    }
   ],
   "source": [
    "time_taken, no = [], []\n",
    "for i in range(70):\n",
    "    no.append(i)\n",
    "    \n",
    "    start = time.time()\n",
    "    f = fact(i)\n",
    "    stop = time.time()\n",
    "    \n",
    "    time_taken.append(stop - start)\n",
    "plt.plot(no, time_taken)\n",
    "plt.xlabel('Factorial of nth number')\n",
    "plt.ylabel('Time taken to calculate')"
   ]
  },
  {
   "cell_type": "markdown",
   "metadata": {},
   "source": [
    " - As we can see, time taken increasees almost linearly. We can ignore the variations as they are due to the method of measuring time. This shows us that we can have a working factorial function in polynomial time.\n",
    " - Another implementation of the factorial function which uses looping instead of recursive function calls is shown below for demonstration purposes."
   ]
  },
  {
   "cell_type": "code",
   "execution_count": 27,
   "metadata": {
    "ExecuteTime": {
     "end_time": "2016-07-18T20:12:21.983013",
     "start_time": "2016-07-18T20:12:21.972173"
    },
    "collapsed": false
   },
   "outputs": [
    {
     "name": "stdout",
     "output_type": "stream",
     "text": [
      "6.0\n",
      "6\n"
     ]
    }
   ],
   "source": [
    "def loopfact(n):\n",
    "    fact = float(n)\n",
    "    while n > 1:\n",
    "        n -= 1\n",
    "        fact *= n\n",
    "    return fact\n",
    "\n",
    "print(loopfact(3))\n",
    "print(fact(3))"
   ]
  }
 ],
 "metadata": {
  "kernelspec": {
   "display_name": "Python 3",
   "language": "python",
   "name": "python3"
  },
  "language_info": {
   "codemirror_mode": {
    "name": "ipython",
    "version": 3
   },
   "file_extension": ".py",
   "mimetype": "text/x-python",
   "name": "python",
   "nbconvert_exporter": "python",
   "pygments_lexer": "ipython3",
   "version": "3.5.2"
  }
 },
 "nbformat": 4,
 "nbformat_minor": 0
}
