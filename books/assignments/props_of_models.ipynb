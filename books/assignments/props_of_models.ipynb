{
 "cells": [
  {
   "cell_type": "markdown",
   "metadata": {},
   "source": [
    "# Properties of a Model\n",
    "\n",
    "> All models are wrong, some are useful  - *George E.P. Box*\n",
    "\n",
    "We discuss in this notebook, what makes a good model and what are it's salient properties."
   ]
  },
  {
   "cell_type": "markdown",
   "metadata": {},
   "source": [
    "### What is Computational Science?\n",
    "\n",
    "As per [PSU](http://www.csci.psu.edu/background.html) Computational Science is:  \n",
    ">Computational science refers to the use of computers, networks, storage devices, software, and algorithms to solve problems, do simulations, build things, or create new knowledge. \n",
    "\n",
    "It is within this context that we shall look at what a model is. Generally speaking, a model is:\n",
    "\n",
    "- A simplification of some phenomenon/object based on a set of rules defined by the needs of the model maker.\n",
    "- It is usually based in theory"
   ]
  },
  {
   "cell_type": "markdown",
   "metadata": {},
   "source": [
    "### Different Models\n",
    "\n",
    "We list some important types of models along with links to their reading materials.\n",
    "\n",
    " - [Conceptual model](https://en.wikipedia.org/wiki/Conceptual_model), a representation of a system using general rules and concepts\n",
    " - [Physical model](https://en.wikipedia.org/wiki/Physical_model), a physical copy of an object such as a globe or model airplane\n",
    " - [Scale model](https://en.wikipedia.org/wiki/Scale_model), a physical representation of an object which maintains general relationships between its constituent aspects\n",
    " - [Scientific model](https://en.wikipedia.org/wiki/Scientific_modelling), a simplified and idealized understanding of physical systems\n",
    " - [Mathematical Model](https://en.wikipedia.org/wiki/Mathematical_model), a representation of a system using mathematical concepts and language"
   ]
  },
  {
   "cell_type": "markdown",
   "metadata": {},
   "source": [
    "### Generalized properties from above Models\n",
    "\n",
    "1. Models **represent something**.\n",
    "    - All the different types of models we have seen, represent something in the world.\n",
    "    - Their representation is an approximation of the real thing.\n",
    "    - As a result, some parts of the model will not be accurate\n",
    "    - The parts which are not representative are usually selected to be meaningless to the model user.\n",
    "    - For example: A Scale model of the building is not usually made of the same materials as the actual building since the purpose of the model is to represent scale\n",
    "    - Every model has error, a good model has negligible error making it useful\n",
    "2. Models are **made using something**.\n",
    "    - All models themselved must be constructed.\n",
    "    - Some are made using physical materials, like Scale models\n",
    "    - Some are made using language, like Mathematical models being suually made out of Set theory\n",
    "3. Models are **useful**\n",
    "    - All models are made in order to be useful\n",
    "    - They may help us understand the thing they represent better.\n",
    "    - They may help us prredict the behaviour of the things they represent\n",
    "    - They may also, be used to verify theories by testing their predictions against observed phenomenon.\n",
    "4. Models are **approximations**\n",
    "    - All models are approximations of the real thing\n",
    "    - The model's approximations may arise out of\n",
    "        - computational capacity\n",
    "        - theoretical limits\n",
    "        - error limits\n",
    "5. Models are ruled by **[Occam's Razor](https://en.wikipedia.org/wiki/Occam%27s_razor)**"
   ]
  },
  {
   "cell_type": "markdown",
   "metadata": {},
   "source": [
    "### Conclusion\n",
    "\n",
    "A model is generally useful only if it is close enough to the real phenomenon."
   ]
  }
 ],
 "metadata": {
  "kernelspec": {
   "display_name": "Python 3",
   "language": "python",
   "name": "python3"
  },
  "language_info": {
   "codemirror_mode": {
    "name": "ipython",
    "version": 3
   },
   "file_extension": ".py",
   "mimetype": "text/x-python",
   "name": "python",
   "nbconvert_exporter": "python",
   "pygments_lexer": "ipython3",
   "version": "3.5.2"
  }
 },
 "nbformat": 4,
 "nbformat_minor": 0
}
