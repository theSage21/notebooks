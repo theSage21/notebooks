{
 "cells": [
  {
   "cell_type": "markdown",
   "metadata": {},
   "source": [
    "# Finding roots of functions\n",
    "Finding the roots of functions is an excercise which has many applications. However, closed forms are not always available. Indeed we are lucky that quadratic equations have the closed form of $-b \\pm \\sqrt{b^2 - 4ac}\\over{2a}$  \n",
    "Here we discuss some methods for numerically approximating roots of functions. \n",
    "\n",
    "## Bisection method\n",
    "The bisection method repeatedly bisects an interval and then selects a subinterval in which a root must lie for further processing.\n",
    "\n",
    "A good way to visualize the method is this wikipedia picture.  \n",
    "![image](https://upload.wikimedia.org/wikipedia/commons/8/8c/Bisection_method.svg)"
   ]
  },
  {
   "cell_type": "code",
   "execution_count": 2,
   "metadata": {
    "ExecuteTime": {
     "end_time": "2016-08-03T21:41:17.378708",
     "start_time": "2016-08-03T21:41:17.366526"
    },
    "collapsed": false
   },
   "outputs": [
    {
     "name": "stdout",
     "output_type": "stream",
     "text": [
      "Populating the interactive namespace from numpy and matplotlib\n"
     ]
    }
   ],
   "source": [
    "import math\n",
    "import seaborn as sns\n",
    "import numpy as np\n",
    "import matplotlib.pyplot as plt\n",
    "%pylab inline"
   ]
  },
  {
   "cell_type": "code",
   "execution_count": 33,
   "metadata": {
    "ExecuteTime": {
     "end_time": "2016-08-03T22:01:16.515057",
     "start_time": "2016-08-03T22:01:16.490922"
    },
    "collapsed": false
   },
   "outputs": [],
   "source": [
    "def candidate_function(x):\n",
    "    return (3 * x) - 5\n",
    "\n",
    "def bisection(function, a, b, tolerance=0.0001):\n",
    "    \"\"\"Finds root of function contained within [a, b] given that f(a) and f(b) have\n",
    "    opposite signs\"\"\"\n",
    "    fa, fb = function(a), function(b)\n",
    "    c = (a + b) / 2\n",
    "    fc = function(c)\n",
    "    if abs(a - b) < tolerance:\n",
    "        return c\n",
    "    left, right = c, b  # the default\n",
    "    if (fc * fa) < 0:  # opposite signs\n",
    "        left, right = a, c\n",
    "    return bisection(function, left, right, tolerance)"
   ]
  },
  {
   "cell_type": "markdown",
   "metadata": {},
   "source": [
    "We try to find the root of the candidate function using the interval [10, -10]"
   ]
  },
  {
   "cell_type": "code",
   "execution_count": 42,
   "metadata": {
    "ExecuteTime": {
     "end_time": "2016-08-03T22:08:11.137505",
     "start_time": "2016-08-03T22:08:11.130330"
    },
    "collapsed": false
   },
   "outputs": [
    {
     "name": "stdout",
     "output_type": "stream",
     "text": [
      "1.6666793823242188\n"
     ]
    }
   ],
   "source": [
    "a, b = 0, 5\n",
    "root = bisection(candidate_function, a, b)\n",
    "print(root)"
   ]
  },
  {
   "cell_type": "code",
   "execution_count": 43,
   "metadata": {
    "ExecuteTime": {
     "end_time": "2016-08-03T22:08:12.345112",
     "start_time": "2016-08-03T22:08:11.827719"
    },
    "collapsed": false
   },
   "outputs": [
    {
     "data": {
      "text/plain": [
       "<matplotlib.legend.Legend at 0xa234ee4c>"
      ]
     },
     "execution_count": 43,
     "metadata": {},
     "output_type": "execute_result"
    },
    {
     "data": {
      "image/png": "[encoded data removed]",
      "text/plain": [
       "<matplotlib.figure.Figure at 0xa4e3204c>"
      ]
     },
     "metadata": {},
     "output_type": "display_data"
    }
   ],
   "source": [
    "x = np.arange(a, b, 0.0001)\n",
    "y = candidate_function(x)\n",
    "x_axis = np.arange(a, b, 0.0001)\n",
    "plt.plot(x, y, label='function under consideration')\n",
    "plt.plot(x_axis, [0 for _ in x_axis], color='black', label='X-axis')\n",
    "plt.legend()"
   ]
  },
  {
   "cell_type": "markdown",
   "metadata": {},
   "source": [
    "To better visualize this, we rewrite the bisection function to report values to us whenever it is called."
   ]
  },
  {
   "cell_type": "code",
   "execution_count": 44,
   "metadata": {
    "ExecuteTime": {
     "end_time": "2016-08-03T22:08:27.337215",
     "start_time": "2016-08-03T22:08:27.321524"
    },
    "collapsed": true
   },
   "outputs": [],
   "source": [
    "reports = []\n",
    "def bisection_reporter(function, a, b, tolerance=0.0001):\n",
    "    fa, fb = function(a), function(b)\n",
    "    c = (a + b) / 2\n",
    "    fc = function(c)\n",
    "    reports.append((a, b, c))\n",
    "    if abs(a - b) < tolerance:\n",
    "        return c\n",
    "    left, right = c, b  # the default\n",
    "    if (fc * fa) < 0:  # opposite signs\n",
    "        left, right = a, c\n",
    "    return bisection_reporter(function, left, right, tolerance)"
   ]
  },
  {
   "cell_type": "code",
   "execution_count": 45,
   "metadata": {
    "ExecuteTime": {
     "end_time": "2016-08-03T22:08:40.718662",
     "start_time": "2016-08-03T22:08:40.711623"
    },
    "collapsed": false
   },
   "outputs": [
    {
     "name": "stdout",
     "output_type": "stream",
     "text": [
      "1.6666793823242188\n"
     ]
    }
   ],
   "source": [
    "root = bisection_reporter(candidate_function, a, b)\n",
    "print(root)"
   ]
  },
  {
   "cell_type": "markdown",
   "metadata": {},
   "source": [
    "We see that the root remains the same. Now to see how the function went about it's calculation."
   ]
  },
  {
   "cell_type": "code",
   "execution_count": 46,
   "metadata": {
    "ExecuteTime": {
     "end_time": "2016-08-03T22:09:33.586307",
     "start_time": "2016-08-03T22:09:33.579984"
    },
    "collapsed": false
   },
   "outputs": [
    {
     "name": "stdout",
     "output_type": "stream",
     "text": [
      "17 steps were taken to reach our answer\n"
     ]
    }
   ],
   "source": [
    "print('{} steps were taken to reach our answer'.format(len(reports)))"
   ]
  },
  {
   "cell_type": "code",
   "execution_count": 63,
   "metadata": {
    "ExecuteTime": {
     "end_time": "2016-08-03T22:19:32.417766",
     "start_time": "2016-08-03T22:19:31.894759"
    },
    "collapsed": false
   },
   "outputs": [
    {
     "data": {
      "text/plain": [
       "<matplotlib.legend.Legend at 0xa17325ac>"
      ]
     },
     "execution_count": 63,
     "metadata": {},
     "output_type": "execute_result"
    },
    {
     "data": {
      "image/png": "[encoded data removed]",
      "text/plain": [
       "<matplotlib.figure.Figure at 0xa181942c>"
      ]
     },
     "metadata": {},
     "output_type": "display_data"
    }
   ],
   "source": [
    "rep = np.array(reports)\n",
    "a, b, c = rep[:,0], rep[:,1], rep[:,2]\n",
    "\n",
    "plt.figure(figsize=(10, 5))\n",
    "plt.plot(range(len(a)), a, '-o', label='values of a')\n",
    "plt.plot(range(len(b)), b, '-o', label='values of b')\n",
    "plt.plot(range(len(c)), c, '-o', label='values of c')\n",
    "\n",
    "plt.title('Change in values of a, b, c with iterations')\n",
    "plt.legend()"
   ]
  },
  {
   "cell_type": "markdown",
   "metadata": {},
   "source": [
    "We can see the convergence of the values. Another thing to note is that the interval we are searching in reduces by half every step. Let's see how the number of steps change with change in tolerance."
   ]
  },
  {
   "cell_type": "code",
   "execution_count": 67,
   "metadata": {
    "ExecuteTime": {
     "end_time": "2016-08-03T22:22:47.869926",
     "start_time": "2016-08-03T22:22:47.492126"
    },
    "collapsed": false
   },
   "outputs": [],
   "source": [
    "a, b = 0, 5\n",
    "tols = np.arange(0.000001, 0.1, 0.00001 )\n",
    "steps = []\n",
    "for tol in tols:\n",
    "    reports = []\n",
    "    bisection_reporter(candidate_function, a, b, tol)\n",
    "    steps.append(len(reports))"
   ]
  },
  {
   "cell_type": "code",
   "execution_count": 72,
   "metadata": {
    "ExecuteTime": {
     "end_time": "2016-08-03T22:24:04.237001",
     "start_time": "2016-08-03T22:24:03.784417"
    },
    "collapsed": false
   },
   "outputs": [
    {
     "data": {
      "text/plain": [
       "<matplotlib.text.Text at 0xa0fe992c>"
      ]
     },
     "execution_count": 72,
     "metadata": {},
     "output_type": "execute_result"
    },
    {
     "data": {
      "image/png": "[encoded data removed]",
      "text/plain": [
       "<matplotlib.figure.Figure at 0xa150f64c>"
      ]
     },
     "metadata": {},
     "output_type": "display_data"
    }
   ],
   "source": [
    "plt.plot(tols, steps)\n",
    "plt.xlabel('tolerance')\n",
    "plt.ylabel('number of steps taken to compute')"
   ]
  },
  {
   "cell_type": "markdown",
   "metadata": {},
   "source": [
    "This tells us that the method increases in complexity as we require more precision. It's robust but slow.\n",
    "\n",
    "## False Position Method\n",
    "We first draw a straight line between [a, b] and find out where it intersects the x axis. Then we substitute **b** with this new intersection value. We consider the function $x^2 - 4x$ in the interval [2, 5]"
   ]
  },
  {
   "cell_type": "code",
   "execution_count": 103,
   "metadata": {
    "ExecuteTime": {
     "end_time": "2016-08-03T22:57:59.473238",
     "start_time": "2016-08-03T22:57:59.461831"
    },
    "collapsed": true
   },
   "outputs": [],
   "source": [
    "def candidate_function(x):\n",
    "    return (x *x) - 4 * x - 10\n",
    "\n",
    "def false_position(function, a, b, tolerance=0.0001):\n",
    "    c = (a * function(b) - b * function(a)) / (function(b) - function(a))\n",
    "    if abs(function(c)) < tolerance:\n",
    "        return c\n",
    "    return false_position(function, c, b, tolerance)"
   ]
  },
  {
   "cell_type": "code",
   "execution_count": 105,
   "metadata": {
    "ExecuteTime": {
     "end_time": "2016-08-03T22:58:15.068114",
     "start_time": "2016-08-03T22:58:14.623232"
    },
    "collapsed": false
   },
   "outputs": [
    {
     "data": {
      "text/plain": [
       "<matplotlib.text.Text at 0xa11eb0ec>"
      ]
     },
     "execution_count": 105,
     "metadata": {},
     "output_type": "execute_result"
    },
    {
     "data": {
      "image/png": "[encoded data removed]",
      "text/plain": [
       "<matplotlib.figure.Figure at 0xa136b04c>"
      ]
     },
     "metadata": {},
     "output_type": "display_data"
    }
   ],
   "source": [
    "x = np.arange(0, 10, 0.001)\n",
    "y = candidate_function(x)\n",
    "plt.plot(x, y)\n",
    "plt.title('Candidate function')"
   ]
  },
  {
   "cell_type": "code",
   "execution_count": 106,
   "metadata": {
    "ExecuteTime": {
     "end_time": "2016-08-03T22:58:20.452191",
     "start_time": "2016-08-03T22:58:20.445237"
    },
    "collapsed": false
   },
   "outputs": [
    {
     "name": "stdout",
     "output_type": "stream",
     "text": [
      "5.741644121594274\n"
     ]
    }
   ],
   "source": [
    "a, b = 2, 5\n",
    "root = false_position(candidate_function, a, b)\n",
    "print(root)"
   ]
  },
  {
   "cell_type": "markdown",
   "metadata": {},
   "source": [
    "We see that as expected the root is near 4. Let's see how the function actually calculates the value. We redefine the function like earlier to report it's progress."
   ]
  },
  {
   "cell_type": "code",
   "execution_count": 110,
   "metadata": {
    "ExecuteTime": {
     "end_time": "2016-08-03T22:59:23.160409",
     "start_time": "2016-08-03T22:59:23.134866"
    },
    "collapsed": false
   },
   "outputs": [
    {
     "name": "stdout",
     "output_type": "stream",
     "text": [
      "6.666666666666667\n"
     ]
    },
    {
     "data": {
      "text/plain": [
       "5.741777969266121"
      ]
     },
     "execution_count": 110,
     "metadata": {},
     "output_type": "execute_result"
    }
   ],
   "source": [
    "report = []\n",
    "def false_position_report(function, a, b, tolerance=0.001):\n",
    "    c = (a * function(b) - b * function(a)) / (function(b) - function(a))\n",
    "    report.append((a, b, c, function(c)))\n",
    "    print(c)\n",
    "    if abs(function(c)) < tolerance:\n",
    "        return c\n",
    "    return false_position(function, c, b, tolerance)\n",
    "false_position_report(candidate_function, a, b)"
   ]
  },
  {
   "cell_type": "code",
   "execution_count": 108,
   "metadata": {
    "ExecuteTime": {
     "end_time": "2016-08-03T22:58:33.756430",
     "start_time": "2016-08-03T22:58:33.749228"
    },
    "collapsed": false
   },
   "outputs": [
    {
     "name": "stdout",
     "output_type": "stream",
     "text": [
      "1 steps taken to calculate results\n"
     ]
    }
   ],
   "source": [
    "print('{} steps taken to calculate results'.format(len(report)))"
   ]
  },
  {
   "cell_type": "markdown",
   "metadata": {},
   "source": [
    "## Newton's method\n",
    "This method requires that we can calculate the differential of our function. \n",
    "We get the tangent at a point on the curve, get tangent's x intersect and repeat for tangent at the intersect."
   ]
  },
  {
   "cell_type": "code",
   "execution_count": 116,
   "metadata": {
    "ExecuteTime": {
     "end_time": "2016-08-03T23:14:52.276611",
     "start_time": "2016-08-03T23:14:52.241680"
    },
    "collapsed": false
   },
   "outputs": [
    {
     "name": "stdout",
     "output_type": "stream",
     "text": [
      "0.8656026825683948\n"
     ]
    }
   ],
   "source": [
    "def candidate_function(x):\n",
    "    return math.cos(x) - (x**3)\n",
    "\n",
    "def differential(x):\n",
    "    return ((-1 * math.sin(x)) - (3 * (x ** 2)))\n",
    "\n",
    "def newton(function, differential, estimate, tolerance=0.001):\n",
    "    y = function(estimate)\n",
    "    yprime = differential(estimate)\n",
    "    x1 = estimate - y / yprime\n",
    "    if (abs(x1 - estimate) <=  tolerance * abs(x1)):\n",
    "        return estimate\n",
    "    return newton(function, differential, x1, tolerance)\n",
    "print(newton(candidate_function, differential, 10))"
   ]
  },
  {
   "cell_type": "markdown",
   "metadata": {},
   "source": [
    "As expected, the method finds the right answer."
   ]
  },
  {
   "cell_type": "code",
   "execution_count": 120,
   "metadata": {
    "ExecuteTime": {
     "end_time": "2016-08-03T23:17:32.359811",
     "start_time": "2016-08-03T23:17:32.345212"
    },
    "collapsed": false
   },
   "outputs": [
    {
     "name": "stdout",
     "output_type": "stream",
     "text": [
      "1 steps used to compute\n"
     ]
    }
   ],
   "source": [
    "report = []\n",
    "def newton_report(function, differential, estimate, tolerance=0.001):\n",
    "    y = function(estimate)\n",
    "    yprime = differential(estimate)\n",
    "    x1 = estimate - y / yprime\n",
    "    report.append(estimate)\n",
    "    if (abs(x1 - estimate) <=  tolerance * abs(x1)):\n",
    "        return estimate\n",
    "    return newton(function, differential, x1, tolerance)\n",
    "newton_report(candidate_function, differential, 10)\n",
    "print(len(report), 'steps used to compute')"
   ]
  },
  {
   "cell_type": "markdown",
   "metadata": {},
   "source": [
    "Again, the function is efficient."
   ]
  }
 ],
 "metadata": {
  "kernelspec": {
   "display_name": "Python 3",
   "language": "python",
   "name": "python3"
  },
  "language_info": {
   "codemirror_mode": {
    "name": "ipython",
    "version": 3
   },
   "file_extension": ".py",
   "mimetype": "text/x-python",
   "name": "python",
   "nbconvert_exporter": "python",
   "pygments_lexer": "ipython3",
   "version": "3.5.2"
  }
 },
 "nbformat": 4,
 "nbformat_minor": 0
}
