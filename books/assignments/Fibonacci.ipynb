{
 "cells": [
  {
   "cell_type": "code",
   "execution_count": 26,
   "metadata": {
    "ExecuteTime": {
     "end_time": "2016-07-18T19:45:15.241628",
     "start_time": "2016-07-18T19:45:15.231850"
    },
    "collapsed": true
   },
   "outputs": [],
   "source": [
    "import math\n",
    "import matplotlib.pyplot as plt\n",
    "%matplotlib inline"
   ]
  },
  {
   "cell_type": "code",
   "execution_count": 2,
   "metadata": {
    "ExecuteTime": {
     "end_time": "2016-07-18T18:37:12.529793",
     "start_time": "2016-07-18T18:37:12.521503"
    },
    "collapsed": true
   },
   "outputs": [],
   "source": [
    "def fib(n):\n",
    "    if n in [0, 1]:\n",
    "        return n\n",
    "    else:\n",
    "        return fib(n - 1) + fib(n - 2)"
   ]
  },
  {
   "cell_type": "code",
   "execution_count": 12,
   "metadata": {
    "ExecuteTime": {
     "end_time": "2016-07-18T18:38:49.971189",
     "start_time": "2016-07-18T18:38:49.777377"
    },
    "collapsed": false
   },
   "outputs": [
    {
     "data": {
      "text/plain": [
       "[0,\n",
       " 1,\n",
       " 1,\n",
       " 2,\n",
       " 3,\n",
       " 5,\n",
       " 8,\n",
       " 13,\n",
       " 21,\n",
       " 34,\n",
       " 55,\n",
       " 89,\n",
       " 144,\n",
       " 233,\n",
       " 377,\n",
       " 610,\n",
       " 987,\n",
       " 1597,\n",
       " 2584,\n",
       " 4181,\n",
       " 6765,\n",
       " 10946,\n",
       " 17711,\n",
       " 28657,\n",
       " 46368]"
      ]
     },
     "execution_count": 12,
     "metadata": {},
     "output_type": "execute_result"
    }
   ],
   "source": [
    "first_n = [fib(i) for i in range(25)]\n",
    "first_n"
   ]
  },
  {
   "cell_type": "code",
   "execution_count": 11,
   "metadata": {
    "ExecuteTime": {
     "end_time": "2016-07-18T18:38:27.749805",
     "start_time": "2016-07-18T18:38:27.423541"
    },
    "collapsed": false
   },
   "outputs": [
    {
     "data": {
      "text/plain": [
       "[<matplotlib.lines.Line2D at 0xafb92c0c>]"
      ]
     },
     "execution_count": 11,
     "metadata": {},
     "output_type": "execute_result"
    },
    {
     "data": {
      "image/png": "[encoded data removed]",
      "text/plain": [
       "<matplotlib.figure.Figure at 0xafbc676c>"
      ]
     },
     "metadata": {},
     "output_type": "display_data"
    }
   ],
   "source": [
    "plt.plot(first_n)"
   ]
  },
  {
   "cell_type": "markdown",
   "metadata": {},
   "source": [
    "As we can see they increase very quickly. This poses problems in computing them. Let us try to plot the time taken to calculate the number vs the number itself.\n",
    "\n",
    "We will use a very naive method of collecting time taken since this is merely an academic excercise."
   ]
  },
  {
   "cell_type": "code",
   "execution_count": 31,
   "metadata": {
    "ExecuteTime": {
     "end_time": "2016-07-18T19:52:32.205265",
     "start_time": "2016-07-18T19:52:29.661992"
    },
    "collapsed": false
   },
   "outputs": [
    {
     "data": {
      "text/plain": [
       "<matplotlib.text.Text at 0xaf86480c>"
      ]
     },
     "execution_count": 31,
     "metadata": {},
     "output_type": "execute_result"
    },
    {
     "data": {
      "image/png": "[encoded data removed]",
      "text/plain": [
       "<matplotlib.figure.Figure at 0xaf93050c>"
      ]
     },
     "metadata": {},
     "output_type": "display_data"
    }
   ],
   "source": [
    "times, nos = [], []\n",
    "import time\n",
    "for i in range(30):\n",
    "    start = time.time()\n",
    "    no = fib(i)\n",
    "    end = time.time()\n",
    "    times.append(end - start)\n",
    "    nos.append(i)\n",
    "\n",
    "plt.plot(nos, times)\n",
    "plt.xlabel('nth Fibonacci number')\n",
    "plt.ylabel('Milliseconds taken to compute')\n",
    "plt.title('Fibonacci by recursive calls')"
   ]
  },
  {
   "cell_type": "markdown",
   "metadata": {},
   "source": [
    "As we can see, the rise is exponential. Thus we need a better method for calculating the `n`th Fibonacci number. What we need is a closed formula. A nice discussion is given [here](http://mathworld.wolfram.com/FibonacciNumber.html)."
   ]
  },
  {
   "cell_type": "code",
   "execution_count": 27,
   "metadata": {
    "ExecuteTime": {
     "end_time": "2016-07-18T19:46:32.005882",
     "start_time": "2016-07-18T19:46:31.996302"
    },
    "collapsed": true
   },
   "outputs": [],
   "source": [
    "def binet_fib(n):\n",
    "    golden_ratio = 1 + math.sqrt(5)\n",
    "    fibonacci_n = ((golden_ratio ** n) - ( - golden_ratio ** -n)) / math.sqrt(5)\n",
    "    return fibonacci_n"
   ]
  },
  {
   "cell_type": "markdown",
   "metadata": {},
   "source": [
    "Let's see how quickly this function computes Fibonacci numbers as compared to the previous one."
   ]
  },
  {
   "cell_type": "code",
   "execution_count": 32,
   "metadata": {
    "ExecuteTime": {
     "end_time": "2016-07-18T19:56:30.378938",
     "start_time": "2016-07-18T19:56:29.921416"
    },
    "collapsed": false
   },
   "outputs": [
    {
     "data": {
      "text/plain": [
       "<matplotlib.legend.Legend at 0xaf82e50c>"
      ]
     },
     "execution_count": 32,
     "metadata": {},
     "output_type": "execute_result"
    },
    {
     "data": {
      "image/png": "[encoded data removed]",
      "text/plain": [
       "<matplotlib.figure.Figure at 0xaf84994c>"
      ]
     },
     "metadata": {},
     "output_type": "display_data"
    }
   ],
   "source": [
    "old_times = times\n",
    "times, nos = [], []\n",
    "import time\n",
    "for i in range(30):\n",
    "    start = time.time()\n",
    "    no = binet_fib(i)\n",
    "    end = time.time()\n",
    "    times.append(end - start)\n",
    "    nos.append(i)\n",
    "\n",
    "plt.plot(nos, times, label=\"Binet's timings\")\n",
    "plt.plot(nos, old_times, label='Old timings')\n",
    "plt.xlabel('nth Fibonacci number')\n",
    "plt.ylabel('Milliseconds taken to compute')\n",
    "plt.title(\"Fibonacci by Binet's Fibonacci formula\")\n",
    "plt.legend()"
   ]
  },
  {
   "cell_type": "markdown",
   "metadata": {},
   "source": [
    "As we can see, Binet's formula completely overshadows the conventional formula for calculating Fibonacci numbers. There are many other formulas which have been discovered and all compute Fibonacci numbers in polynomial time."
   ]
  }
 ],
 "metadata": {
  "kernelspec": {
   "display_name": "Python 3",
   "language": "python",
   "name": "python3"
  },
  "language_info": {
   "codemirror_mode": {
    "name": "ipython",
    "version": 3
   },
   "file_extension": ".py",
   "mimetype": "text/x-python",
   "name": "python",
   "nbconvert_exporter": "python",
   "pygments_lexer": "ipython3",
   "version": "3.5.2"
  }
 },
 "nbformat": 4,
 "nbformat_minor": 0
}
