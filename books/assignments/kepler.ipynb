{
 "cells": [
  {
   "cell_type": "markdown",
   "metadata": {},
   "source": [
    "# Kepler's 3 laws of planetary motion\n",
    "\n",
    "- The orbit of every planet is an ellipse with the Sun at one of the two foci.\n",
    "- A line joining a planet and the Sun sweeps out equal areas during equal intervals of time.\n",
    "- The square of the orbital period of a planet is directly proportional to the cube of the semi-major axis of its orbit.\n",
    "\n",
    "These three laws can be represented by the equations $r = \\frac{p}{1+\\epsilon\\cos{\\theta}}$ for the first law, $\\frac{dA}{dt} = \\frac{1}{2}r^2\\frac{d\\theta}{dt}$ for the second and $\\frac{P^2}{a^3} = \\frac{4\\pi^2}{G(M+m)}\\approx \\frac{4\\pi^2}{GM}$ for the third.\n",
    "\n",
    "We simulate a planet's motion using these three laws."
   ]
  },
  {
   "cell_type": "code",
   "execution_count": 1,
   "metadata": {
    "ExecuteTime": {
     "end_time": "2016-11-02T12:37:38.532024",
     "start_time": "2016-11-02T12:37:37.725993"
    },
    "collapsed": false
   },
   "outputs": [
    {
     "name": "stdout",
     "output_type": "stream",
     "text": [
      "Populating the interactive namespace from numpy and matplotlib\n"
     ]
    }
   ],
   "source": [
    "%pylab inline"
   ]
  }
 ],
 "metadata": {
  "kernelspec": {
   "display_name": "Python 3",
   "language": "python",
   "name": "python3"
  },
  "language_info": {
   "codemirror_mode": {
    "name": "ipython",
    "version": 3
   },
   "file_extension": ".py",
   "mimetype": "text/x-python",
   "name": "python",
   "nbconvert_exporter": "python",
   "pygments_lexer": "ipython3",
   "version": "3.5.2"
  }
 },
 "nbformat": 4,
 "nbformat_minor": 1
}
