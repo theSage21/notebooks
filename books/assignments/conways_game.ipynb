{
 "cells": [
  {
   "cell_type": "code",
   "execution_count": 1,
   "metadata": {
    "ExecuteTime": {
     "end_time": "2016-09-01T00:05:31.791147",
     "start_time": "2016-09-01T00:05:29.038465"
    },
    "collapsed": false
   },
   "outputs": [
    {
     "name": "stdout",
     "output_type": "stream",
     "text": [
      "Populating the interactive namespace from numpy and matplotlib\n"
     ]
    }
   ],
   "source": [
    "import matplotlib.pyplot as plt\n",
    "import matplotlib.animation as animation\n",
    "import numpy as np\n",
    "from copy import deepcopy\n",
    "from IPython.display import HTML\n",
    "%pylab inline"
   ]
  },
  {
   "cell_type": "markdown",
   "metadata": {},
   "source": [
    "# Conway's game of life\n",
    "\n",
    "[Conway's game of life](https://en.wikipedia.org/wiki/Conway%27s_Game_of_Life) is a cellular automata."
   ]
  },
  {
   "cell_type": "code",
   "execution_count": 2,
   "metadata": {
    "ExecuteTime": {
     "end_time": "2016-09-01T00:05:31.809198",
     "start_time": "2016-09-01T00:05:31.794167"
    },
    "collapsed": true
   },
   "outputs": [],
   "source": [
    "class Conway:\n",
    "    def __init__(self, state, rules):\n",
    "        self.state = state\n",
    "        self.rows, self.cols = len(state), len(state[0])\n",
    "        self.rules = rules\n",
    "    \n",
    "    def step(self):\n",
    "        for rule in self.rules:\n",
    "            new_state = rule(self.state)\n",
    "        self.state = new_state\n",
    "    \n",
    "    def matrix(self):\n",
    "        return np.array(self.state)"
   ]
  },
  {
   "cell_type": "markdown",
   "metadata": {},
   "source": [
    "We simulate a forest fire here. 0 represents a dead cell, 1 represents a tree, 2 is a tree on fire.  \n",
    "The rules tell us how to proceede to the next step."
   ]
  },
  {
   "cell_type": "code",
   "execution_count": 3,
   "metadata": {
    "ExecuteTime": {
     "end_time": "2016-09-01T00:05:34.222215",
     "start_time": "2016-09-01T00:05:33.244337"
    },
    "collapsed": false
   },
   "outputs": [
    {
     "data": {
      "image/png": "[encoded data removed]",
      "text/plain": [
       "<matplotlib.figure.Figure at 0xafb4b4ec>"
      ]
     },
     "metadata": {},
     "output_type": "display_data"
    }
   ],
   "source": [
    "initial_state = [[1, 1, 1, 1, 1, 1, 1, 1, 1, 1, 1, 1, 1, 1, 1, 1, 1, 1],\n",
    "                [1, 1, 1, 1, 1, 1, 1, 1, 1, 1, 1, 1, 1, 1, 1, 1, 1, 1],\n",
    "                [1, 1, 1, 1, 1, 1, 1, 1, 1, 1, 1, 1, 1, 1, 1, 1, 2, 2],\n",
    "                [1, 1, 1, 1, 1, 1, 1, 1, 1, 1, 1, 1, 1, 1, 1, 1, 1, 2],\n",
    "                [1, 1, 1, 1, 1, 1, 1, 1, 1, 1, 1, 1, 1, 0, 1, 1, 1, 1],\n",
    "                [1, 1, 1, 1, 1, 1, 0, 1, 1, 1, 1, 1, 1, 1, 1, 1, 1, 1],\n",
    "                [1, 1, 1, 1, 1, 1, 1, 1, 1, 1, 1, 1, 1, 1, 1, 1, 1, 1],\n",
    "                [1, 1, 1, 1, 1, 1, 1, 1, 1, 1, 1, 1, 1, 1, 1, 1, 1, 1],\n",
    "                [1, 1, 1, 1, 1, 1, 1, 1, 1, 1, 1, 1, 1, 1, 1, 1, 1, 1],\n",
    "                [1, 1, 1, 1, 1, 1, 1, 1, 1, 1, 1, 1, 1, 1, 1, 1, 1, 1],\n",
    "                [1, 1, 1, 1, 1, 1, 0, 1, 1, 1, 1, 1, 1, 2, 1, 1, 1, 1],\n",
    "                [1, 1, 2, 1, 1, 1, 1, 1, 1, 1, 1, 1, 1, 1, 1, 1, 1, 1],\n",
    "                [1, 1, 2, 1, 1, 1, 1, 1, 1, 1, 1, 1, 1, 1, 1, 1, 1, 1],\n",
    "                [1, 1, 2, 1, 1, 1, 0, 0, 1, 1, 1, 1, 1, 1, 1, 1, 1, 1],\n",
    "                [1, 1, 2, 1, 1, 1, 1, 0, 1, 1, 1, 1, 1, 1, 1, 1, 1, 1],\n",
    "                [1, 1, 0, 1, 1, 1, 1, 1, 1, 1, 1, 1, 1, 2, 1, 1, 1, 1],\n",
    "                [1, 1, 2, 1, 1, 1, 1, 1, 1, 1, 1, 1, 1, 1, 1, 1, 1, 1],\n",
    "                [1, 1, 2, 1, 1, 1, 1, 1, 1, 1, 1, 1, 1, 2, 1, 1, 1, 1],\n",
    "                [1, 1, 2, 1, 1, 1, 1, 1, 1, 1, 1, 1, 1, 1, 1, 1, 1, 1]]\n",
    "\n",
    "def get_nbd(state, r, c):\n",
    "    rp1, rm1 = min(r + 1, len(state) - 1), max(0, r - 1)\n",
    "    cp1, cm1 = min(c + 1, len(state[0]) - 1), max(0, c - 1)\n",
    "    \n",
    "    tl, t, tr = state[rm1][cm1], state[rm1][c], state[rm1][cp1]\n",
    "    l, r = state[r][cm1], state[r][cp1]\n",
    "    bl, b, br = state[rp1][cm1], state[rp1][c], state[rp1][cp1]\n",
    "    \n",
    "    return deepcopy((tl, t, tr, r, br, b, bl, l))\n",
    "    \n",
    "def spread_fire(state):\n",
    "    new_state = deepcopy(state)\n",
    "    for r, row in enumerate(state):\n",
    "        for c, val in enumerate(row):\n",
    "            fire_count = get_nbd(state, r, c).count(2)\n",
    "            prob = fire_count / 8.\n",
    "            if np.random.random() < prob:\n",
    "                if val != 0:\n",
    "                    new_state[r][c] = 2\n",
    "    return new_state\n",
    "rules = [spread_fire]\n",
    "\n",
    "c = Conway(initial_state, rules)\n",
    "\n",
    "def generate_data():\n",
    "    global c\n",
    "    c.step()\n",
    "    return c.matrix()\n",
    "\n",
    "def update(data):\n",
    "    mat.set_data(data)\n",
    "    return mat \n",
    "\n",
    "def data_gen():\n",
    "    while True:\n",
    "        yield generate_data()\n",
    "\n",
    "fig, ax = plt.subplots()\n",
    "mat = ax.matshow(generate_data())\n",
    "plt.colorbar(mat)\n",
    "ani = animation.FuncAnimation(fig, update, data_gen, interval=500,\n",
    "                              save_count=50)\n",
    "plt.show()"
   ]
  },
  {
   "cell_type": "code",
   "execution_count": 4,
   "metadata": {
    "ExecuteTime": {
     "end_time": "2016-09-01T00:05:42.165777",
     "start_time": "2016-09-01T00:05:35.276458"
    },
    "collapsed": false
   },
   "outputs": [],
   "source": [
    "ani.save('../../support/videos/forest_fire.mp4')"
   ]
  },
  {
   "cell_type": "markdown",
   "metadata": {},
   "source": [
    "![Animation](../../support/videos/forest_fire.mp4)"
   ]
  }
 ],
 "metadata": {
  "kernelspec": {
   "display_name": "Python 3",
   "language": "python",
   "name": "python3"
  },
  "language_info": {
   "codemirror_mode": {
    "name": "ipython",
    "version": 3
   },
   "file_extension": ".py",
   "mimetype": "text/x-python",
   "name": "python",
   "nbconvert_exporter": "python",
   "pygments_lexer": "ipython3",
   "version": "3.5.2"
  }
 },
 "nbformat": 4,
 "nbformat_minor": 1
}
