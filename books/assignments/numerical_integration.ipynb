{
 "cells": [
  {
   "cell_type": "code",
   "execution_count": 1,
   "metadata": {
    "ExecuteTime": {
     "end_time": "2016-08-22T18:56:31.551551",
     "start_time": "2016-08-22T18:56:27.476921"
    },
    "collapsed": false
   },
   "outputs": [
    {
     "name": "stdout",
     "output_type": "stream",
     "text": [
      "Populating the interactive namespace from numpy and matplotlib\n"
     ]
    }
   ],
   "source": [
    "import matplotlib.pyplot as plt\n",
    "import numpy as np\n",
    "from scipy.integrate import ode\n",
    "%pylab inline"
   ]
  },
  {
   "cell_type": "markdown",
   "metadata": {},
   "source": [
    "# Numerical integration\n",
    "When symbolic integration fails, we turn to numerical methods. This notebook shows a few numerical methods and their pros and cons.\n",
    "\n",
    "## Trapezoid Rule \n",
    "\n",
    "As shown in the [wiki](https://en.wikipedia.org/wiki/Trapezoidal_rule), the workhorse formula here is\n",
    "$$\\int _a ^b f(x)dx \\approx (b - a)\\left[\\frac {f(a) + f(b)}{2}\\right] $$Let's dive right into it. We will try and integrate the $sin(x)$ function."
   ]
  },
  {
   "cell_type": "code",
   "execution_count": 2,
   "metadata": {
    "ExecuteTime": {
     "end_time": "2016-08-22T19:10:55.828264",
     "start_time": "2016-08-22T19:10:55.811747"
    },
    "collapsed": true
   },
   "outputs": [],
   "source": [
    "def trapz(function, a, b, number_of_slices=10):\n",
    "    width = (b - a) / number_of_slices\n",
    "    start, total, end = a, 0, a + width\n",
    "    while end <= b:\n",
    "        total += function(start) + function(end)\n",
    "        start, end = end, end + width\n",
    "    approximation = (total / 2) * width\n",
    "    return approximation"
   ]
  },
  {
   "cell_type": "code",
   "execution_count": 3,
   "metadata": {
    "ExecuteTime": {
     "end_time": "2016-08-22T19:10:56.105836",
     "start_time": "2016-08-22T19:10:56.097198"
    },
    "collapsed": true
   },
   "outputs": [],
   "source": [
    "def candidate_function(x):\n",
    "    return np.sin(x)"
   ]
  },
  {
   "cell_type": "markdown",
   "metadata": {},
   "source": [
    "We know that $\\int _a ^b sin(x) = -cos(b) + cos(a)$. On taking **a** and **b** to be 0 and $\\pi$, we get the result of the integration to be $-cos(\\pi) + cos(0) = -(-1) + 1 = 2$"
   ]
  },
  {
   "cell_type": "code",
   "execution_count": 10,
   "metadata": {
    "ExecuteTime": {
     "end_time": "2016-08-22T19:11:23.708031",
     "start_time": "2016-08-22T19:11:23.698854"
    },
    "collapsed": false
   },
   "outputs": [
    {
     "data": {
      "text/plain": [
       "1.9835235375094544"
      ]
     },
     "execution_count": 10,
     "metadata": {},
     "output_type": "execute_result"
    }
   ],
   "source": [
    "a, b = 0, np.pi\n",
    "trapz(candidate_function, a, b)"
   ]
  },
  {
   "cell_type": "markdown",
   "metadata": {},
   "source": [
    "We see that the answer is close to the true value. To see just how close it comes with increase in the number of slices, we plot a graph."
   ]
  },
  {
   "cell_type": "code",
   "execution_count": 17,
   "metadata": {
    "ExecuteTime": {
     "end_time": "2016-08-22T19:15:09.185950",
     "start_time": "2016-08-22T19:15:08.792592"
    },
    "collapsed": false
   },
   "outputs": [
    {
     "data": {
      "text/plain": [
       "<matplotlib.text.Text at 0xa94b95ec>"
      ]
     },
     "execution_count": 17,
     "metadata": {},
     "output_type": "execute_result"
    },
    {
     "data": {
      "image/png": "[encoded data removed]",
      "text/plain": [
       "<matplotlib.figure.Figure at 0xa94a2b4c>"
      ]
     },
     "metadata": {},
     "output_type": "display_data"
    }
   ],
   "source": [
    "x = list(range(1, 31))\n",
    "y = [(2. - trapz(candidate_function, a, b, number_of_slices=i)) / 2 for i in x]\n",
    "plt.plot(x, y)\n",
    "plt.xlabel('Number of slices')\n",
    "plt.ylabel('Percentage error')\n",
    "plt.title('Error with increasing slice count')"
   ]
  },
  {
   "cell_type": "markdown",
   "metadata": {},
   "source": [
    "This is expected. However, with the decrease in the granularity of the candidate function, how does the number of slices needed to obtain less than 1% error change?  \n",
    "A good way to visualize why this is happening is this image:\n",
    "![image showing working of trapz function](https://upload.wikimedia.org/wikipedia/en/a/ab/Trapezium.gif)"
   ]
  },
  {
   "cell_type": "code",
   "execution_count": 39,
   "metadata": {
    "ExecuteTime": {
     "end_time": "2016-08-22T20:06:42.898690",
     "start_time": "2016-08-22T20:06:22.107434"
    },
    "collapsed": false
   },
   "outputs": [],
   "source": [
    "def candidate_gen(freq):\n",
    "    def candidate_function(x):\n",
    "        return np.sin(x * freq)\n",
    "    return candidate_function\n",
    "\n",
    "frequency_counts = np.arange(1, 20, 0.1)\n",
    "x, y = [], []\n",
    "for f in frequency_counts:\n",
    "    cf = candidate_gen(f)\n",
    "    true_value = ( -np.cos(b) + np.cos(a)) / f\n",
    "    x.append(f)\n",
    "    for slices in range(1, 200):\n",
    "        val = trapz(cf, a, b, number_of_slices=slices)\n",
    "        percent_error = abs((val - true_value) / true_value)\n",
    "        if percent_error < 0.1:\n",
    "            y.append(slices)\n",
    "            break\n",
    "    else:  # no value found\n",
    "        x.pop() # remove the added value\n",
    "assert len(x) == len(y)"
   ]
  },
  {
   "cell_type": "code",
   "execution_count": 41,
   "metadata": {
    "ExecuteTime": {
     "end_time": "2016-08-22T20:08:36.970170",
     "start_time": "2016-08-22T20:08:36.569562"
    },
    "collapsed": false
   },
   "outputs": [
    {
     "data": {
      "text/plain": [
       "<matplotlib.text.Text at 0xa90a244c>"
      ]
     },
     "execution_count": 41,
     "metadata": {},
     "output_type": "execute_result"
    },
    {
     "data": {
      "image/png": "[encoded data removed]",
      "text/plain": [
       "<matplotlib.figure.Figure at 0xa90fa66c>"
      ]
     },
     "metadata": {},
     "output_type": "display_data"
    }
   ],
   "source": [
    "plt.plot(x, y, '-o')\n",
    "plt.xlabel('frequency multiplier in Sin function')\n",
    "plt.ylabel('Number of slices taken to get %error < 1%')"
   ]
  },
  {
   "cell_type": "markdown",
   "metadata": {},
   "source": [
    "- The spikes you can see are periodic due to those points corresponding to zero. This is discussed in another notebook of mine which discusses numerical errors.\n",
    "- The increase in steps is linear\n",
    "\n",
    "## Euler's method\n",
    "As the wiki shows, this method approximates the function using polynomials and is the simplest Runge-Kutta method (we shall see this later on).  \n",
    "\n",
    "The idea is that while the curve is initially unknown, its starting point, which we denote by $A_0$, is known. Then, from the differential equation, the slope to the curve at $A_0$ can be computed, and so, the tangent line.  \n",
    "\n",
    "And then we repeat. In this demonstration we again use the candidate function defined above which was $\\sin{x}$."
   ]
  },
  {
   "cell_type": "code",
   "execution_count": null,
   "metadata": {
    "collapsed": true
   },
   "outputs": [],
   "source": [
    "def euler(derivative, initial, target, )"
   ]
  }
 ],
 "metadata": {
  "kernelspec": {
   "display_name": "Python 3",
   "language": "python",
   "name": "python3"
  },
  "language_info": {
   "codemirror_mode": {
    "name": "ipython",
    "version": 3
   },
   "file_extension": ".py",
   "mimetype": "text/x-python",
   "name": "python",
   "nbconvert_exporter": "python",
   "pygments_lexer": "ipython3",
   "version": "3.5.2"
  },
  "notify_time": "10"
 },
 "nbformat": 4,
 "nbformat_minor": 0
}
