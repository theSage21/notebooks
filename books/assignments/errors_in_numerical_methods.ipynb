{
 "cells": [
  {
   "cell_type": "markdown",
   "metadata": {
    "collapsed": true
   },
   "source": [
    "# Errors in Numerical Methods\n",
    "\n",
    "Numerical methods are useful when theoretical methods cannot find solutions to problems. However they suffer from some common sources of errors. This document attempts to be an indicative list."
   ]
  },
  {
   "cell_type": "markdown",
   "metadata": {},
   "source": [
    "### Errors\n",
    "\n",
    "- An error is `true_value - obtained_value`. It is the deviation from the true value\n",
    "- Sometimes it is only the magnitude which is relevant. In that case we use the **Absolute** error\n",
    "- Sometimes it is important relative to what the answer truly was. In that case **Relative** error is used."
   ]
  },
  {
   "cell_type": "markdown",
   "metadata": {},
   "source": [
    "## Floating Point Error\n",
    "\n",
    "One particular type of error is quiet relevant to us, thus I mention it here. Floating point error arises out of our need to represent inherently infinite representations of real numbers in finite bit strings.\n",
    "\n",
    "Any real number is actually written as an infinite expansion of an integer part, a decimal and an infinite decimal expansion.\n",
    "\n",
    "By the pigeon hole principle, it is unavoidable that the the same finite bit string represents an infinite number of real numbers.\n",
    "\n",
    "This causes small errors to compound and thus leads us to ever larger errors. A demonstration is given below."
   ]
  },
  {
   "cell_type": "code",
   "execution_count": 23,
   "metadata": {
    "ExecuteTime": {
     "end_time": "2016-07-19T21:48:10.995389",
     "start_time": "2016-07-19T21:48:10.989268"
    },
    "collapsed": false
   },
   "outputs": [
    {
     "name": "stdout",
     "output_type": "stream",
     "text": [
      "0.3333333333333333\n"
     ]
    }
   ],
   "source": [
    "x = 1.0 / 3.0\n",
    "print(x)"
   ]
  },
  {
   "cell_type": "markdown",
   "metadata": {},
   "source": [
    "As we can see, the fraction 1/3 is actually an infinite decimal expansion of 333333....\n",
    "\n",
    "However as we cannot represent that completely in a finite string, we might thus demonstrate a curious effect."
   ]
  },
  {
   "cell_type": "markdown",
   "metadata": {},
   "source": [
    "Say we want to get the fraction **1 / 729**.Some people may notice that $ 3 ^ 6 = 729 $. That is exactly what we want to demonstrate. The fraction $ \\frac{1}{729} = \\frac{1}{3 ^ 6}$ mathematically however when we calculate them in different ways below, we get different answers."
   ]
  },
  {
   "cell_type": "code",
   "execution_count": 25,
   "metadata": {
    "ExecuteTime": {
     "end_time": "2016-07-19T21:49:59.146187",
     "start_time": "2016-07-19T21:49:59.138508"
    },
    "collapsed": false
   },
   "outputs": [
    {
     "name": "stdout",
     "output_type": "stream",
     "text": [
      "0.0013717421124828531\n",
      "0.0013717421124828527\n"
     ]
    }
   ],
   "source": [
    "x = 1.0 / 3.0\n",
    "print(1.0 / 729.0)\n",
    "print(x ** 6)"
   ]
  },
  {
   "cell_type": "markdown",
   "metadata": {},
   "source": [
    "The later answer is less than the actual calculation since we have lost precision while repeatedly multiplying the original representation of $\\frac{1}{3}$ It is even more noticeable if we choose a larger power to raise 3 to. Say 8 for example."
   ]
  },
  {
   "cell_type": "code",
   "execution_count": 35,
   "metadata": {
    "ExecuteTime": {
     "end_time": "2016-07-19T21:52:35.359830",
     "start_time": "2016-07-19T21:52:35.351232"
    },
    "collapsed": false
   },
   "outputs": [
    {
     "name": "stdout",
     "output_type": "stream",
     "text": [
      "0.00015241579027587258\n",
      "0.0001524157902758725\n"
     ]
    }
   ],
   "source": [
    "x = 1.0 / 3.0\n",
    "print(1.0 / (3 ** 8))\n",
    "print(x ** 8)"
   ]
  },
  {
   "cell_type": "markdown",
   "metadata": {},
   "source": [
    "It is to avoid errors like these that libraries like [Theano](http://deeplearning.net/software/theano/) came into picture. They stabilize such calculations on a lower level making sure that these kinds of errors do not creep up on the scientist unaware.\n",
    "\n",
    "### Cumulative Error\n",
    "The above demonstration also showed us one other kind of error. Cumulative. Error which increases in magnitude as we perform more and more operations on the error-ful term. These are usually unintelligible as they only show up once they have become too large to ignore.\n",
    "\n",
    "### Truncation Error\n",
    "\n",
    "These occur because of truncation in the values of some finite/infinite terms. These can however be predicted due to the control we exert over the truncation of the values."
   ]
  }
 ],
 "metadata": {
  "kernelspec": {
   "display_name": "Python 3",
   "language": "python",
   "name": "python3"
  },
  "language_info": {
   "codemirror_mode": {
    "name": "ipython",
    "version": 3
   },
   "file_extension": ".py",
   "mimetype": "text/x-python",
   "name": "python",
   "nbconvert_exporter": "python",
   "pygments_lexer": "ipython3",
   "version": "3.5.2"
  }
 },
 "nbformat": 4,
 "nbformat_minor": 0
}
