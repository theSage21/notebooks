{
 "cells": [
  {
   "cell_type": "code",
   "execution_count": 1,
   "metadata": {
    "collapsed": false
   },
   "outputs": [
    {
     "name": "stderr",
     "output_type": "stream",
     "text": [
      "/home/arjoonn/dev/kaggle/env/lib/python3.5/site-packages/matplotlib/__init__.py:872: UserWarning: axes.color_cycle is deprecated and replaced with axes.prop_cycle; please use the latter.\n",
      "  warnings.warn(self.msg_depr % (key, alt_key))\n"
     ]
    }
   ],
   "source": [
    "import pandas as pd\n",
    "import numpy as np\n",
    "\n",
    "\n",
    "from sklearn.naive_bayes import GaussianNB\n",
    "import sklearn.pipeline\n",
    "import sklearn.grid_search\n",
    "import sklearn.metrics\n",
    "import sklearn.cross_validation as crossval\n",
    "\n",
    "import matplotlib.pyplot as plt\n",
    "import seaborn as sns\n",
    "%matplotlib inline"
   ]
  },
  {
   "cell_type": "code",
   "execution_count": 12,
   "metadata": {
    "collapsed": false
   },
   "outputs": [
    {
     "name": "stdout",
     "output_type": "stream",
     "text": [
      "<class 'pandas.core.frame.DataFrame'>\n",
      "Int64Index: 132 entries, 0 to 131\n",
      "Data columns (total 5 columns):\n",
      "S1       132 non-null float64\n",
      "S2       132 non-null float64\n",
      "S3       132 non-null float64\n",
      "S4       132 non-null float64\n",
      "class    132 non-null int64\n",
      "dtypes: float64(4), int64(1)\n",
      "memory usage: 6.2 KB\n"
     ]
    },
    {
     "data": {
      "text/html": [
       "<div>\n",
       "<table border=\"1\" class=\"dataframe\">\n",
       "  <thead>\n",
       "    <tr style=\"text-align: right;\">\n",
       "      <th></th>\n",
       "      <th>S1</th>\n",
       "      <th>S2</th>\n",
       "      <th>S3</th>\n",
       "      <th>S4</th>\n",
       "      <th>class</th>\n",
       "    </tr>\n",
       "  </thead>\n",
       "  <tbody>\n",
       "    <tr>\n",
       "      <th>count</th>\n",
       "      <td>132.000000</td>\n",
       "      <td>132.000000</td>\n",
       "      <td>132.000000</td>\n",
       "      <td>132.000000</td>\n",
       "      <td>132.000000</td>\n",
       "    </tr>\n",
       "    <tr>\n",
       "      <th>mean</th>\n",
       "      <td>7.006439</td>\n",
       "      <td>6.958864</td>\n",
       "      <td>7.093561</td>\n",
       "      <td>6.469697</td>\n",
       "      <td>0.969697</td>\n",
       "    </tr>\n",
       "    <tr>\n",
       "      <th>std</th>\n",
       "      <td>0.841445</td>\n",
       "      <td>0.794846</td>\n",
       "      <td>0.828554</td>\n",
       "      <td>0.780872</td>\n",
       "      <td>0.780872</td>\n",
       "    </tr>\n",
       "    <tr>\n",
       "      <th>min</th>\n",
       "      <td>5.500000</td>\n",
       "      <td>5.500000</td>\n",
       "      <td>5.500000</td>\n",
       "      <td>5.500000</td>\n",
       "      <td>0.000000</td>\n",
       "    </tr>\n",
       "    <tr>\n",
       "      <th>25%</th>\n",
       "      <td>6.465000</td>\n",
       "      <td>6.400000</td>\n",
       "      <td>6.685000</td>\n",
       "      <td>5.500000</td>\n",
       "      <td>0.000000</td>\n",
       "    </tr>\n",
       "    <tr>\n",
       "      <th>50%</th>\n",
       "      <td>6.895000</td>\n",
       "      <td>6.900000</td>\n",
       "      <td>7.150000</td>\n",
       "      <td>6.500000</td>\n",
       "      <td>1.000000</td>\n",
       "    </tr>\n",
       "    <tr>\n",
       "      <th>75%</th>\n",
       "      <td>7.600000</td>\n",
       "      <td>7.562500</td>\n",
       "      <td>7.625000</td>\n",
       "      <td>7.500000</td>\n",
       "      <td>2.000000</td>\n",
       "    </tr>\n",
       "    <tr>\n",
       "      <th>max</th>\n",
       "      <td>8.960000</td>\n",
       "      <td>8.800000</td>\n",
       "      <td>9.010000</td>\n",
       "      <td>7.500000</td>\n",
       "      <td>2.000000</td>\n",
       "    </tr>\n",
       "  </tbody>\n",
       "</table>\n",
       "</div>"
      ],
      "text/plain": [
       "               S1          S2          S3          S4       class\n",
       "count  132.000000  132.000000  132.000000  132.000000  132.000000\n",
       "mean     7.006439    6.958864    7.093561    6.469697    0.969697\n",
       "std      0.841445    0.794846    0.828554    0.780872    0.780872\n",
       "min      5.500000    5.500000    5.500000    5.500000    0.000000\n",
       "25%      6.465000    6.400000    6.685000    5.500000    0.000000\n",
       "50%      6.895000    6.900000    7.150000    6.500000    1.000000\n",
       "75%      7.600000    7.562500    7.625000    7.500000    2.000000\n",
       "max      8.960000    8.800000    9.010000    7.500000    2.000000"
      ]
     },
     "execution_count": 12,
     "metadata": {},
     "output_type": "execute_result"
    }
   ],
   "source": [
    "gpa = pd.read_csv('gpa.csv')\n",
    "gpa = gpa.drop('slno', 1)\n",
    "\n",
    "gpa['class'] = gpa['class'].map({6.5: 0, 7.5: 1, 8.5: 2})\n",
    "gpa.info()\n",
    "gpa.describe()"
   ]
  },
  {
   "cell_type": "code",
   "execution_count": 13,
   "metadata": {
    "collapsed": false
   },
   "outputs": [
    {
     "data": {
      "text/plain": [
       "array([[<matplotlib.axes._subplots.AxesSubplot object at 0xae22d9ec>,\n",
       "        <matplotlib.axes._subplots.AxesSubplot object at 0xadfb158c>],\n",
       "       [<matplotlib.axes._subplots.AxesSubplot object at 0xadfc238c>,\n",
       "        <matplotlib.axes._subplots.AxesSubplot object at 0xae070dac>],\n",
       "       [<matplotlib.axes._subplots.AxesSubplot object at 0xadf5d2ac>,\n",
       "        <matplotlib.axes._subplots.AxesSubplot object at 0xadf7f04c>]], dtype=object)"
      ]
     },
     "execution_count": 13,
     "metadata": {},
     "output_type": "execute_result"
    },
    {
     "data": {
      "image/png": "[encoded data removed]",
      "text/plain": [
       "<matplotlib.figure.Figure at 0xae283e2c>"
      ]
     },
     "metadata": {},
     "output_type": "display_data"
    }
   ],
   "source": [
    "gpa.hist(figsize=(7, 7))"
   ]
  },
  {
   "cell_type": "code",
   "execution_count": 14,
   "metadata": {
    "collapsed": false
   },
   "outputs": [
    {
     "data": {
      "text/plain": [
       "<matplotlib.axes._subplots.AxesSubplot at 0xadd66fac>"
      ]
     },
     "execution_count": 14,
     "metadata": {},
     "output_type": "execute_result"
    },
    {
     "data": {
      "image/png": "[encoded data removed]",
      "text/plain": [
       "<matplotlib.figure.Figure at 0xae076d8c>"
      ]
     },
     "metadata": {},
     "output_type": "display_data"
    }
   ],
   "source": [
    "plt.figure(figsize=(7, 7))\n",
    "pd.tools.plotting.radviz(gpa, 'class', color=['r', 'g', 'b'])"
   ]
  },
  {
   "cell_type": "code",
   "execution_count": 22,
   "metadata": {
    "collapsed": false
   },
   "outputs": [
    {
     "name": "stdout",
     "output_type": "stream",
     "text": [
      "[ 1.  1.  1.]\n"
     ]
    }
   ],
   "source": [
    "clf = GaussianNB()\n",
    "score = crossval.cross_val_score(clf, gpa.drop('class', 1), gpa['class'], scoring='accuracy')\n",
    "print(score)"
   ]
  }
 ],
 "metadata": {
  "kernelspec": {
   "display_name": "Python 3",
   "language": "python",
   "name": "python3"
  },
  "language_info": {
   "codemirror_mode": {
    "name": "ipython",
    "version": 3
   },
   "file_extension": ".py",
   "mimetype": "text/x-python",
   "name": "python",
   "nbconvert_exporter": "python",
   "pygments_lexer": "ipython3",
   "version": "3.5.1"
  }
 },
 "nbformat": 4,
 "nbformat_minor": 0
}
