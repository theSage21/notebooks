{
 "cells": [
  {
   "cell_type": "code",
   "execution_count": 2,
   "metadata": {
    "collapsed": false
   },
   "outputs": [],
   "source": [
    "import pandas as pd\n",
    "import numpy as np\n",
    "\n",
    "\n",
    "from sklearn.naive_bayes import GaussianNB\n",
    "import sklearn.pipeline\n",
    "import sklearn.grid_search\n",
    "import sklearn.metrics\n",
    "\n",
    "import matplotlib.pyplot as plt\n",
    "import seaborn as sns\n",
    "%matplotlib inline"
   ]
  },
  {
   "cell_type": "code",
   "execution_count": 15,
   "metadata": {
    "collapsed": false
   },
   "outputs": [
    {
     "name": "stdout",
     "output_type": "stream",
     "text": [
      "<class 'pandas.core.frame.DataFrame'>\n",
      "Int64Index: 132 entries, 0 to 131\n",
      "Data columns (total 4 columns):\n",
      "S1S2     132 non-null float64\n",
      "S3       132 non-null float64\n",
      "S4       132 non-null float64\n",
      "class    132 non-null int64\n",
      "dtypes: float64(3), int64(1)\n",
      "memory usage: 5.2 KB\n"
     ]
    },
    {
     "data": {
      "text/html": [
       "<div>\n",
       "<table border=\"1\" class=\"dataframe\">\n",
       "  <thead>\n",
       "    <tr style=\"text-align: right;\">\n",
       "      <th></th>\n",
       "      <th>S1S2</th>\n",
       "      <th>S3</th>\n",
       "      <th>S4</th>\n",
       "      <th>class</th>\n",
       "    </tr>\n",
       "  </thead>\n",
       "  <tbody>\n",
       "    <tr>\n",
       "      <th>count</th>\n",
       "      <td>132.000000</td>\n",
       "      <td>132.000000</td>\n",
       "      <td>132.000000</td>\n",
       "      <td>132.000000</td>\n",
       "    </tr>\n",
       "    <tr>\n",
       "      <th>mean</th>\n",
       "      <td>7.006439</td>\n",
       "      <td>6.958864</td>\n",
       "      <td>7.093561</td>\n",
       "      <td>0.969697</td>\n",
       "    </tr>\n",
       "    <tr>\n",
       "      <th>std</th>\n",
       "      <td>0.841445</td>\n",
       "      <td>0.794846</td>\n",
       "      <td>0.828554</td>\n",
       "      <td>0.780872</td>\n",
       "    </tr>\n",
       "    <tr>\n",
       "      <th>min</th>\n",
       "      <td>5.500000</td>\n",
       "      <td>5.500000</td>\n",
       "      <td>5.500000</td>\n",
       "      <td>0.000000</td>\n",
       "    </tr>\n",
       "    <tr>\n",
       "      <th>25%</th>\n",
       "      <td>6.465000</td>\n",
       "      <td>6.400000</td>\n",
       "      <td>6.685000</td>\n",
       "      <td>0.000000</td>\n",
       "    </tr>\n",
       "    <tr>\n",
       "      <th>50%</th>\n",
       "      <td>6.895000</td>\n",
       "      <td>6.900000</td>\n",
       "      <td>7.150000</td>\n",
       "      <td>1.000000</td>\n",
       "    </tr>\n",
       "    <tr>\n",
       "      <th>75%</th>\n",
       "      <td>7.600000</td>\n",
       "      <td>7.562500</td>\n",
       "      <td>7.625000</td>\n",
       "      <td>2.000000</td>\n",
       "    </tr>\n",
       "    <tr>\n",
       "      <th>max</th>\n",
       "      <td>8.960000</td>\n",
       "      <td>8.800000</td>\n",
       "      <td>9.010000</td>\n",
       "      <td>2.000000</td>\n",
       "    </tr>\n",
       "  </tbody>\n",
       "</table>\n",
       "</div>"
      ],
      "text/plain": [
       "             S1S2          S3          S4       class\n",
       "count  132.000000  132.000000  132.000000  132.000000\n",
       "mean     7.006439    6.958864    7.093561    0.969697\n",
       "std      0.841445    0.794846    0.828554    0.780872\n",
       "min      5.500000    5.500000    5.500000    0.000000\n",
       "25%      6.465000    6.400000    6.685000    0.000000\n",
       "50%      6.895000    6.900000    7.150000    1.000000\n",
       "75%      7.600000    7.562500    7.625000    2.000000\n",
       "max      8.960000    8.800000    9.010000    2.000000"
      ]
     },
     "execution_count": 15,
     "metadata": {},
     "output_type": "execute_result"
    }
   ],
   "source": [
    "gpa = pd.read_csv('gpa.csv')\n",
    "gpa = gpa.drop('slno', 1)\n",
    "gpa['class'] = gpa.low.map({5.5: 0,\n",
    "                            6.5: 1,\n",
    "                            7.5: 2\n",
    "                           })\n",
    "gpa.drop(['low', 'high'], 1, inplace=True)\n",
    "gpa.info()\n",
    "gpa.describe()"
   ]
  },
  {
   "cell_type": "code",
   "execution_count": 16,
   "metadata": {
    "collapsed": false
   },
   "outputs": [
    {
     "data": {
      "text/plain": [
       "array([[<matplotlib.axes._subplots.AxesSubplot object at 0xae6bebcc>,\n",
       "        <matplotlib.axes._subplots.AxesSubplot object at 0xae60f86c>],\n",
       "       [<matplotlib.axes._subplots.AxesSubplot object at 0xae63222c>,\n",
       "        <matplotlib.axes._subplots.AxesSubplot object at 0xae5db1ec>]], dtype=object)"
      ]
     },
     "execution_count": 16,
     "metadata": {},
     "output_type": "execute_result"
    },
    {
     "data": {
      "image/png": "[encoded data removed]",
      "text/plain": [
       "<matplotlib.figure.Figure at 0xae64e08c>"
      ]
     },
     "metadata": {},
     "output_type": "display_data"
    }
   ],
   "source": [
    "gpa.hist(figsize=(7, 7))"
   ]
  },
  {
   "cell_type": "code",
   "execution_count": 17,
   "metadata": {
    "collapsed": false
   },
   "outputs": [
    {
     "data": {
      "text/plain": [
       "<matplotlib.axes._subplots.AxesSubplot at 0xae623eec>"
      ]
     },
     "execution_count": 17,
     "metadata": {},
     "output_type": "execute_result"
    },
    {
     "data": {
      "image/png": "[encoded data removed]",
      "text/plain": [
       "<matplotlib.figure.Figure at 0xae3e8c8c>"
      ]
     },
     "metadata": {},
     "output_type": "display_data"
    }
   ],
   "source": [
    "plt.figure(figsize=(7, 7))\n",
    "pd.tools.plotting.radviz(gpa, 'class', color=['r', 'g', 'b'])"
   ]
  },
  {
   "cell_type": "code",
   "execution_count": 18,
   "metadata": {
    "collapsed": false
   },
   "outputs": [
    {
     "data": {
      "text/plain": [
       "<matplotlib.axes._subplots.AxesSubplot at 0xae5d560c>"
      ]
     },
     "execution_count": 18,
     "metadata": {},
     "output_type": "execute_result"
    },
    {
     "data": {
      "image/png": "[encoded data removed]",
      "text/plain": [
       "<matplotlib.figure.Figure at 0xae5066ec>"
      ]
     },
     "metadata": {},
     "output_type": "display_data"
    }
   ],
   "source": [
    "clf = GaussianNB()\n",
    "mask = np.random.random(len(gpa)) < 0.7\n",
    "train, validate = gpa[mask], gpa[~mask]\n",
    "\n",
    "clf.fit(train.drop('class', 1), train['class'])\n",
    "\n",
    "predictions = clf.predict(validate.drop('class', 1))\n",
    "sns.heatmap(sklearn.metrics.confusion_matrix(validate['class'], predictions))"
   ]
  }
 ],
 "metadata": {
  "kernelspec": {
   "display_name": "Python 3",
   "language": "python",
   "name": "python3"
  },
  "language_info": {
   "codemirror_mode": {
    "name": "ipython",
    "version": 3
   },
   "file_extension": ".py",
   "mimetype": "text/x-python",
   "name": "python",
   "nbconvert_exporter": "python",
   "pygments_lexer": "ipython3",
   "version": "3.5.1"
  }
 },
 "nbformat": 4,
 "nbformat_minor": 0
}
