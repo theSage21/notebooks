{
 "cells": [
  {
   "cell_type": "code",
   "execution_count": 16,
   "metadata": {
    "collapsed": true
   },
   "outputs": [],
   "source": [
    "import random\n",
    "import ujson\n",
    "from rlagents import MCAgent, QLAgent, benchmark\n",
    "import seaborn as sns\n",
    "import pandas as pd\n",
    "from tqdm import tqdm_notebook, tqdm\n",
    "%matplotlib inline"
   ]
  },
  {
   "cell_type": "markdown",
   "metadata": {},
   "source": [
    "## TuringLearner\n",
    "Can a Reinforcement Agent learn to perform right shift using a Turing Machine?\n",
    "\n",
    "Turing machines represent a powerful class of computing machines. The Human input to those machines is that part of the machine which contains it's 'programming'. Namely the part which says what action to take."
   ]
  },
  {
   "cell_type": "code",
   "execution_count": 2,
   "metadata": {},
   "outputs": [
    {
     "data": {
      "text/plain": [
       "(0, 0, 11)"
      ]
     },
     "execution_count": 2,
     "metadata": {},
     "output_type": "execute_result"
    }
   ],
   "source": [
    "from rlagents import __version__\n",
    "__version__"
   ]
  },
  {
   "cell_type": "code",
   "execution_count": 3,
   "metadata": {},
   "outputs": [
    {
     "name": "stdout",
     "output_type": "stream",
     "text": [
      "[<rlagents.mc.MCAgent object at 0x7f3651833208>, <QLearner>]\n"
     ]
    }
   ],
   "source": [
    "actions = ['<', '>', 'r', 'w', 'stop']\n",
    "agent_list = [MCAgent(actions), QLAgent(actions)]\n",
    "print(agent_list)"
   ]
  },
  {
   "cell_type": "code",
   "execution_count": 4,
   "metadata": {},
   "outputs": [],
   "source": [
    "class TuringWorld:\n",
    "    def __init__(self, iogen):\n",
    "        self.iogen = iogen\n",
    "        self.reset()\n",
    "    \n",
    "    def reset(self):\n",
    "        self.inp, self.out = self.iogen()\n",
    "        self.out_tape = list(self.out)\n",
    "        self.tape = list(self.inp)\n",
    "        self.rlimit = len(self.tape) - 1\n",
    "        self.head = 0\n",
    "        self.cache = '0'\n",
    "        return [self.tape[self.head], self.cache, self.head]\n",
    "    \n",
    "    def copy(self):\n",
    "        t = TuringWorld(self.iogen)\n",
    "        t.tape = self.tape\n",
    "        t.head = self.head\n",
    "        t.cache = self.cache\n",
    "        t.inp, t.out = self.inp, self.out\n",
    "        t.out_tape = self.out_tape\n",
    "        return t\n",
    "\n",
    "    def step(self, act):\n",
    "        done = False\n",
    "        if act == '<':\n",
    "            self.head = max(0, self.head - 1)\n",
    "        elif act == '>':\n",
    "            self.head = min(self.head + 1, self.rlimit)\n",
    "        elif act == 'r':\n",
    "            self.cache = self.tape[self.head]\n",
    "        elif act == 'w':\n",
    "            self.tape[self.head] = self.cache\n",
    "        elif act == 'stop':\n",
    "            done = True\n",
    "        rew = 1 if self.tape == self.out_tape else 0\n",
    "        return [self.tape[self.head], self.cache, self.head], rew ,done, None"
   ]
  },
  {
   "cell_type": "code",
   "execution_count": 5,
   "metadata": {},
   "outputs": [],
   "source": [
    "def divbytwogen():\n",
    "    a = int(random.random()*10)\n",
    "    b = a // 2\n",
    "    a, b = bin(a)[2:], bin(b)[2:]\n",
    "    return a, b\n",
    "world_list = [TuringWorld(divbytwogen)]"
   ]
  },
  {
   "cell_type": "markdown",
   "metadata": {},
   "source": [
    "## Running bench"
   ]
  },
  {
   "cell_type": "code",
   "execution_count": 9,
   "metadata": {},
   "outputs": [
    {
     "name": "stdout",
     "output_type": "stream",
     "text": [
      "DataDir Exists\n",
      "Building Dispatch list...\n",
      "Running experiments...\n"
     ]
    },
    {
     "name": "stderr",
     "output_type": "stream",
     "text": [
      "100%|██████████| 200/200 [02:50<00:00,  1.55it/s]"
     ]
    },
    {
     "name": "stdout",
     "output_type": "stream",
     "text": [
      "Experiments completed...\n"
     ]
    },
    {
     "name": "stderr",
     "output_type": "stream",
     "text": [
      "\n"
     ]
    }
   ],
   "source": [
    "paths = benchmark(agent_list, world_list, 5000, None, 500)"
   ]
  },
  {
   "cell_type": "code",
   "execution_count": 10,
   "metadata": {},
   "outputs": [
    {
     "name": "stderr",
     "output_type": "stream",
     "text": [
      "100%|██████████| 200/200 [00:01<00:00, 109.97it/s]\n"
     ]
    }
   ],
   "source": [
    "data = []\n",
    "for p in tqdm(paths):\n",
    "    with open(p, 'r') as fl:\n",
    "        d = ujson.load(fl)\n",
    "        data.extend(d)"
   ]
  },
  {
   "cell_type": "markdown",
   "metadata": {},
   "source": [
    "## Result Plotting"
   ]
  },
  {
   "cell_type": "code",
   "execution_count": 28,
   "metadata": {},
   "outputs": [
    {
     "name": "stdout",
     "output_type": "stream",
     "text": [
      "<class 'pandas.core.frame.DataFrame'>\n",
      "RangeIndex: 1000000 entries, 0 to 999999\n",
      "Data columns (total 6 columns):\n",
      "runid    1000000 non-null object\n",
      "agent    1000000 non-null object\n",
      "world    1000000 non-null object\n",
      "ep       1000000 non-null int64\n",
      "rew      1000000 non-null float64\n",
      "trial    1000000 non-null int64\n",
      "dtypes: float64(1), int64(2), object(3)\n",
      "memory usage: 45.8+ MB\n"
     ]
    }
   ],
   "source": [
    "df = pd.DataFrame(data, columns=['runid', 'agent', 'world', 'ep', 'rew', 'trial'])\n",
    "df.ep = df.ep.astype(int)\n",
    "df.rew = df.rew.astype(float)\n",
    "df.trial = df.trial.astype(int)\n",
    "df.info()"
   ]
  },
  {
   "cell_type": "code",
   "execution_count": 32,
   "metadata": {},
   "outputs": [
    {
     "data": {
      "text/plain": [
       "<matplotlib.axes._subplots.AxesSubplot at 0x7f35324c3438>"
      ]
     },
     "execution_count": 32,
     "metadata": {},
     "output_type": "execute_result"
    },
    {
     "data": {
      "image/png": "[encoded data removed]",
      "text/plain": [
       "<matplotlib.figure.Figure at 0x7f35324cebe0>"
      ]
     },
     "metadata": {},
     "output_type": "display_data"
    }
   ],
   "source": [
    "sns.tsplot(df, time='ep', value='rew', unit='trial', condition='agent')"
   ]
  },
  {
   "cell_type": "code",
   "execution_count": null,
   "metadata": {
    "collapsed": true
   },
   "outputs": [],
   "source": [
    "!rm -rf D"
   ]
  }
 ],
 "metadata": {
  "kernelspec": {
   "display_name": "Python 3",
   "language": "python",
   "name": "python3"
  },
  "language_info": {
   "codemirror_mode": {
    "name": "ipython",
    "version": 3
   },
   "file_extension": ".py",
   "mimetype": "text/x-python",
   "name": "python",
   "nbconvert_exporter": "python",
   "pygments_lexer": "ipython3",
   "version": "3.5.3"
  }
 },
 "nbformat": 4,
 "nbformat_minor": 2
}
