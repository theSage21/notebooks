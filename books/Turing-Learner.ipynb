{
 "cells": [
  {
   "cell_type": "code",
   "execution_count": 2,
   "metadata": {
    "collapsed": true
   },
   "outputs": [],
   "source": [
    "import os\n",
    "import random\n",
    "import ujson as json\n",
    "from rlagents import QLAgent, benchmark, make_df\n",
    "import seaborn as sns\n",
    "import pandas as pd\n",
    "from tqdm import tqdm_notebook, tqdm\n",
    "from functools import reduce\n",
    "\n",
    "import numpy as np\n",
    "import warnings\n",
    "warnings.filterwarnings('ignore')\n",
    "from sklearn.metrics import f1_score\n",
    "import matplotlib.pyplot as plt\n",
    "%matplotlib inline"
   ]
  },
  {
   "cell_type": "markdown",
   "metadata": {},
   "source": [
    "## TuringLearner\n",
    "Can a Reinforcement Agent learn to perform right shift using a Turing Machine?\n",
    "\n",
    "Turing machines represent a powerful class of computing machines. The Human input to those machines is that part of the machine which contains it's 'programming'. Namely the part which says what action to take."
   ]
  },
  {
   "cell_type": "code",
   "execution_count": 3,
   "metadata": {},
   "outputs": [
    {
     "data": {
      "text/plain": [
       "(0, 0, 24)"
      ]
     },
     "execution_count": 3,
     "metadata": {},
     "output_type": "execute_result"
    }
   ],
   "source": [
    "from rlagents import __version__\n",
    "__version__"
   ]
  },
  {
   "cell_type": "markdown",
   "metadata": {},
   "source": [
    "## Turing Learner World"
   ]
  },
  {
   "cell_type": "code",
   "execution_count": 4,
   "metadata": {
    "collapsed": true
   },
   "outputs": [],
   "source": [
    "class TL:\n",
    "    def __init__(self, iogen, actions):\n",
    "        self.iogen = iogen\n",
    "        self.actions = actions\n",
    "        self.reset()\n",
    "    \n",
    "    def reset(self):\n",
    "        self.inp, self.expected = self.iogen()\n",
    "        self.rlimit = len(self.inp) - 1\n",
    "        self.head = 0\n",
    "        self.out = list(self.inp)\n",
    "        self.cache = self.inp[0]\n",
    "        self.comm = 0\n",
    "        self.done = False\n",
    "        return self.__obs()\n",
    "    \n",
    "    def __obs(self):\n",
    "        obs = [self.inp[self.head], self.out[self.head],\n",
    "               self.cache, self.comm]\n",
    "        return obs\n",
    "    \n",
    "    def step(self, actions):\n",
    "        if self.done:\n",
    "            raise Exception('Running done environment {}'.format(self.history) )\n",
    "        act, comm = actions  # Env action and communication action\n",
    "        rew = -1\n",
    "        self.done = (act == 'STOP')\n",
    "        if act == '>':\n",
    "            self.head = min(self.rlimit, self.head+1)\n",
    "        elif act == '<':\n",
    "            self.head = max(0, self.head - 1)\n",
    "        elif act == 'read':\n",
    "            self.cache = self.inp[self.head]\n",
    "        elif act[:5] == 'write':\n",
    "            self.out[self.head] = act[5:]\n",
    "        if self.done:\n",
    "            rew = sum(i==j for i, j in zip(self.expected, self.out))\n",
    "        obs = self.__obs() # Get the obs\n",
    "        self.comm = comm # Set commm for next iteration\n",
    "        return obs, rew, self.done, None\n",
    "    \n",
    "    def copy(self):\n",
    "        t = TL(self.iogen, self.actions)\n",
    "        return t"
   ]
  },
  {
   "cell_type": "code",
   "execution_count": 5,
   "metadata": {
    "collapsed": true
   },
   "outputs": [],
   "source": [
    "def baby_coref():\n",
    "    letters = 'abcdefghijklmnopqrtuvwxyz'\n",
    "    text = [random.choice(letters) for _ in range(50)]\n",
    "    labels = []\n",
    "    last_letter = None\n",
    "    for index, letter in enumerate(text):\n",
    "        lab = '-'\n",
    "        if last_letter is not None:\n",
    "            if last_letter == 'z' and letter == 'a':\n",
    "                lab = '+'\n",
    "        last_letter = letter\n",
    "        labels.append(lab)\n",
    "    assert len(text) == len(labels)\n",
    "    return text, labels"
   ]
  },
  {
   "cell_type": "code",
   "execution_count": 9,
   "metadata": {
    "collapsed": true
   },
   "outputs": [],
   "source": [
    " def check_fn(fn, letters, n_comm=2, trials=100):\n",
    "    actions = [(a, i)\n",
    "               for i in range(n_comm)\n",
    "               for l in letters\n",
    "               for a in ['<', '>', 'write'+l]]\n",
    "    actions += [('STOP', 0)]\n",
    "    actions = list(set(actions))\n",
    "    \n",
    "    wo = [TL(fn, actions)]\n",
    "    ag = [QLAgent(actions)]\n",
    "    \n",
    "    print('{:,} actions'.format(len(actions)))\n",
    "    print('Runing {}'.format(fn.__name__))\n",
    "    ! rm -rf DataDir/\n",
    "    paths = benchmark(ag, wo, 1000, None, trials)\n",
    "    df = make_df(paths)\n",
    "    return df"
   ]
  },
  {
   "cell_type": "code",
   "execution_count": 10,
   "metadata": {},
   "outputs": [],
   "source": [
    "def paint(df):\n",
    "    values = [(e, r) for e, r in dict(df.groupby('ep').rew.mean()).items()]\n",
    "    values.sort(key=lambda x: x[0])\n",
    "    v = np.array(values)\n",
    "    plt.plot(v[:, 0], v[:, 1])\n",
    "    plt.xlabel('Episodes')\n",
    "    plt.ylabel('Mean reward over {:,} trials'.format(df.trial.max()+1))"
   ]
  },
  {
   "cell_type": "markdown",
   "metadata": {},
   "source": [
    "## Position Tagging\n",
    "\n",
    "Here we try to teach it a function which depends only on position and not on the actual text."
   ]
  },
  {
   "cell_type": "code",
   "execution_count": 11,
   "metadata": {
    "collapsed": true
   },
   "outputs": [],
   "source": [
    "def periodic_pos():\n",
    "    letters = 'abcdefghijklmnopqrtuvwxyz'\n",
    "    text = [random.choice(letters) for _ in range(1000)]\n",
    "    labels = ['+' if (i%6==0) else '-' for i, letter in enumerate(text)]\n",
    "    return text, labels"
   ]
  },
  {
   "cell_type": "code",
   "execution_count": 13,
   "metadata": {},
   "outputs": [
    {
     "name": "stdout",
     "output_type": "stream",
     "text": [
      "9 actions\n",
      "Runing even_pos\n",
      "DataDir does not exist. Creating...\n",
      "Building Dispatch list...\n",
      "Running experiments...\n"
     ]
    },
    {
     "name": "stderr",
     "output_type": "stream",
     "text": [
      "100%|██████████| 100/100 [00:51<00:00,  3.01it/s]\n"
     ]
    },
    {
     "name": "stdout",
     "output_type": "stream",
     "text": [
      "Experiments completed...\n",
      "100 files\n",
      "Reading files...\n"
     ]
    },
    {
     "name": "stderr",
     "output_type": "stream",
     "text": [
      "                                                                                \r"
     ]
    },
    {
     "name": "stdout",
     "output_type": "stream",
     "text": [
      "Painting...\n"
     ]
    }
   ],
   "source": [
    "df = check_fn(even_pos, '+-')"
   ]
  },
  {
   "cell_type": "code",
   "execution_count": 14,
   "metadata": {},
   "outputs": [
    {
     "data": {
      "image/png": "[encoded data removed]",
      "text/plain": [
       "<matplotlib.figure.Figure at 0x7fa5a5e59278>"
      ]
     },
     "metadata": {},
     "output_type": "display_data"
    }
   ],
   "source": [
    "paint(df)"
   ]
  },
  {
   "cell_type": "markdown",
   "metadata": {},
   "source": [
    "## Index and text\n",
    "\n",
    "a task which depends on both index and task"
   ]
  },
  {
   "cell_type": "code",
   "execution_count": 15,
   "metadata": {
    "collapsed": true
   },
   "outputs": [],
   "source": [
    "def postext():\n",
    "    letters = 'abcdefghijklmnopqrtuvwxyz'\n",
    "    text = [random.choice(letters) for _ in range(1000)]\n",
    "    labels = ['+' if ((i%5==0 or i%7==0) and letter in 'abc') else '-' for i, letter in enumerate(text)]\n",
    "    return text, labels"
   ]
  },
  {
   "cell_type": "code",
   "execution_count": 17,
   "metadata": {},
   "outputs": [
    {
     "name": "stdout",
     "output_type": "stream",
     "text": [
      "9 actions\n",
      "Runing postext\n",
      "DataDir does not exist. Creating...\n",
      "Building Dispatch list...\n",
      "Running experiments...\n"
     ]
    },
    {
     "name": "stderr",
     "output_type": "stream",
     "text": [
      "100%|██████████| 100/100 [00:55<00:00,  2.29it/s]\n"
     ]
    },
    {
     "name": "stdout",
     "output_type": "stream",
     "text": [
      "Experiments completed...\n",
      "100 files\n",
      "Reading files...\n"
     ]
    },
    {
     "name": "stderr",
     "output_type": "stream",
     "text": [
      "                                                                                "
     ]
    },
    {
     "name": "stdout",
     "output_type": "stream",
     "text": [
      "Painting...\n"
     ]
    },
    {
     "name": "stderr",
     "output_type": "stream",
     "text": [
      "\r"
     ]
    }
   ],
   "source": [
    "df = check_fn(postext, '+-')"
   ]
  },
  {
   "cell_type": "code",
   "execution_count": 19,
   "metadata": {},
   "outputs": [
    {
     "data": {
      "image/png": "[encoded data removed]",
      "text/plain": [
       "<matplotlib.figure.Figure at 0x7fa5a431bfd0>"
      ]
     },
     "metadata": {},
     "output_type": "display_data"
    }
   ],
   "source": [
    "paint(df)"
   ]
  },
  {
   "cell_type": "markdown",
   "metadata": {},
   "source": [
    "\n",
    "## Actual tasks\n",
    "\n",
    "We see that these tasks converge to the theoretical max of 0. At this time we are confident enough to try and approach real tasks for this method. We will attempt to perform POS tagging on some corpus"
   ]
  },
  {
   "cell_type": "code",
   "execution_count": 20,
   "metadata": {
    "collapsed": true
   },
   "outputs": [],
   "source": [
    "def sorting():\n",
    "    letters = 'abcdefghijklmnopqrtuvwxyz'\n",
    "    text = [random.choice(letters) for _ in range(20)]\n",
    "    labels = list(sorted(text))\n",
    "    return text, labels"
   ]
  },
  {
   "cell_type": "code",
   "execution_count": 21,
   "metadata": {},
   "outputs": [
    {
     "name": "stdout",
     "output_type": "stream",
     "text": [
      "55 actions\n",
      "Runing sorting\n",
      "DataDir does not exist. Creating...\n",
      "Building Dispatch list...\n",
      "Running experiments...\n"
     ]
    },
    {
     "name": "stderr",
     "output_type": "stream",
     "text": [
      "100%|██████████| 100/100 [01:11<00:00,  1.90it/s]"
     ]
    },
    {
     "name": "stdout",
     "output_type": "stream",
     "text": [
      "Experiments completed...\n",
      "100 files\n",
      "Reading files...\n"
     ]
    },
    {
     "name": "stderr",
     "output_type": "stream",
     "text": [
      "\n",
      "                                                                                "
     ]
    },
    {
     "name": "stdout",
     "output_type": "stream",
     "text": [
      "Painting...\n"
     ]
    },
    {
     "name": "stderr",
     "output_type": "stream",
     "text": [
      "\r"
     ]
    }
   ],
   "source": [
    "letters = 'abcdefghijklmnopqrtuvwxyz'\n",
    "df = check_fn(sorting, letters)"
   ]
  },
  {
   "cell_type": "code",
   "execution_count": 22,
   "metadata": {},
   "outputs": [
    {
     "data": {
      "image/png": "[encoded data removed]",
      "text/plain": [
       "<matplotlib.figure.Figure at 0x7fa5a43d4eb8>"
      ]
     },
     "metadata": {},
     "output_type": "display_data"
    }
   ],
   "source": [
    "paint(df)"
   ]
  },
  {
   "cell_type": "markdown",
   "metadata": {},
   "source": [
    "## Learning nested functions\n",
    "\n",
    "We attempt to make it learn nested functions"
   ]
  },
  {
   "cell_type": "code",
   "execution_count": 42,
   "metadata": {},
   "outputs": [
    {
     "name": "stdout",
     "output_type": "stream",
     "text": [
      "18hdpwnhdpwnhdpwnhdpwnhdpwnhdpwnhdpwnhdpwnhdpwnhdpwnhdpwnhdpwnhdpwnhdpwnhdpwnhdpwnhdpwnhdpwn 91\n",
      "hdpwnhdpwnhdpwnhdpwnhdpwnhdpwnhdpwnhdpwnhdpwnhdpwnhdpwnhdpwnhdpwnhdpwnhdpwnhdpwnhdpwnhdpwna 91\n"
     ]
    }
   ],
   "source": [
    "def nestedcopy():\n",
    "    letters = 'abcdefghijklmnopqrtuvwxyz'\n",
    "    text = [random.choice(letters) for _ in range(5)]\n",
    "    rep = random.choice(range(20))\n",
    "    inp = [str(rep)] + text*rep\n",
    "    label = text*rep + ['a']\n",
    "    return inp, label\n",
    "a, b = nestedcopy()\n",
    "print(''.join(a), len(a))\n",
    "print(''.join(b), len(b))"
   ]
  },
  {
   "cell_type": "code",
   "execution_count": 43,
   "metadata": {},
   "outputs": [
    {
     "name": "stdout",
     "output_type": "stream",
     "text": [
      "271 actions\n",
      "Runing nestedcopy\n",
      "DataDir does not exist. Creating...\n",
      "Building Dispatch list...\n",
      "Running experiments...\n"
     ]
    },
    {
     "name": "stderr",
     "output_type": "stream",
     "text": [
      " 39%|███▉      | 39/100 [40:13<46:21, 45.60s/it]  Process ForkPoolWorker-25:\n",
      "Process ForkPoolWorker-26:\n",
      "Process ForkPoolWorker-27:\n",
      "Traceback (most recent call last):\n",
      "Traceback (most recent call last):\n",
      "  File \"/usr/lib/python3.5/multiprocessing/process.py\", line 249, in _bootstrap\n",
      "    self.run()\n",
      "  File \"/usr/lib/python3.5/multiprocessing/process.py\", line 249, in _bootstrap\n",
      "    self.run()\n",
      "Process ForkPoolWorker-28:\n",
      "  File \"/usr/lib/python3.5/multiprocessing/process.py\", line 93, in run\n",
      "    self._target(*self._args, **self._kwargs)\n",
      "  File \"/usr/lib/python3.5/multiprocessing/pool.py\", line 119, in worker\n",
      "    result = (True, func(*args, **kwds))\n",
      "Traceback (most recent call last):\n",
      "Traceback (most recent call last):\n",
      "  File \"/usr/lib/python3.5/multiprocessing/process.py\", line 249, in _bootstrap\n",
      "    self.run()\n",
      "  File \"/usr/lib/python3.5/multiprocessing/process.py\", line 93, in run\n",
      "    self._target(*self._args, **self._kwargs)\n",
      "  File \"/usr/lib/python3.5/multiprocessing/process.py\", line 249, in _bootstrap\n",
      "    self.run()\n",
      "  File \"/usr/lib/python3.5/multiprocessing/process.py\", line 93, in run\n",
      "    self._target(*self._args, **self._kwargs)\n",
      "  File \"/usr/lib/python3.5/multiprocessing/pool.py\", line 119, in worker\n",
      "    result = (True, func(*args, **kwds))\n",
      "  File \"/home/arjoonn/Desktop/rlagents/rlagents/tools.py\", line 34, in run_n_episodes\n",
      "    act = agent.get_action(obs)\n",
      "  File \"/usr/lib/python3.5/multiprocessing/process.py\", line 93, in run\n",
      "    self._target(*self._args, **self._kwargs)\n",
      "  File \"/usr/lib/python3.5/multiprocessing/pool.py\", line 119, in worker\n",
      "    result = (True, func(*args, **kwds))\n",
      "  File \"/home/arjoonn/Desktop/rlagents/rlagents/tools.py\", line 34, in run_n_episodes\n",
      "    act = agent.get_action(obs)\n",
      "  File \"/usr/lib/python3.5/multiprocessing/pool.py\", line 119, in worker\n",
      "    result = (True, func(*args, **kwds))\n",
      "  File \"/home/arjoonn/Desktop/rlagents/rlagents/ql.py\", line 46, in get_action\n",
      "    state_actions.sort()  # Sorts in Ascending\n",
      "  File \"/home/arjoonn/Desktop/rlagents/rlagents/tools.py\", line 34, in run_n_episodes\n",
      "    act = agent.get_action(obs)\n",
      "  File \"/home/arjoonn/Desktop/rlagents/rlagents/ql.py\", line 46, in get_action\n",
      "    state_actions.sort()  # Sorts in Ascending\n"
     ]
    },
    {
     "name": "stdout",
     "output_type": "stream",
     "text": [
      "Stopping Experiments...\n",
      "39 files\n",
      "Reading files...\n"
     ]
    },
    {
     "name": "stderr",
     "output_type": "stream",
     "text": [
      "\n",
      "\n",
      "\n",
      "\n",
      "  0%|                                                    | 0/39 [00:00<?, ?it/s]\n",
      "\u001b[A\n",
      "                                                                                "
     ]
    },
    {
     "name": "stdout",
     "output_type": "stream",
     "text": [
      "Painting...\n"
     ]
    },
    {
     "name": "stderr",
     "output_type": "stream",
     "text": [
      "\u001b[A"
     ]
    }
   ],
   "source": [
    "letters = 'abcdefghijklmnopqrtuvwxyz'\n",
    "df = check_fn(nestedcopy, letters, n_comm=10, trials=50)"
   ]
  },
  {
   "cell_type": "code",
   "execution_count": 44,
   "metadata": {},
   "outputs": [
    {
     "data": {
      "image/png": "[encoded data removed]",
      "text/plain": [
       "<matplotlib.figure.Figure at 0x7fa5a446c9e8>"
      ]
     },
     "metadata": {},
     "output_type": "display_data"
    }
   ],
   "source": [
    "paint(df)"
   ]
  }
 ],
 "metadata": {
  "kernelspec": {
   "display_name": "Python 3",
   "language": "python",
   "name": "python3"
  },
  "language_info": {
   "codemirror_mode": {
    "name": "ipython",
    "version": 3
   },
   "file_extension": ".py",
   "mimetype": "text/x-python",
   "name": "python",
   "nbconvert_exporter": "python",
   "pygments_lexer": "ipython3",
   "version": "3.5.3"
  }
 },
 "nbformat": 4,
 "nbformat_minor": 2
}
