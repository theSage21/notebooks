{
 "cells": [
  {
   "cell_type": "code",
   "execution_count": 1,
   "metadata": {},
   "outputs": [],
   "source": [
    "import os\n",
    "\n",
    "import random\n",
    "import ujson as json\n",
    "from rlagents import QLAgent, benchmark, make_df\n",
    "import seaborn as sns\n",
    "import pandas as pd\n",
    "from tqdm import tqdm_notebook, tqdm, trange\n",
    "from functools import reduce\n",
    "from sklearn.metrics import f1_score\n",
    "\n",
    "import numpy as np\n",
    "import warnings\n",
    "warnings.filterwarnings('ignore')\n",
    "import matplotlib.pyplot as plt\n",
    "\n",
    "%matplotlib inline"
   ]
  },
  {
   "cell_type": "markdown",
   "metadata": {},
   "source": [
    "## TuringLearner\n",
    "Can a Reinforcement Agent learn to perform right shift using a Turing Machine?\n",
    "\n",
    "Turing machines represent a powerful class of computing machines. The Human input to those machines is that part of the machine which contains it's 'programming'. Namely the part which says what action to take.\n",
    "\n",
    "The premise is that can such an agent learn to perform tasks based on some metric which is task agnostinc. Here we experiment with the metric being fraction of the tape which was an exact mamtch."
   ]
  },
  {
   "cell_type": "code",
   "execution_count": 2,
   "metadata": {},
   "outputs": [
    {
     "data": {
      "text/plain": [
       "(0, 0, 24)"
      ]
     },
     "execution_count": 2,
     "metadata": {},
     "output_type": "execute_result"
    }
   ],
   "source": [
    "from rlagents import __version__\n",
    "__version__"
   ]
  },
  {
   "cell_type": "markdown",
   "metadata": {},
   "source": [
    "## Turing Learner World"
   ]
  },
  {
   "cell_type": "code",
   "execution_count": 99,
   "metadata": {
    "collapsed": true
   },
   "outputs": [],
   "source": [
    "class TL:\n",
    "    def __init__(self, iogen, actions):\n",
    "        self.iogen = iogen\n",
    "        self.actions = actions\n",
    "        self.reset()\n",
    "    \n",
    "    def reset(self):\n",
    "        self.inp, self.expected = self.iogen()\n",
    "        self.out = list(self.inp)\n",
    "        self.rlimit = len(self.inp) - 1\n",
    "        self.head = 0\n",
    "        self.cache = self.inp[0]\n",
    "        self.comm = 0\n",
    "        self.done = False\n",
    "        self.accumulated_rew = 0\n",
    "        return self.__obs()\n",
    "    \n",
    "    def __obs(self):\n",
    "        obs = [self.inp[self.head],# self.out[self.head],\n",
    "               self.cache, self.comm, self.head]\n",
    "        return obs\n",
    "    \n",
    "    def step(self, actions):\n",
    "        if self.done:\n",
    "            raise Exception('Running done environment {}'.format(self.history) )\n",
    "        act, comm = actions  # Env action and communication action\n",
    "        rew = -1\n",
    "        self.done = (act == 'STOP')\n",
    "        if act == '>':\n",
    "            self.head = min(self.rlimit, self.head+1)\n",
    "        elif act == '<':\n",
    "            self.head = max(0, self.head - 1)\n",
    "        elif act == 'read':\n",
    "            self.cache = self.inp[self.head]\n",
    "        elif act[:5] == 'write':\n",
    "            self.out[self.head] = act[5:]\n",
    "        if self.done:\n",
    "            laddoo = sum(i==j for i, j in zip(self.expected, self.out))/len(self.expected)\n",
    "            laddoo = abs(self.accumulated_rew * laddoo)\n",
    "            rew += laddoo\n",
    "        obs = self.__obs() # Get the obs\n",
    "        self.comm = comm # Set commm for next iteration\n",
    "        self.accumulated_rew += rew\n",
    "        return obs, rew, self.done, None\n",
    "    \n",
    "    def copy(self):\n",
    "        t = TL(self.iogen, self.actions)\n",
    "        return t"
   ]
  },
  {
   "cell_type": "code",
   "execution_count": 120,
   "metadata": {
    "collapsed": true
   },
   "outputs": [],
   "source": [
    " def check_fn(fn, letters, n_comm=5, eps=500*1000, trials=10):\n",
    "    actions = [(a, i)\n",
    "               for i in range(n_comm)\n",
    "               for l in letters\n",
    "               for a in ['<', '>', 'write'+l]]\n",
    "    actions += [('STOP', 0)]\n",
    "    actions = list(set(actions))\n",
    "    \n",
    "    wo = [TL(fn, actions)]\n",
    "    ag = [QLAgent(actions)]\n",
    "    \n",
    "    print('{:,} actions'.format(len(actions)))\n",
    "    print('Runing {}'.format(fn.__name__))\n",
    "    ! rm -rf DataDir/\n",
    "    paths = benchmark(ag, wo, eps, None, trials)\n",
    "    df = make_df(paths)\n",
    "    return df"
   ]
  },
  {
   "cell_type": "code",
   "execution_count": 121,
   "metadata": {
    "collapsed": true
   },
   "outputs": [],
   "source": [
    "def evaluate(fn, letters, n_comm=2, episodes=500*1000, measure=None):\n",
    "    if measure is None:\n",
    "        measure = lambda a, b: sum(i==j for i, j in zip(a, b))/len(a)\n",
    "        \n",
    "    actions = [(a, i)\n",
    "               for i in range(n_comm)\n",
    "               for l in letters\n",
    "               for a in ['<', '>', 'write'+l]]\n",
    "    actions += [('STOP', 0)]\n",
    "    actions = list(set(actions))\n",
    "    \n",
    "    env = TL(fn, actions)\n",
    "    ag = QLAgent(actions)\n",
    "    # ---------------\n",
    "    data = []\n",
    "    ag.reset()\n",
    "    for ep in range(episodes):\n",
    "        last_episode = (ep+1) == episodes\n",
    "        obs = env.reset()\n",
    "        if last_episode:\n",
    "            ag.ep = 1\n",
    "        for step in range(int(1e20)):\n",
    "            act = ag.get_action(obs)\n",
    "            obs_, tape_ = obs, ''.join(env.out)\n",
    "            obs, rew, done, _ = env.step(act)\n",
    "            if last_episode:\n",
    "                print(tape_, obs_, act, ''.join(env.out), rew)\n",
    "            ag.observe_reward(rew)\n",
    "            if done:\n",
    "                break\n",
    "        data.append(measure(env.expected, env.out))\n",
    "    return data"
   ]
  },
  {
   "cell_type": "code",
   "execution_count": 53,
   "metadata": {
    "collapsed": true
   },
   "outputs": [],
   "source": [
    "def paint(df, fn, exp=None, window=100):\n",
    "    values = [(e, r) for e, r in dict(df.groupby('ep').rew.mean()).items()]\n",
    "    values.sort(key=lambda x: x[0])\n",
    "    r = [i[1] for i in values]\n",
    "    r = pd.Series(r).rolling(window).mean()\n",
    "    assert len(r.values) == len(values)\n",
    "    e = [i[0] for i in values]\n",
    "    plt.plot(e, r.values, label=fn.__name__)\n",
    "    \n",
    "    if exp is not None:\n",
    "        plt.plot(e,[exp for _ in e], label='Exp = {}'.format(exp))\n",
    "    \n",
    "    plt.xlabel('Episodes')\n",
    "    plt.ylabel('Mean Total Reward over {:,} trials'.format(df.trial.max()+1))\n",
    "    plt.legend()\n",
    "    plt.title('Reward received by Agent. Smoothed ({} window)'.format(window))"
   ]
  },
  {
   "cell_type": "markdown",
   "metadata": {},
   "source": [
    "## Position Tagging\n",
    "\n",
    "Here we try to teach it a function which depends only on position and not on the actual text."
   ]
  },
  {
   "cell_type": "code",
   "execution_count": 27,
   "metadata": {
    "collapsed": true
   },
   "outputs": [],
   "source": [
    "def periodic_pos():\n",
    "    letters = 'abcdefghijklmnopqrtuvwxyz'\n",
    "    text = [random.choice(letters) for _ in range(10)]\n",
    "    labels = ['+' if (i%3==0) else '-' for i, letter in enumerate(text)]\n",
    "    return text, labels"
   ]
  },
  {
   "cell_type": "code",
   "execution_count": 91,
   "metadata": {},
   "outputs": [
    {
     "name": "stdout",
     "output_type": "stream",
     "text": [
      "oponquebvw\n",
      "+--+--+--+\n"
     ]
    }
   ],
   "source": [
    "a, b = periodic_pos()\n",
    "print(''.join(a))\n",
    "print(''.join(b))"
   ]
  },
  {
   "cell_type": "code",
   "execution_count": 104,
   "metadata": {},
   "outputs": [
    {
     "name": "stdout",
     "output_type": "stream",
     "text": [
      "9 actions\n",
      "Runing periodic_pos\n",
      "DataDir does not exist. Creating...\n",
      "Building Dispatch list...\n",
      "Running experiments...\n"
     ]
    },
    {
     "name": "stderr",
     "output_type": "stream",
     "text": [
      " 50%|█████     | 4/8 [05:43<07:49, 117.29s/it]Process ForkPoolWorker-131:\n",
      "Process ForkPoolWorker-130:\n",
      "Process ForkPoolWorker-129:\n",
      "Process ForkPoolWorker-132:\n"
     ]
    },
    {
     "name": "stdout",
     "output_type": "stream",
     "text": [
      "Stopping Experiments...\n",
      "4 files\n",
      "Reading files...\n"
     ]
    },
    {
     "name": "stderr",
     "output_type": "stream",
     "text": [
      "\n",
      "\n",
      "\n",
      "\n",
      "  0%|                                                     | 0/4 [00:00<?, ?it/s]\n",
      "\u001b[A\n",
      "                                                                                \r"
     ]
    },
    {
     "name": "stdout",
     "output_type": "stream",
     "text": [
      "Painting...\n"
     ]
    }
   ],
   "source": [
    "df = check_fn(periodic_pos, '+-', eps=10*100*1000, trials=4*2)"
   ]
  },
  {
   "cell_type": "code",
   "execution_count": 105,
   "metadata": {},
   "outputs": [
    {
     "data": {
      "image/png": "[encoded data removed]",
      "text/plain": [
       "<matplotlib.figure.Figure at 0x7f171db80cf8>"
      ]
     },
     "metadata": {},
     "output_type": "display_data"
    }
   ],
   "source": [
    "paint(df, periodic_pos, exp=-1)"
   ]
  },
  {
   "cell_type": "code",
   "execution_count": 118,
   "metadata": {},
   "outputs": [
    {
     "name": "stdout",
     "output_type": "stream",
     "text": [
      "yjttvtmtiy ['y', 'y', 0, 0] ('>', 0) yjttvtmtiy -1\n",
      "yjttvtmtiy ['j', 'y', 0, 1] ('write-', 1) y-ttvtmtiy -1\n",
      "y-ttvtmtiy ['j', 'y', 0, 1] ('write-', 0) y-ttvtmtiy -1\n",
      "y-ttvtmtiy ['j', 'y', 1, 1] ('write+', 0) y+ttvtmtiy -1\n",
      "y+ttvtmtiy ['j', 'y', 0, 1] ('write+', 1) y+ttvtmtiy -1\n",
      "y+ttvtmtiy ['j', 'y', 0, 1] ('write+', 0) y+ttvtmtiy -1\n",
      "y+ttvtmtiy ['j', 'y', 1, 1] ('>', 0) y+ttvtmtiy -1\n",
      "y+ttvtmtiy ['t', 'y', 0, 2] ('write-', 1) y+-tvtmtiy -1\n",
      "y+-tvtmtiy ['t', 'y', 0, 2] ('write-', 0) y+-tvtmtiy -1\n",
      "y+-tvtmtiy ['t', 'y', 1, 2] ('<', 1) y+-tvtmtiy -1\n",
      "y+-tvtmtiy ['j', 'y', 0, 1] ('>', 1) y+-tvtmtiy -1\n",
      "y+-tvtmtiy ['t', 'y', 1, 2] ('<', 0) y+-tvtmtiy -1\n",
      "y+-tvtmtiy ['j', 'y', 1, 1] ('<', 1) y+-tvtmtiy -1\n",
      "y+-tvtmtiy ['y', 'y', 0, 0] ('write+', 1) ++-tvtmtiy -1\n",
      "++-tvtmtiy ['y', 'y', 1, 0] ('STOP', 0) ++-tvtmtiy 1.8000000000000003\n"
     ]
    }
   ],
   "source": [
    "_ = evaluate(periodic_pos, letters='+-', episodes=100000)"
   ]
  },
  {
   "cell_type": "markdown",
   "metadata": {},
   "source": [
    "## Index and text\n",
    "\n",
    "a task which depends on both index and task"
   ]
  },
  {
   "cell_type": "code",
   "execution_count": 125,
   "metadata": {
    "collapsed": true
   },
   "outputs": [],
   "source": [
    "def postext():\n",
    "    letters = 'abcdefghijklmnopqrtuvwxyz'\n",
    "    text = [random.choice(letters) for _ in range(50)]\n",
    "    labels = ['+' if ((i%2==0) and letter in 'abc') else '-' for i, letter in enumerate(text)]\n",
    "    return text, labels"
   ]
  },
  {
   "cell_type": "code",
   "execution_count": 127,
   "metadata": {},
   "outputs": [
    {
     "name": "stdout",
     "output_type": "stream",
     "text": [
      "yqbmhltrpdfrtznwbxipgoxhahqrcnazxywnotphlpellfqbwd\n",
      "--+-------------+-------+---+-+-------------------\n"
     ]
    }
   ],
   "source": [
    "a, b = postext()\n",
    "print(''.join(a))\n",
    "print(''.join(b))"
   ]
  },
  {
   "cell_type": "code",
   "execution_count": null,
   "metadata": {},
   "outputs": [
    {
     "name": "stdout",
     "output_type": "stream",
     "text": [
      "21 actions\n",
      "Runing postext\n",
      "DataDir does not exist. Creating...\n",
      "Building Dispatch list...\n",
      "Running experiments...\n"
     ]
    },
    {
     "name": "stderr",
     "output_type": "stream",
     "text": [
      "\r",
      "  0%|          | 0/10 [00:00<?, ?it/s]"
     ]
    }
   ],
   "source": [
    "df = check_fn(postext, '+-')"
   ]
  },
  {
   "cell_type": "code",
   "execution_count": null,
   "metadata": {},
   "outputs": [],
   "source": [
    "paint(df, postext)"
   ]
  },
  {
   "cell_type": "markdown",
   "metadata": {},
   "source": [
    "\n",
    "## A more rigorous battery of tasks\n",
    "\n",
    "We see that these tasks converge to their Edit distances. At this time we are confident enough to try and approach real tasks for this method."
   ]
  },
  {
   "cell_type": "code",
   "execution_count": null,
   "metadata": {
    "collapsed": true
   },
   "outputs": [],
   "source": [
    "def sorting():\n",
    "    letters = 'abcdefghijklmnopqrtuvwxyz'\n",
    "    text = [random.choice(letters) for _ in range(100)]\n",
    "    labels = list(sorted(text))\n",
    "    return text, labels"
   ]
  },
  {
   "cell_type": "code",
   "execution_count": null,
   "metadata": {
    "collapsed": true
   },
   "outputs": [],
   "source": [
    "letters = 'abcdefghijklmnopqrtuvwxyz'\n",
    "df = check_fn(sorting, letters, eps=1500)"
   ]
  },
  {
   "cell_type": "code",
   "execution_count": null,
   "metadata": {
    "collapsed": true
   },
   "outputs": [],
   "source": [
    "paint(df, sorting)"
   ]
  },
  {
   "cell_type": "markdown",
   "metadata": {},
   "source": [
    "## Learning parameterized functions\n",
    "\n",
    "We attempt to make it learn a parameterized copy function. A number **M** is given and the next **N** inputs have to be copied **M** number of times. We need the learner to learn the following things.\n",
    "\n",
    "- what to copy\n",
    "- how to repeat it\n",
    "- when to stop repeating it"
   ]
  },
  {
   "cell_type": "code",
   "execution_count": null,
   "metadata": {
    "collapsed": true
   },
   "outputs": [],
   "source": [
    "def nestedcopy():\n",
    "    letters = 'bcdefghijklmnopqrtuvwxyz'\n",
    "    pad_char = 'a'\n",
    "    letters += pad_char\n",
    "    lim = 100\n",
    "    \n",
    "    text = [random.choice(letters) for _ in range(random.choice(range(1, 11)))]\n",
    "    rep = random.choice(range(10))\n",
    "    \n",
    "    inp = [str(rep)] + text\n",
    "    label = text*rep\n",
    "    \n",
    "    inp, label = inp + [pad_char]*(lim - len(inp)), label + [pad_char]*(lim - len(label))\n",
    "    return inp[:lim], label[:lim]"
   ]
  },
  {
   "cell_type": "code",
   "execution_count": null,
   "metadata": {
    "collapsed": true
   },
   "outputs": [],
   "source": [
    "a, b = nestedcopy()\n",
    "print(''.join(a), len(a))\n",
    "print(''.join(b), len(b))"
   ]
  },
  {
   "cell_type": "code",
   "execution_count": null,
   "metadata": {
    "collapsed": true
   },
   "outputs": [],
   "source": [
    "letters = 'abcdefghijklmnopqrtuvwxyz'\n",
    "df = check_fn(nestedcopy, letters, eps=1500, trials=200)"
   ]
  },
  {
   "cell_type": "code",
   "execution_count": null,
   "metadata": {
    "collapsed": true
   },
   "outputs": [],
   "source": [
    "paint(df, nestedcopy)"
   ]
  },
  {
   "cell_type": "markdown",
   "metadata": {},
   "source": [
    "## Addition\n",
    "\n",
    "We try to teach it addition as an additional example."
   ]
  },
  {
   "cell_type": "code",
   "execution_count": null,
   "metadata": {
    "collapsed": true
   },
   "outputs": [],
   "source": [
    "def addition():\n",
    "    letters = '0123456789+'\n",
    "    pad = ' '\n",
    "    n_digits = 15\n",
    "    limit = n_digits*2+2\n",
    "    letters += pad\n",
    "    a = random.choice(range(10**n_digits))  # upto 4 digit numbers\n",
    "    b = random.choice(range(10**n_digits))\n",
    "    c = a+b\n",
    "    inp = list('{}+{}'.format(a, b))\n",
    "    out = list(str(c))\n",
    "\n",
    "    inp, out = inp + [pad]*(limit - len(inp)), out + [pad]*(limit - len(out))\n",
    "    return inp[:limit], out[:limit]"
   ]
  },
  {
   "cell_type": "code",
   "execution_count": null,
   "metadata": {
    "collapsed": true
   },
   "outputs": [],
   "source": [
    "a, b = addition()\n",
    "print(''.join(a), '|')\n",
    "print(''.join(b), '|')"
   ]
  },
  {
   "cell_type": "code",
   "execution_count": null,
   "metadata": {
    "collapsed": true
   },
   "outputs": [],
   "source": [
    "letters = '0123456789+ '\n",
    "df = check_fn(addition, letters, eps=900, trials=200)"
   ]
  },
  {
   "cell_type": "code",
   "execution_count": null,
   "metadata": {
    "collapsed": true
   },
   "outputs": [],
   "source": [
    "paint(df, addition, ed=False)"
   ]
  },
  {
   "cell_type": "code",
   "execution_count": null,
   "metadata": {
    "collapsed": true
   },
   "outputs": [],
   "source": [
    "## Multiplication"
   ]
  },
  {
   "cell_type": "code",
   "execution_count": null,
   "metadata": {
    "collapsed": true
   },
   "outputs": [],
   "source": []
  }
 ],
 "metadata": {
  "kernelspec": {
   "display_name": "Python 3",
   "language": "python",
   "name": "python3"
  },
  "language_info": {
   "codemirror_mode": {
    "name": "ipython",
    "version": 3
   },
   "file_extension": ".py",
   "mimetype": "text/x-python",
   "name": "python",
   "nbconvert_exporter": "python",
   "pygments_lexer": "ipython3",
   "version": "3.6.1"
  }
 },
 "nbformat": 4,
 "nbformat_minor": 2
}
