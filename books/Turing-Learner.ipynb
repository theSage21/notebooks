{
 "cells": [
  {
   "cell_type": "code",
   "execution_count": 1,
   "metadata": {
    "collapsed": true
   },
   "outputs": [],
   "source": [
    "import os\n",
    "import random\n",
    "import ujson\n",
    "from rlagents import MCAgent, QLAgent, benchmark, make_df\n",
    "import seaborn as sns\n",
    "import pandas as pd\n",
    "from tqdm import tqdm_notebook, tqdm\n",
    "from functools import reduce\n",
    "\n",
    "import numpy as np\n",
    "import warnings\n",
    "warnings.filterwarnings('ignore')\n",
    "from sklearn.metrics import f1_score\n",
    "import matplotlib.pyplot as plt\n",
    "%matplotlib inline"
   ]
  },
  {
   "cell_type": "markdown",
   "metadata": {},
   "source": [
    "## TuringLearner\n",
    "Can a Reinforcement Agent learn to perform right shift using a Turing Machine?\n",
    "\n",
    "Turing machines represent a powerful class of computing machines. The Human input to those machines is that part of the machine which contains it's 'programming'. Namely the part which says what action to take."
   ]
  },
  {
   "cell_type": "code",
   "execution_count": 2,
   "metadata": {},
   "outputs": [
    {
     "data": {
      "text/plain": [
       "(0, 0, 24)"
      ]
     },
     "execution_count": 2,
     "metadata": {},
     "output_type": "execute_result"
    }
   ],
   "source": [
    "from rlagents import __version__\n",
    "__version__"
   ]
  },
  {
   "cell_type": "markdown",
   "metadata": {},
   "source": [
    "## Dummy coreference task\n",
    "\n",
    "Mark all 'a' preceded by a 'z'"
   ]
  },
  {
   "cell_type": "code",
   "execution_count": 3,
   "metadata": {
    "collapsed": true
   },
   "outputs": [],
   "source": [
    "def baby_coref():\n",
    "    letters = 'abcdefghijklmnopqrtuvwxyz'\n",
    "    text = [random.choice(letters) for _ in range(1000)]\n",
    "    labels = []\n",
    "    last_letter = None\n",
    "    for index, letter in enumerate(text):\n",
    "        lab = '-'\n",
    "        if last_letter is not None:\n",
    "            if last_letter == 'z' and letter == 'a':\n",
    "                lab = '+'\n",
    "        last_letter = letter\n",
    "        labels.append(lab)\n",
    "    assert len(text) == len(labels)\n",
    "    return text, labels"
   ]
  },
  {
   "cell_type": "markdown",
   "metadata": {},
   "source": [
    "## Turing Learner World"
   ]
  },
  {
   "cell_type": "code",
   "execution_count": 63,
   "metadata": {
    "collapsed": true
   },
   "outputs": [],
   "source": [
    "class TL:\n",
    "    def __init__(self, iogen, actions):\n",
    "        self.iogen = iogen\n",
    "        self.actions = actions\n",
    "        self.history = []\n",
    "        self.reset()\n",
    "    \n",
    "    def reset(self):\n",
    "        self.inp, self.expected = self.iogen()\n",
    "        self.rlimit = len(self.inp) - 1\n",
    "        self.head = 0\n",
    "        self.out = list(self.inp)\n",
    "        self.cache = self.inp[0]\n",
    "        self.comm = 0\n",
    "        self.done = False\n",
    "        return self.__obs()\n",
    "    \n",
    "    def __obs(self):\n",
    "        obs = [self.inp[self.head], self.out[self.head],\n",
    "               self.cache, self.comm]\n",
    "        return obs\n",
    "    \n",
    "    def step(self, actions):\n",
    "        if self.done:\n",
    "            raise Exception('Running done environment {}'.format(self.history) )\n",
    "        act, comm = actions  # Env action and communication action\n",
    "        rew = 0\n",
    "        self.done = (act == 'STOP')\n",
    "        if act == '>':\n",
    "            self.head = min(self.rlimit, self.head+1)\n",
    "        elif act == '<':\n",
    "            self.head = max(0, self.head - 1)\n",
    "        elif act == 'read':\n",
    "            self.cache = self.inp[self.head]\n",
    "        elif act[:5] == 'write':\n",
    "            self.out[self.head] = act[5:]\n",
    "        rew = f1_score(self.expected, self.out, average='weighted')\n",
    "        obs = self.__obs() # Get the obs\n",
    "        self.comm = comm # Set commm for next iteration\n",
    "        return obs, rew, self.done, None\n",
    "    \n",
    "    def copy(self):\n",
    "        t = TL(self.iogen, self.actions)\n",
    "        return t"
   ]
  },
  {
   "cell_type": "code",
   "execution_count": 64,
   "metadata": {
    "collapsed": true
   },
   "outputs": [],
   "source": [
    " def check_fn(fn, trials=100):\n",
    "    n_comm = 10\n",
    "    actions = [(a, i)\n",
    "               for i in range(n_comm)\n",
    "               for a in ['<', '>', 'read', 'write+', 'write-']]\n",
    "    actions += [('STOP', i) for i in range(n_comm)]\n",
    "\n",
    "    wo = [TL(fn, actions)]\n",
    "    ag = [QLAgent(actions)]\n",
    "    print('{:,} actions'.format(len(actions)))\n",
    "    print('Runing {}'.format(fn.__name__))\n",
    "    ! rm -rf DataDir/\n",
    "    paths = benchmark(ag, wo, 1000, 500, trials)\n",
    "    df = make_df(paths)\n",
    "    return df"
   ]
  },
  {
   "cell_type": "code",
   "execution_count": null,
   "metadata": {},
   "outputs": [
    {
     "name": "stderr",
     "output_type": "stream",
     "text": [
      "\n"
     ]
    },
    {
     "name": "stdout",
     "output_type": "stream",
     "text": [
      "60 actions\n",
      "Runing baby_coref\n",
      "DataDir does not exist. Creating...\n",
      "Building Dispatch list...\n",
      "Running experiments...\n"
     ]
    },
    {
     "name": "stderr",
     "output_type": "stream",
     "text": [
      "\n",
      "\n",
      "\n",
      "\n",
      "\n",
      "\n",
      "  0%|          | 0/100 [00:00<?, ?it/s]\u001b[A\u001b[A\n",
      "\n",
      "  1%|          | 1/100 [11:09<18:24:17, 669.27s/it]\u001b[A\n",
      "  2%|▏         | 2/100 [11:17<12:49:14, 470.97s/it]\u001b[A\n",
      "  3%|▎         | 3/100 [11:18<8:53:36, 330.07s/it] \u001b[A\n",
      "  4%|▍         | 4/100 [11:19<6:10:02, 231.28s/it]\u001b[A"
     ]
    }
   ],
   "source": [
    "df = check_fn(baby_coref)"
   ]
  },
  {
   "cell_type": "code",
   "execution_count": null,
   "metadata": {},
   "outputs": [],
   "source": [
    "def paint(df):\n",
    "    values = [(e, r) for e, r in dict(df.groupby('ep').rew.mean()).items()]\n",
    "    values.sort(key=lambda x: x[0])\n",
    "    v = np.array(values)\n",
    "    plt.plot(v[:, 0], v[:, 1])\n",
    "    plt.xlabel('Episodes')\n",
    "    plt.ylabel('Mean reward over {:,} trials'.format(df.trial.max()+1))\n",
    "    \n",
    "paint(df)"
   ]
  },
  {
   "cell_type": "markdown",
   "metadata": {},
   "source": [
    "## Position Tagging\n",
    "\n",
    "We see that the agent can indeed be taught certain functions. It is not time to see if it can learn more complex functions. Here we try to teach it a function which depends only on position and not on the actual text."
   ]
  },
  {
   "cell_type": "code",
   "execution_count": 11,
   "metadata": {
    "collapsed": true
   },
   "outputs": [],
   "source": [
    "def even_pos():\n",
    "    letters = 'abcdefghijklmnopqrtuvwxyz'\n",
    "    text = [random.choice(letters) for _ in range(1000)]\n",
    "    labels = ['+' if (i%2==0) else '-' for i, letter in enumerate(text)]\n",
    "    return text, labels"
   ]
  },
  {
   "cell_type": "code",
   "execution_count": 12,
   "metadata": {},
   "outputs": [
    {
     "name": "stdout",
     "output_type": "stream",
     "text": [
      "60 actions\n",
      "Runing even_pos\n",
      "DataDir does not exist. Creating...\n",
      "Building Dispatch list...\n",
      "Running experiments...\n"
     ]
    },
    {
     "name": "stderr",
     "output_type": "stream",
     "text": [
      "100%|██████████| 100/100 [02:25<00:00,  1.01it/s]"
     ]
    },
    {
     "name": "stdout",
     "output_type": "stream",
     "text": [
      "Experiments completed...\n",
      "100 files\n",
      "Reading files...\n"
     ]
    },
    {
     "name": "stderr",
     "output_type": "stream",
     "text": [
      "\n",
      "                                                                                "
     ]
    },
    {
     "name": "stdout",
     "output_type": "stream",
     "text": [
      "Painting...\n"
     ]
    },
    {
     "name": "stderr",
     "output_type": "stream",
     "text": [
      "\r"
     ]
    }
   ],
   "source": [
    "df = check_fn(even_pos)"
   ]
  },
  {
   "cell_type": "code",
   "execution_count": 13,
   "metadata": {},
   "outputs": [
    {
     "data": {
      "image/png": "[encoded data removed]",
      "text/plain": [
       "<matplotlib.figure.Figure at 0x7f77c44f6198>"
      ]
     },
     "metadata": {},
     "output_type": "display_data"
    }
   ],
   "source": [
    "paint(df)"
   ]
  },
  {
   "cell_type": "markdown",
   "metadata": {},
   "source": [
    "## Index and text\n",
    "\n",
    "a task which depends on both index and task"
   ]
  },
  {
   "cell_type": "code",
   "execution_count": 14,
   "metadata": {
    "collapsed": true
   },
   "outputs": [],
   "source": [
    "def postext():\n",
    "    letters = 'abcdefghijklmnopqrtuvwxyz'\n",
    "    text = [random.choice(letters) for _ in range(1000)]\n",
    "    labels = ['+' if ((i%2==0) and letter in 'abc') else '-' for i, letter in enumerate(text)]\n",
    "    return text, labels"
   ]
  },
  {
   "cell_type": "code",
   "execution_count": 15,
   "metadata": {},
   "outputs": [
    {
     "name": "stdout",
     "output_type": "stream",
     "text": [
      "60 actions\n",
      "Runing postext\n",
      "DataDir does not exist. Creating...\n",
      "Building Dispatch list...\n",
      "Running experiments...\n"
     ]
    },
    {
     "name": "stderr",
     "output_type": "stream",
     "text": [
      "100%|██████████| 100/100 [02:25<00:00,  1.13s/it]"
     ]
    },
    {
     "name": "stdout",
     "output_type": "stream",
     "text": [
      "Experiments completed...\n",
      "100 files\n",
      "Reading files...\n"
     ]
    },
    {
     "name": "stderr",
     "output_type": "stream",
     "text": [
      "\n",
      "                                                                                "
     ]
    },
    {
     "name": "stdout",
     "output_type": "stream",
     "text": [
      "Painting...\n"
     ]
    },
    {
     "name": "stderr",
     "output_type": "stream",
     "text": [
      "\r"
     ]
    }
   ],
   "source": [
    "df = check_fn(postext)"
   ]
  },
  {
   "cell_type": "code",
   "execution_count": 16,
   "metadata": {},
   "outputs": [
    {
     "data": {
      "image/png": "[encoded data removed]",
      "text/plain": [
       "<matplotlib.figure.Figure at 0x7f77c4598b70>"
      ]
     },
     "metadata": {},
     "output_type": "display_data"
    }
   ],
   "source": [
    "paint(df)"
   ]
  },
  {
   "cell_type": "markdown",
   "metadata": {},
   "source": [
    "\n",
    "## Actual tasks\n",
    "\n",
    "At this time we are confident enough to try and approach real tasks for this method. We will attempt to perform POS tagging on some corpus"
   ]
  },
  {
   "cell_type": "code",
   "execution_count": 33,
   "metadata": {
    "collapsed": true
   },
   "outputs": [],
   "source": [
    "def sorting():\n",
    "    letters = 'abcdefghijklmnopqrtuvwxyz'\n",
    "    text = [random.choice(letters) for _ in range(10)]\n",
    "    labels = list(sorted(text))\n",
    "    return text, labels"
   ]
  },
  {
   "cell_type": "code",
   "execution_count": 42,
   "metadata": {},
   "outputs": [
    {
     "name": "stderr",
     "output_type": "stream",
     "text": [
      "\n"
     ]
    },
    {
     "name": "stdout",
     "output_type": "stream",
     "text": [
      "58 actions\n",
      "Runing sorting\n",
      "DataDir does not exist. Creating...\n",
      "Building Dispatch list...\n",
      "Running experiments...\n"
     ]
    },
    {
     "name": "stderr",
     "output_type": "stream",
     "text": [
      "\n",
      "\n",
      "\n",
      "\n",
      "\n",
      "  0%|          | 0/50 [00:00<?, ?it/s]\u001b[A\n",
      "  2%|▏         | 1/50 [00:03<02:37,  3.20s/it]\u001b[A\n",
      "  4%|▍         | 2/50 [00:03<01:56,  2.42s/it]\u001b[A\n",
      "  6%|▌         | 3/50 [00:04<01:33,  1.99s/it]\u001b[A\n",
      "  8%|▊         | 4/50 [00:05<01:08,  1.49s/it]\u001b[A\n",
      " 10%|█         | 5/50 [00:05<00:51,  1.15s/it]\u001b[A\n",
      "100%|██████████| 50/50 [00:54<00:00,  1.06s/it]"
     ]
    },
    {
     "name": "stdout",
     "output_type": "stream",
     "text": [
      "Experiments completed...\n",
      "50 files\n",
      "Reading files...\n"
     ]
    },
    {
     "name": "stderr",
     "output_type": "stream",
     "text": [
      "\n",
      "                                                                                \r"
     ]
    },
    {
     "name": "stdout",
     "output_type": "stream",
     "text": [
      "Painting...\n"
     ]
    }
   ],
   "source": [
    "n_comm = 2\n",
    "letters = 'abcdefghijklmnopqrtuvwxyz'\n",
    "actions = [(a, i)\n",
    "           for i in range(n_comm)\n",
    "           for letter in letters\n",
    "           for a in ['<', '>', 'read', 'write'+letter]]\n",
    "actions += [('STOP', i) for i in range(n_comm)]\n",
    "actions = list(set(actions))\n",
    "\n",
    "wo = [TL(sorting, actions)]\n",
    "ag = [QLAgent(actions)]\n",
    "print('{:,} actions'.format(len(actions)))\n",
    "print('Runing {}'.format(sorting.__name__))\n",
    "! rm -rf DataDir/\n",
    "paths = benchmark(ag, wo, 200, 100, 50)\n",
    "df = make_df(paths)"
   ]
  },
  {
   "cell_type": "code",
   "execution_count": 44,
   "metadata": {},
   "outputs": [
    {
     "data": {
      "image/png": "[encoded data removed]",
      "text/plain": [
       "<matplotlib.figure.Figure at 0x7f77ff9781d0>"
      ]
     },
     "metadata": {},
     "output_type": "display_data"
    }
   ],
   "source": [
    "paint(df)"
   ]
  }
 ],
 "metadata": {
  "kernelspec": {
   "display_name": "Python 3",
   "language": "python",
   "name": "python3"
  },
  "language_info": {
   "codemirror_mode": {
    "name": "ipython",
    "version": 3
   },
   "file_extension": ".py",
   "mimetype": "text/x-python",
   "name": "python",
   "nbconvert_exporter": "python",
   "pygments_lexer": "ipython3",
   "version": "3.5.3"
  }
 },
 "nbformat": 4,
 "nbformat_minor": 2
}
