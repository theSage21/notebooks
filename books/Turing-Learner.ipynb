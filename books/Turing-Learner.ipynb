{
 "cells": [
  {
   "cell_type": "code",
   "execution_count": 28,
   "metadata": {},
   "outputs": [],
   "source": [
    "import os\n",
    "import random\n",
    "import ujson\n",
    "from rlagents import MCAgent, QLAgent, benchmark\n",
    "import seaborn as sns\n",
    "import pandas as pd\n",
    "from tqdm import tqdm_notebook, tqdm\n",
    "\n",
    "import warnings\n",
    "warnings.filterwarnings('ignore')\n",
    "from sklearn.metrics import f1_score\n",
    "%matplotlib inline"
   ]
  },
  {
   "cell_type": "markdown",
   "metadata": {},
   "source": [
    "## TuringLearner\n",
    "Can a Reinforcement Agent learn to perform right shift using a Turing Machine?\n",
    "\n",
    "Turing machines represent a powerful class of computing machines. The Human input to those machines is that part of the machine which contains it's 'programming'. Namely the part which says what action to take."
   ]
  },
  {
   "cell_type": "code",
   "execution_count": 29,
   "metadata": {},
   "outputs": [
    {
     "data": {
      "text/plain": [
       "(0, 0, 14)"
      ]
     },
     "execution_count": 29,
     "metadata": {},
     "output_type": "execute_result"
    }
   ],
   "source": [
    "from rlagents import __version__\n",
    "__version__"
   ]
  },
  {
   "cell_type": "code",
   "execution_count": 44,
   "metadata": {},
   "outputs": [],
   "source": [
    "class TuringWorld:\n",
    "    def __init__(self, iogen):\n",
    "        \"\"\"\n",
    "        The IOGEN function needs to produce two strings.\n",
    "        Inp and out.\n",
    "        \"\"\"\n",
    "        self.iogen = iogen\n",
    "        self.reset()\n",
    "    \n",
    "    def reset(self):\n",
    "        self.inp, self.out = self.iogen()\n",
    "        # Normalize to inp size\n",
    "        self.out = self.out.zfill(len(self.inp))\n",
    "        self.out_tape = list(self.out)\n",
    "        \n",
    "        self.tape = list(self.inp)\n",
    "        self.rlimit = len(self.tape) - 1\n",
    "        self.head = 0\n",
    "        self.cache = '0'\n",
    "        self.last_act = '-'\n",
    "        self.last_act_count = 0\n",
    "        return self.__obs()\n",
    "\n",
    "    def __obs(self):\n",
    "        return [self.tape[max(self.head-1, 0)], # Left\n",
    "                self.tape[self.head], # Head\n",
    "                self.tape[min(self.head + 1, self.rlimit)], # Right\n",
    "                self.cache, self.head, # Cache and head index\n",
    "                self.last_act, self.last_act_count]\n",
    "    \n",
    "    def copy(self):\n",
    "        t = TuringWorld(self.iogen)\n",
    "        t.tape = self.tape\n",
    "        t.head = self.head\n",
    "        t.cache = self.cache\n",
    "        t.inp, t.out = self.inp, self.out\n",
    "        t.out_tape = self.out_tape\n",
    "        t.last_act = self.last_act\n",
    "        t.last_act_count = self.last_act_count\n",
    "        return t\n",
    "\n",
    "    def step(self, act):\n",
    "        done = False\n",
    "        rew = 0\n",
    "        if act == self.last_act:\n",
    "            self.last_act_count += 1\n",
    "        else:\n",
    "            self.last_act_count = 0\n",
    "        self.last_act = act\n",
    "        if act == '<':\n",
    "            self.head = max(0, self.head - 1)\n",
    "        elif act == '>':\n",
    "            self.head = min(self.head + 1, self.rlimit)\n",
    "        elif act == 'r':\n",
    "            self.cache = self.tape[self.head]\n",
    "        elif act[0] == 'w':\n",
    "            self.tape[self.head] = act[1]\n",
    "        elif act == 'stop':\n",
    "            done = True\n",
    "            score = f1_score(self.out_tape, self.tape, average='weighted')\n",
    "            rew = score\n",
    "        return self.__obs(), rew ,done, None"
   ]
  },
  {
   "cell_type": "markdown",
   "metadata": {},
   "source": [
    "## Functions to test in our machine"
   ]
  },
  {
   "cell_type": "code",
   "execution_count": 45,
   "metadata": {
    "collapsed": true
   },
   "outputs": [],
   "source": [
    "def rightshift():\n",
    "    a = ''.join([random.choice('0123456789') for _ in range(100)])\n",
    "    b = '0' + a[:-1]\n",
    "    return a, b\n",
    "\n",
    "def sorting():\n",
    "    a = ''.join([random.choice('0123456789') for _ in range(100)])\n",
    "    inp = a\n",
    "    out = ''.join(sorted(list(str(inp))))\n",
    "    return inp, out"
   ]
  },
  {
   "cell_type": "markdown",
   "metadata": {},
   "source": [
    "## Running bench"
   ]
  },
  {
   "cell_type": "code",
   "execution_count": 48,
   "metadata": {
    "collapsed": true
   },
   "outputs": [],
   "source": [
    "def run_fn(fn, eps=500, letters='0123456789', trials=50, hardlimit=10000):\n",
    "    world_list = [TuringWorld(fn)]\n",
    "    actions = ['<', '>', 'r', 'stop'] + ['w'+i for i in letters]\n",
    "    agent_list = [QLAgent(actions, ep=0.99)]\n",
    "    \n",
    "    !rm -rf DataDir/\n",
    "    [a.reset() for a in agent_list]\n",
    "    paths = benchmark(agent_list, world_list, eps, hardlimit, trials)\n",
    "\n",
    "    paths = ['DataDir/'+i for i in os.listdir('DataDir/')]\n",
    "    data = []\n",
    "    for p in tqdm(paths, leave=False):\n",
    "        with open(p, 'r') as fl:\n",
    "            da = ujson.load(fl)\n",
    "\n",
    "            x = [(None, 'Monte' in d[1], None, int(d[3]), float(d[4]), int(d[5]))\n",
    "                 for d in da]\n",
    "            data.extend(x)\n",
    "\n",
    "    ## Result Plotting\n",
    "\n",
    "    data = pd.DataFrame(data, columns=['runid', 'agent', 'world', 'ep', 'rew', 'trial'])\n",
    "    data.agent = 'Q Learning'\n",
    "\n",
    "    sns.tsplot(data, time='ep', value='rew', unit='trial', condition='agent', ci=95)\n",
    "    sns.plt.title(fn.__name__)"
   ]
  },
  {
   "cell_type": "markdown",
   "metadata": {},
   "source": [
    "## Running benchmarks"
   ]
  },
  {
   "cell_type": "code",
   "execution_count": 47,
   "metadata": {},
   "outputs": [
    {
     "name": "stderr",
     "output_type": "stream",
     "text": [
      "\n"
     ]
    },
    {
     "name": "stdout",
     "output_type": "stream",
     "text": [
      "DataDir does not exist. Creating...\n",
      "Building Dispatch list...\n",
      "Running experiments...\n"
     ]
    },
    {
     "name": "stderr",
     "output_type": "stream",
     "text": [
      "\n",
      "\n",
      "\n",
      "\n",
      "\n",
      "  0%|          | 0/200 [00:00<?, ?it/s]\u001b[A\n",
      " 42%|████▎     | 85/200 [07:24<08:43,  4.55s/it] Process ForkPoolWorker-53:\n",
      "Traceback (most recent call last):\n",
      "Process ForkPoolWorker-56:\n",
      "Process ForkPoolWorker-55:\n",
      "Process ForkPoolWorker-54:\n",
      "Traceback (most recent call last):\n",
      "Traceback (most recent call last):\n",
      "Traceback (most recent call last):\n",
      "  File \"/usr/lib/python3.5/multiprocessing/process.py\", line 249, in _bootstrap\n",
      "    self.run()\n",
      "  File \"/usr/lib/python3.5/multiprocessing/process.py\", line 249, in _bootstrap\n",
      "    self.run()\n",
      "  File \"/usr/lib/python3.5/multiprocessing/process.py\", line 249, in _bootstrap\n",
      "    self.run()\n",
      "  File \"/usr/lib/python3.5/multiprocessing/process.py\", line 93, in run\n",
      "    self._target(*self._args, **self._kwargs)\n",
      "  File \"/usr/lib/python3.5/multiprocessing/process.py\", line 93, in run\n",
      "    self._target(*self._args, **self._kwargs)\n",
      "  File \"/usr/lib/python3.5/multiprocessing/process.py\", line 249, in _bootstrap\n",
      "    self.run()\n",
      "  File \"/usr/lib/python3.5/multiprocessing/process.py\", line 93, in run\n",
      "    self._target(*self._args, **self._kwargs)\n",
      "  File \"/usr/lib/python3.5/multiprocessing/pool.py\", line 119, in worker\n",
      "    result = (True, func(*args, **kwds))\n",
      "  File \"/usr/lib/python3.5/multiprocessing/pool.py\", line 119, in worker\n",
      "    result = (True, func(*args, **kwds))\n",
      "  File \"/usr/lib/python3.5/multiprocessing/process.py\", line 93, in run\n",
      "    self._target(*self._args, **self._kwargs)\n",
      "  File \"/usr/lib/python3.5/multiprocessing/pool.py\", line 119, in worker\n",
      "    result = (True, func(*args, **kwds))\n",
      "  File \"/usr/lib/python3.5/multiprocessing/pool.py\", line 119, in worker\n",
      "    result = (True, func(*args, **kwds))\n",
      "  File \"/home/arjoonn/Desktop/rlagents/rlagents/tools.py\", line 31, in run_n_episodes\n",
      "    act = agent.get_action(obs)\n",
      "  File \"/home/arjoonn/Desktop/rlagents/rlagents/tools.py\", line 31, in run_n_episodes\n",
      "    act = agent.get_action(obs)\n",
      "  File \"/home/arjoonn/Desktop/rlagents/rlagents/ql.py\", line 45, in get_action\n",
      "    state_actions = [(v, k) for k, v in self.q_table[state].items()]\n",
      "  File \"/home/arjoonn/Desktop/rlagents/rlagents/tools.py\", line 31, in run_n_episodes\n",
      "    act = agent.get_action(obs)\n",
      "  File \"/home/arjoonn/Desktop/rlagents/rlagents/tools.py\", line 31, in run_n_episodes\n",
      "    act = agent.get_action(obs)\n",
      "KeyboardInterrupt\n",
      "  File \"/home/arjoonn/Desktop/rlagents/rlagents/ql.py\", line 46, in get_action\n",
      "    state_actions.sort()  # Sorts in Ascending\n",
      "\n",
      "  0%|          | 0/85 [00:00<?, ?it/s]\u001b[A\n",
      "  6%|▌         | 5/85 [00:00<00:01, 47.97it/s]"
     ]
    },
    {
     "name": "stdout",
     "output_type": "stream",
     "text": [
      "Stopping Experiments...\n"
     ]
    },
    {
     "name": "stderr",
     "output_type": "stream",
     "text": [
      "\u001b[A\n",
      " 32%|███▏      | 27/85 [00:00<00:00, 62.62it/s]\u001b[A\n",
      " 55%|█████▌    | 47/85 [00:00<00:00, 78.05it/s]\u001b[A\n",
      " 82%|████████▏ | 70/85 [00:00<00:00, 97.08it/s]\u001b[A\n",
      "                                               \u001b[A"
     ]
    },
    {
     "data": {
      "image/png": "[encoded data removed]",
      "text/plain": [
       "<matplotlib.figure.Figure at 0x7fa2776a5630>"
      ]
     },
     "metadata": {},
     "output_type": "display_data"
    }
   ],
   "source": [
    "run_fn(rightshift, eps=1000)"
   ]
  },
  {
   "cell_type": "code",
   "execution_count": null,
   "metadata": {
    "collapsed": true
   },
   "outputs": [],
   "source": [
    "run_fn(sorting, eps=1000)"
   ]
  }
 ],
 "metadata": {
  "kernelspec": {
   "display_name": "Python 3",
   "language": "python",
   "name": "python3"
  },
  "language_info": {
   "codemirror_mode": {
    "name": "ipython",
    "version": 3
   },
   "file_extension": ".py",
   "mimetype": "text/x-python",
   "name": "python",
   "nbconvert_exporter": "python",
   "pygments_lexer": "ipython3",
   "version": "3.5.3"
  }
 },
 "nbformat": 4,
 "nbformat_minor": 2
}
