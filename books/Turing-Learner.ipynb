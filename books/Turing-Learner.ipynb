{
 "cells": [
  {
   "cell_type": "code",
   "execution_count": 1,
   "metadata": {
    "collapsed": true
   },
   "outputs": [],
   "source": [
    "import os\n",
    "import random\n",
    "import ujson\n",
    "from rlagents import MCAgent, QLAgent, benchmark\n",
    "import seaborn as sns\n",
    "import pandas as pd\n",
    "from tqdm import tqdm_notebook, tqdm\n",
    "%matplotlib inline"
   ]
  },
  {
   "cell_type": "markdown",
   "metadata": {},
   "source": [
    "## TuringLearner\n",
    "Can a Reinforcement Agent learn to perform right shift using a Turing Machine?\n",
    "\n",
    "Turing machines represent a powerful class of computing machines. The Human input to those machines is that part of the machine which contains it's 'programming'. Namely the part which says what action to take."
   ]
  },
  {
   "cell_type": "code",
   "execution_count": 2,
   "metadata": {},
   "outputs": [
    {
     "data": {
      "text/plain": [
       "(0, 0, 12)"
      ]
     },
     "execution_count": 2,
     "metadata": {},
     "output_type": "execute_result"
    }
   ],
   "source": [
    "from rlagents import __version__\n",
    "__version__"
   ]
  },
  {
   "cell_type": "code",
   "execution_count": 3,
   "metadata": {},
   "outputs": [
    {
     "name": "stdout",
     "output_type": "stream",
     "text": [
      "[<QLearner>]\n"
     ]
    }
   ],
   "source": [
    "actions = ['<', '>', 'r', 'w', 'stop']\n",
    "agent_list = [QLAgent(actions)]\n",
    "print(agent_list)"
   ]
  },
  {
   "cell_type": "code",
   "execution_count": 4,
   "metadata": {
    "collapsed": true
   },
   "outputs": [],
   "source": [
    "class TuringWorld:\n",
    "    def __init__(self, iogen):\n",
    "        self.iogen = iogen\n",
    "        self.reset()\n",
    "    \n",
    "    def reset(self):\n",
    "        self.inp, self.out = self.iogen()\n",
    "        self.out_tape = list(self.out)\n",
    "        \n",
    "        self.tape = list(self.inp)\n",
    "        self.rlimit = len(self.tape) - 1\n",
    "        self.head = 0\n",
    "        self.cache = '0'\n",
    "        return [self.tape[self.head], self.cache, self.head]\n",
    "    \n",
    "    def copy(self):\n",
    "        t = TuringWorld(self.iogen)\n",
    "        t.tape = self.tape\n",
    "        t.head = self.head\n",
    "        t.cache = self.cache\n",
    "        t.inp, t.out = self.inp, self.out\n",
    "        t.out_tape = self.out_tape\n",
    "        return t\n",
    "\n",
    "    def step(self, act):\n",
    "        done = False\n",
    "        rew = 0\n",
    "        if act == '<':\n",
    "            self.head = max(0, self.head - 1)\n",
    "        elif act == '>':\n",
    "            self.head = min(self.head + 1, self.rlimit)\n",
    "        elif act == 'r':\n",
    "            self.cache = self.tape[self.head]\n",
    "        elif act == 'w':\n",
    "            self.tape[self.head] = self.cache\n",
    "        elif act == 'stop':\n",
    "            done = True\n",
    "            rew = sum([i==j for i, j in zip(self.out_tape, self.tape)]) / len(self.out_tape)\n",
    "        return [self.tape[self.head], self.cache, self.head], rew ,done, None"
   ]
  },
  {
   "cell_type": "code",
   "execution_count": 5,
   "metadata": {
    "collapsed": true
   },
   "outputs": [],
   "source": [
    "def divbytwogen():\n",
    "    a = int(random.random()*100)\n",
    "    b = a // 2\n",
    "    a, b = bin(a)[2:], bin(b)[2:]\n",
    "    return a, b\n",
    "world_list = [TuringWorld(divbytwogen)]"
   ]
  },
  {
   "cell_type": "markdown",
   "metadata": {},
   "source": [
    "## Running bench"
   ]
  },
  {
   "cell_type": "code",
   "execution_count": 6,
   "metadata": {
    "collapsed": true
   },
   "outputs": [],
   "source": [
    "!rm -rf DataDir/"
   ]
  },
  {
   "cell_type": "code",
   "execution_count": 7,
   "metadata": {},
   "outputs": [
    {
     "name": "stdout",
     "output_type": "stream",
     "text": [
      "DataDir does not exist. Creating...\n",
      "Building Dispatch list...\n",
      "Running experiments...\n"
     ]
    },
    {
     "name": "stderr",
     "output_type": "stream",
     "text": [
      "100%|██████████| 2000/2000 [00:15<00:00, 115.40it/s]\n"
     ]
    },
    {
     "name": "stdout",
     "output_type": "stream",
     "text": [
      "Experiments completed...\n"
     ]
    }
   ],
   "source": [
    "paths = benchmark(agent_list, world_list, 1000, None, 2000)"
   ]
  },
  {
   "cell_type": "code",
   "execution_count": 8,
   "metadata": {},
   "outputs": [
    {
     "name": "stderr",
     "output_type": "stream",
     "text": [
      "                                                    \r"
     ]
    }
   ],
   "source": [
    "paths = ['DataDir/'+i for i in os.listdir('DataDir/')]\n",
    "data = []\n",
    "for p in tqdm(paths, leave=False):\n",
    "    with open(p, 'r') as fl:\n",
    "        da = ujson.load(fl)\n",
    "        \n",
    "        x = [(None, 'Monte' in d[1], None, int(d[3]), float(d[4]), int(d[5]))\n",
    "             for d in da]\n",
    "        data.extend(x)"
   ]
  },
  {
   "cell_type": "markdown",
   "metadata": {},
   "source": [
    "## Result Plotting"
   ]
  },
  {
   "cell_type": "code",
   "execution_count": 9,
   "metadata": {
    "collapsed": true
   },
   "outputs": [],
   "source": [
    "data = pd.DataFrame(data, columns=['runid', 'agent', 'world', 'ep', 'rew', 'trial'])\n",
    "data.agent = 'Q Learning'"
   ]
  },
  {
   "cell_type": "code",
   "execution_count": 12,
   "metadata": {},
   "outputs": [
    {
     "data": {
      "text/plain": [
       "<matplotlib.axes._subplots.AxesSubplot at 0x7f4322424f98>"
      ]
     },
     "execution_count": 12,
     "metadata": {},
     "output_type": "execute_result"
    },
    {
     "data": {
      "image/png": "[encoded data removed]",
      "text/plain": [
       "<matplotlib.figure.Figure at 0x7f43227fbc18>"
      ]
     },
     "metadata": {},
     "output_type": "display_data"
    }
   ],
   "source": [
    "sns.tsplot(data, time='ep', value='rew', unit='trial', condition='agent', ci=95)"
   ]
  },
  {
   "cell_type": "code",
   "execution_count": 11,
   "metadata": {
    "collapsed": true
   },
   "outputs": [],
   "source": [
    "!rm -rf DataDir/"
   ]
  }
 ],
 "metadata": {
  "kernelspec": {
   "display_name": "Python 3",
   "language": "python",
   "name": "python3"
  },
  "language_info": {
   "codemirror_mode": {
    "name": "ipython",
    "version": 3
   },
   "file_extension": ".py",
   "mimetype": "text/x-python",
   "name": "python",
   "nbconvert_exporter": "python",
   "pygments_lexer": "ipython3",
   "version": "3.5.3"
  }
 },
 "nbformat": 4,
 "nbformat_minor": 2
}
