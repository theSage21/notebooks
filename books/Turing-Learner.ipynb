{
 "cells": [
  {
   "cell_type": "code",
   "execution_count": 1,
   "metadata": {
    "collapsed": true
   },
   "outputs": [],
   "source": [
    "import os\n",
    "import editdistance\n",
    "\n",
    "import random\n",
    "import ujson as json\n",
    "from rlagents import QLAgent, benchmark, make_df\n",
    "import seaborn as sns\n",
    "import pandas as pd\n",
    "from tqdm import tqdm_notebook, tqdm, trange\n",
    "from functools import reduce\n",
    "from sklearn.metrics import f1_score\n",
    "\n",
    "import numpy as np\n",
    "import warnings\n",
    "warnings.filterwarnings('ignore')\n",
    "import matplotlib.pyplot as plt\n",
    "\n",
    "%matplotlib inline"
   ]
  },
  {
   "cell_type": "markdown",
   "metadata": {},
   "source": [
    "## TuringLearner\n",
    "Can a Reinforcement Agent learn to perform right shift using a Turing Machine?\n",
    "\n",
    "Turing machines represent a powerful class of computing machines. The Human input to those machines is that part of the machine which contains it's 'programming'. Namely the part which says what action to take.\n",
    "\n",
    "The premise is that can such an agent learn to perform tasks based on some metric which is task agnostinc. Here we experiment with the metric being fraction of the tape which was an exact mamtch."
   ]
  },
  {
   "cell_type": "code",
   "execution_count": 2,
   "metadata": {},
   "outputs": [
    {
     "data": {
      "text/plain": [
       "(0, 0, 25)"
      ]
     },
     "execution_count": 2,
     "metadata": {},
     "output_type": "execute_result"
    }
   ],
   "source": [
    "from rlagents import __version__\n",
    "__version__"
   ]
  },
  {
   "cell_type": "markdown",
   "metadata": {},
   "source": [
    "## Turing Learner World"
   ]
  },
  {
   "cell_type": "code",
   "execution_count": 17,
   "metadata": {
    "collapsed": true
   },
   "outputs": [],
   "source": [
    "class TL:\n",
    "    def __init__(self, iogen, actions):\n",
    "        self.iogen = iogen\n",
    "        self.actions = actions\n",
    "        self.reset()\n",
    "    \n",
    "    def reset(self):\n",
    "        self.inp, self.expected = self.iogen()\n",
    "        self.out = list(self.inp)\n",
    "        self.rlimit = len(self.inp) - 1\n",
    "        self.head = 0\n",
    "        self.cache = self.inp[0]\n",
    "        self.comm = 0\n",
    "        self.done = False\n",
    "        return self.__obs()\n",
    "    \n",
    "    def __obs(self):\n",
    "        obs = [self.inp[self.head], self.out[self.head],\n",
    "               self.cache, self.comm]\n",
    "        return obs\n",
    "    \n",
    "    def step(self, actions):\n",
    "        if self.done:\n",
    "            raise Exception('Running done environment {}'.format(self.history) )\n",
    "        act, comm = actions  # Env action and communication action\n",
    "        rew = -1\n",
    "        self.done = (act == 'STOP')\n",
    "        if act == '>':\n",
    "            self.head = min(self.rlimit, self.head+1)\n",
    "        elif act == '<':\n",
    "            self.head = max(0, self.head - 1)\n",
    "        elif act == 'read':\n",
    "            self.cache = self.inp[self.head]\n",
    "        elif act[:5] == 'write':\n",
    "            self.out[self.head] = act[5:]\n",
    "        if self.done:\n",
    "            laddoo = sum(i==j for i, j in zip(self.expected, self.out))/len(self.expected)\n",
    "            assert 0 <= laddoo <= 1\n",
    "            rew += laddoo\n",
    "        obs = self.__obs() # Get the obs\n",
    "        self.comm = comm # Set commm for next iteration\n",
    "        return obs, rew, self.done, None\n",
    "    \n",
    "    def copy(self):\n",
    "        t = TL(self.iogen, self.actions)\n",
    "        return t"
   ]
  },
  {
   "cell_type": "code",
   "execution_count": 33,
   "metadata": {
    "collapsed": true
   },
   "outputs": [],
   "source": [
    " def check_fn(fn, letters, n_comm=2, eps=50000, trials=100):\n",
    "    actions = [(a, i)\n",
    "               for i in range(n_comm)\n",
    "               for l in letters\n",
    "               for a in ['<', '>', 'write'+l]]\n",
    "    actions += [('STOP', 0)]\n",
    "    actions = list(set(actions))\n",
    "    \n",
    "    wo = [TL(fn, actions)]\n",
    "    ag = [QLAgent(actions)]\n",
    "    \n",
    "    print('{:,} actions'.format(len(actions)))\n",
    "    print('Runing {}'.format(fn.__name__))\n",
    "    ! rm -rf DataDir/\n",
    "    paths = benchmark(ag, wo, eps, None, trials)\n",
    "    df = make_df(paths)\n",
    "    return df"
   ]
  },
  {
   "cell_type": "code",
   "execution_count": 34,
   "metadata": {
    "collapsed": true
   },
   "outputs": [],
   "source": [
    "def evaluate(fn, letters, n_comm=2, episodes=20*1000, measure=None):\n",
    "    if measure is None:\n",
    "        measure = lambda a, b: sum(i==j for i, j in zip(a, b))/len(a)\n",
    "        \n",
    "    actions = [(a, i)\n",
    "               for i in range(n_comm)\n",
    "               for l in letters\n",
    "               for a in ['<', '>', 'write'+l]]\n",
    "    actions += [('STOP', 0)]\n",
    "    actions = list(set(actions))\n",
    "    \n",
    "    env = TL(fn, actions)\n",
    "    ag = QLAgent(actions)\n",
    "    # ---------------\n",
    "    data = []\n",
    "    ag.reset()\n",
    "    for ep in range(episodes):\n",
    "        last_episode = (ep+1) == episodes\n",
    "        obs = env.reset()\n",
    "        for step in range(int(1e20)):\n",
    "            act = ag.get_action(obs)\n",
    "            if last_episode:\n",
    "                print(''.join(env.out), obs, act)\n",
    "            obs, rew, done, _ = env.step(act)\n",
    "            ag.observe_reward(rew)\n",
    "            if done:\n",
    "                break\n",
    "        data.append(measure(env.expected, env.out))\n",
    "    return data"
   ]
  },
  {
   "cell_type": "code",
   "execution_count": 35,
   "metadata": {
    "collapsed": true
   },
   "outputs": [],
   "source": [
    "def paint(df, fn, exp=None, window=100):\n",
    "    values = [(e, r) for e, r in dict(df.groupby('ep').rew.mean()).items()]\n",
    "    values.sort(key=lambda x: x[0])\n",
    "    r = [i[1] for i in values]\n",
    "    r = pd.Series(r).rolling(window).mean()\n",
    "    plt.plot(r.index, r.values, label=fn.__name__)\n",
    "    \n",
    "    if exp is not None:\n",
    "        plt.plot(v[:, 0],[exp for _ in v[:, 1]], label='Exp = {}'.format(exp))\n",
    "    \n",
    "    plt.xlabel('Episodes')\n",
    "    plt.ylabel('Mean Total Reward over {:,} trials'.format(df.trial.max()+1))\n",
    "    plt.legend()\n",
    "    plt.title('Reward received by Agent. Smoothed ({} window)'.format(window))"
   ]
  },
  {
   "cell_type": "markdown",
   "metadata": {},
   "source": [
    "## Position Tagging\n",
    "\n",
    "Here we try to teach it a function which depends only on position and not on the actual text."
   ]
  },
  {
   "cell_type": "code",
   "execution_count": 36,
   "metadata": {
    "collapsed": true
   },
   "outputs": [],
   "source": [
    "def periodic_pos():\n",
    "    letters = 'abcdefghijklmnopqrtuvwxyz'\n",
    "    text = [random.choice(letters) for _ in range(10)]\n",
    "    labels = ['+' if (i%6==0) else '-' for i, letter in enumerate(text)]\n",
    "    return text, labels"
   ]
  },
  {
   "cell_type": "code",
   "execution_count": 37,
   "metadata": {},
   "outputs": [
    {
     "name": "stdout",
     "output_type": "stream",
     "text": [
      "bfiqqwtfcj\n",
      "+-----+---\n"
     ]
    }
   ],
   "source": [
    "a, b = periodic_pos()\n",
    "print(''.join(a))\n",
    "print(''.join(b))"
   ]
  },
  {
   "cell_type": "code",
   "execution_count": 39,
   "metadata": {},
   "outputs": [
    {
     "name": "stderr",
     "output_type": "stream",
     "text": [
      "\n"
     ]
    },
    {
     "name": "stdout",
     "output_type": "stream",
     "text": [
      "9 actions\n",
      "Runing periodic_pos\n",
      "DataDir does not exist. Creating...\n",
      "Building Dispatch list...\n",
      "Running experiments...\n"
     ]
    },
    {
     "name": "stderr",
     "output_type": "stream",
     "text": [
      "\n",
      "\n",
      "\n",
      "\n",
      "\n",
      "\n",
      "  0%|          | 0/100 [00:00<?, ?it/s]\u001b[A\u001b[A\n",
      "\u001b[A\u001b[A\n",
      "\u001b[A\n",
      "\u001b[A\n",
      "\u001b[A\n",
      "\n",
      "  1%|          | 1/100 [00:08<13:37,  8.26s/it]\u001b[A\n",
      "  2%|▏         | 2/100 [00:08<09:33,  5.86s/it]\u001b[A\n",
      "  4%|▍         | 4/100 [00:08<06:38,  4.15s/it]\u001b[A\n",
      "  5%|▌         | 5/100 [00:16<08:10,  5.16s/it]\u001b[A\n",
      "  6%|▌         | 6/100 [00:16<05:45,  3.67s/it]\u001b[A\n",
      "  7%|▋         | 7/100 [00:16<04:05,  2.64s/it]\u001b[A\n",
      "  8%|▊         | 8/100 [00:17<03:09,  2.06s/it]\u001b[A\n",
      "  9%|▉         | 9/100 [00:24<05:12,  3.44s/it]\u001b[A\n",
      " 10%|█         | 10/100 [00:24<03:41,  2.46s/it]\u001b[A\n",
      " 12%|█▏        | 12/100 [00:25<02:52,  1.96s/it]\u001b[A\n",
      " 13%|█▎        | 13/100 [00:31<04:37,  3.19s/it]\u001b[A\n",
      " 15%|█▌        | 15/100 [00:32<03:13,  2.28s/it]\u001b[A\n",
      " 16%|█▌        | 16/100 [00:34<03:09,  2.26s/it]\u001b[A\n",
      " 17%|█▋        | 17/100 [00:39<04:18,  3.11s/it]\u001b[A\n",
      " 18%|█▊        | 18/100 [00:39<03:01,  2.21s/it]\u001b[A\n",
      " 19%|█▉        | 19/100 [00:40<02:17,  1.70s/it]\u001b[A\n",
      " 20%|██        | 20/100 [00:42<02:35,  1.94s/it]\u001b[A\n",
      " 21%|██        | 21/100 [00:47<03:33,  2.70s/it]\u001b[A\n",
      " 22%|██▏       | 22/100 [00:47<02:35,  2.00s/it]\u001b[A\n",
      " 23%|██▎       | 23/100 [00:48<02:05,  1.63s/it]\u001b[A\n",
      " 24%|██▍       | 24/100 [00:50<02:25,  1.91s/it]\u001b[A\n",
      " 25%|██▌       | 25/100 [00:55<03:12,  2.57s/it]\u001b[A\n",
      " 26%|██▌       | 26/100 [00:55<02:32,  2.06s/it]\u001b[A\n",
      " 27%|██▋       | 27/100 [00:56<02:03,  1.70s/it]\u001b[A\n",
      " 28%|██▊       | 28/100 [00:59<02:26,  2.03s/it]\u001b[A\n",
      " 29%|██▉       | 29/100 [01:02<02:49,  2.38s/it]\u001b[A\n",
      " 30%|███       | 30/100 [01:04<02:23,  2.05s/it]\u001b[A\n",
      " 31%|███       | 31/100 [01:04<01:50,  1.60s/it]\u001b[A\n",
      " 32%|███▏      | 32/100 [01:07<02:26,  2.15s/it]\u001b[A\n",
      " 33%|███▎      | 33/100 [01:10<02:40,  2.40s/it]\u001b[A\n",
      " 34%|███▍      | 34/100 [01:12<02:14,  2.03s/it]\u001b[A\n",
      " 35%|███▌      | 35/100 [01:12<01:47,  1.66s/it]\u001b[A\n",
      " 36%|███▌      | 36/100 [01:15<02:12,  2.07s/it]\u001b[A\n",
      " 37%|███▋      | 37/100 [01:19<02:32,  2.42s/it]\u001b[A\n",
      " 38%|███▊      | 38/100 [01:20<02:04,  2.01s/it]\u001b[A\n",
      " 39%|███▉      | 39/100 [01:21<01:42,  1.68s/it]\u001b[A\n",
      " 40%|████      | 40/100 [01:24<02:08,  2.14s/it]\u001b[A\n",
      " 41%|████      | 41/100 [01:26<02:11,  2.23s/it]\u001b[A\n",
      " 42%|████▏     | 42/100 [01:28<01:54,  1.97s/it]\u001b[A\n",
      " 43%|████▎     | 43/100 [01:29<01:33,  1.64s/it]\u001b[A\n",
      " 44%|████▍     | 44/100 [01:32<01:59,  2.13s/it]\u001b[A\n",
      " 45%|████▌     | 45/100 [01:34<01:56,  2.11s/it]\u001b[A\n",
      " 46%|████▌     | 46/100 [01:36<01:47,  1.99s/it]\u001b[A\n",
      " 47%|████▋     | 47/100 [01:36<01:27,  1.64s/it]\u001b[A\n",
      " 48%|████▊     | 48/100 [01:40<01:54,  2.20s/it]\u001b[A"
     ]
    },
    {
     "name": "stdout",
     "output_type": "stream",
     "text": [
      "Stopping Experiments...\n",
      "48 files\n",
      "Reading files...\n"
     ]
    },
    {
     "name": "stderr",
     "output_type": "stream",
     "text": [
      "\n",
      "\u001b[A\n",
      "  0%|                                                    | 0/48 [00:00<?, ?it/s]\n",
      "\n",
      "\n",
      "\u001b[A\n",
      "\n",
      "  2%|▉                                           | 1/48 [00:00<00:10,  4.44it/s]\u001b[A\n",
      "  8%|███▋                                        | 4/48 [00:00<00:07,  5.96it/s]\u001b[A\n",
      " 15%|██████▍                                     | 7/48 [00:00<00:05,  7.80it/s]\u001b[A\n",
      " 21%|████████▉                                  | 10/48 [00:00<00:03,  9.90it/s]\u001b[A\n",
      " 25%|██████████▊                                | 12/48 [00:00<00:03, 11.23it/s]\u001b[A\n",
      " 31%|█████████████▍                             | 15/48 [00:00<00:02, 13.54it/s]\u001b[A\n",
      " 38%|████████████████▏                          | 18/48 [00:00<00:01, 15.87it/s]\u001b[A\n",
      " 44%|██████████████████▊                        | 21/48 [00:01<00:01, 17.35it/s]\u001b[A\n",
      " 50%|█████████████████████▌                     | 24/48 [00:01<00:01, 18.49it/s]\u001b[A\n",
      " 56%|████████████████████████▏                  | 27/48 [00:01<00:01, 20.71it/s]\u001b[A\n",
      " 62%|██████████████████████████▉                | 30/48 [00:01<00:00, 20.62it/s]\u001b[A\n",
      " 69%|█████████████████████████████▌             | 33/48 [00:01<00:00, 22.35it/s]\u001b[A\n",
      " 75%|████████████████████████████████▎          | 36/48 [00:01<00:00, 22.94it/s]\u001b[A\n",
      " 81%|██████████████████████████████████▉        | 39/48 [00:01<00:00, 22.59it/s]\u001b[A\n",
      " 90%|██████████████████████████████████████▌    | 43/48 [00:01<00:00, 23.83it/s]\u001b[A\n",
      " 96%|█████████████████████████████████████████▏ | 46/48 [00:02<00:00, 23.34it/s]\u001b[A\n",
      "                                                                                \u001b[A"
     ]
    },
    {
     "name": "stdout",
     "output_type": "stream",
     "text": [
      "Painting...\n"
     ]
    }
   ],
   "source": [
    "df = check_fn(periodic_pos, '+-')"
   ]
  },
  {
   "cell_type": "code",
   "execution_count": 40,
   "metadata": {},
   "outputs": [
    {
     "data": {
      "image/png": "[encoded data removed]",
      "text/plain": [
       "<matplotlib.figure.Figure at 0x7fd9fa080cf8>"
      ]
     },
     "metadata": {},
     "output_type": "display_data"
    }
   ],
   "source": [
    "paint(df, periodic_pos)"
   ]
  },
  {
   "cell_type": "code",
   "execution_count": 42,
   "metadata": {},
   "outputs": [
    {
     "name": "stdout",
     "output_type": "stream",
     "text": [
      "ebyhblalrz ['e', 'e', 'e', 0] ('>', 1)\n",
      "ebyhblalrz ['b', 'b', 'e', 0] ('write+', 0)\n",
      "e+yhblalrz ['b', '+', 'e', 1] ('>', 1)\n",
      "e+yhblalrz ['y', 'y', 'e', 0] ('>', 1)\n",
      "e+yhblalrz ['h', 'h', 'e', 1] ('write-', 1)\n",
      "e+y-blalrz ['h', '-', 'e', 1] ('>', 1)\n",
      "e+y-blalrz ['b', 'b', 'e', 1] ('<', 0)\n",
      "e+y-blalrz ['h', '-', 'e', 1] ('>', 0)\n",
      "e+y-blalrz ['b', 'b', 'e', 0] ('write+', 0)\n",
      "e+y-+lalrz ['b', '+', 'e', 0] ('>', 0)\n",
      "e+y-+lalrz ['l', 'l', 'e', 0] ('write-', 0)\n",
      "e+y-+-alrz ['l', '-', 'e', 0] ('>', 0)\n",
      "e+y-+-alrz ['a', 'a', 'e', 0] ('write+', 0)\n",
      "e+y-+-+lrz ['a', '+', 'e', 0] ('write+', 1)\n",
      "e+y-+-+lrz ['a', '+', 'e', 0] ('write+', 0)\n",
      "e+y-+-+lrz ['a', '+', 'e', 1] ('write+', 1)\n",
      "e+y-+-+lrz ['a', '+', 'e', 0] ('<', 1)\n",
      "e+y-+-+lrz ['l', '-', 'e', 1] ('write-', 1)\n",
      "e+y-+-+lrz ['l', '-', 'e', 1] ('write-', 0)\n",
      "e+y-+-+lrz ['l', '-', 'e', 1] ('write+', 1)\n",
      "e+y-+++lrz ['l', '+', 'e', 0] ('>', 0)\n",
      "e+y-+++lrz ['a', '+', 'e', 1] ('write+', 0)\n",
      "e+y-+++lrz ['a', '+', 'e', 0] ('>', 1)\n",
      "e+y-+++lrz ['l', 'l', 'e', 0] ('write+', 1)\n",
      "e+y-++++rz ['l', '+', 'e', 1] ('write-', 1)\n",
      "e+y-+++-rz ['l', '-', 'e', 1] ('write+', 0)\n",
      "e+y-++++rz ['l', '+', 'e', 1] ('write+', 1)\n",
      "e+y-++++rz ['l', '+', 'e', 0] ('<', 1)\n",
      "e+y-++++rz ['a', '+', 'e', 1] ('write+', 1)\n",
      "e+y-++++rz ['a', '+', 'e', 1] ('>', 1)\n",
      "e+y-++++rz ['l', '+', 'e', 1] ('write+', 0)\n",
      "e+y-++++rz ['l', '+', 'e', 1] ('>', 1)\n",
      "e+y-++++rz ['r', 'r', 'e', 0] ('STOP', 0)\n"
     ]
    }
   ],
   "source": [
    "_ = evaluate(periodic_pos, letters='+-', episodes=20000)"
   ]
  },
  {
   "cell_type": "markdown",
   "metadata": {},
   "source": [
    "## Index and text\n",
    "\n",
    "a task which depends on both index and task"
   ]
  },
  {
   "cell_type": "code",
   "execution_count": 46,
   "metadata": {
    "collapsed": true
   },
   "outputs": [],
   "source": [
    "def postext():\n",
    "    letters = 'abcdefghijklmnopqrtuvwxyz'\n",
    "    text = [random.choice(letters) for _ in range(50)]\n",
    "    labels = ['+' if ((i%5==0 or i%7==0) and letter in 'abc') else '-' for i, letter in enumerate(text)]\n",
    "    return text, labels"
   ]
  },
  {
   "cell_type": "code",
   "execution_count": 47,
   "metadata": {},
   "outputs": [
    {
     "name": "stdout",
     "output_type": "stream",
     "text": [
      "wkuvimpucqbhpeklknudwxdygwkkzzlptcqoacgyjkjluprdcl\n",
      "----------+---------------------------------------\n"
     ]
    }
   ],
   "source": [
    "a, b = postext()\n",
    "print(''.join(a))\n",
    "print(''.join(b))"
   ]
  },
  {
   "cell_type": "code",
   "execution_count": 48,
   "metadata": {},
   "outputs": [
    {
     "name": "stderr",
     "output_type": "stream",
     "text": [
      "\n"
     ]
    },
    {
     "name": "stdout",
     "output_type": "stream",
     "text": [
      "9 actions\n",
      "Runing postext\n",
      "DataDir does not exist. Creating...\n",
      "Building Dispatch list...\n",
      "Running experiments...\n"
     ]
    },
    {
     "name": "stderr",
     "output_type": "stream",
     "text": [
      "\n",
      "\n",
      "\n",
      "\n",
      "\n",
      "  0%|          | 0/100 [00:00<?, ?it/s]\u001b[A\n",
      " 12%|█▏        | 12/100 [00:41<04:42,  3.21s/it]"
     ]
    },
    {
     "name": "stdout",
     "output_type": "stream",
     "text": [
      "Stopping Experiments...\n",
      "12 files\n",
      "Reading files...\n"
     ]
    },
    {
     "name": "stderr",
     "output_type": "stream",
     "text": [
      "\n",
      "\n",
      "\n",
      "\n",
      "  0%|                                                    | 0/12 [00:00<?, ?it/s]\n",
      "\u001b[A\n",
      "  8%|███▋                                        | 1/12 [00:00<00:01,  7.94it/s]\u001b[A\n",
      " 42%|██████████████████▎                         | 5/12 [00:00<00:00,  9.52it/s]\u001b[A\n",
      " 75%|█████████████████████████████████           | 9/12 [00:00<00:00, 12.11it/s]\u001b[A\n",
      "                                                                                \u001b[A"
     ]
    },
    {
     "name": "stdout",
     "output_type": "stream",
     "text": [
      "Painting...\n"
     ]
    }
   ],
   "source": [
    "df = check_fn(postext, '+-')"
   ]
  },
  {
   "cell_type": "code",
   "execution_count": 49,
   "metadata": {},
   "outputs": [
    {
     "data": {
      "image/png": "[encoded data removed]",
      "text/plain": [
       "<matplotlib.figure.Figure at 0x7fd9aea2b9e8>"
      ]
     },
     "metadata": {},
     "output_type": "display_data"
    }
   ],
   "source": [
    "paint(df, postext)"
   ]
  },
  {
   "cell_type": "markdown",
   "metadata": {},
   "source": [
    "\n",
    "## A more rigorous battery of tasks\n",
    "\n",
    "We see that these tasks converge to their Edit distances. At this time we are confident enough to try and approach real tasks for this method."
   ]
  },
  {
   "cell_type": "code",
   "execution_count": null,
   "metadata": {
    "collapsed": true
   },
   "outputs": [],
   "source": [
    "def sorting():\n",
    "    letters = 'abcdefghijklmnopqrtuvwxyz'\n",
    "    text = [random.choice(letters) for _ in range(100)]\n",
    "    labels = list(sorted(text))\n",
    "    return text, labels"
   ]
  },
  {
   "cell_type": "code",
   "execution_count": null,
   "metadata": {},
   "outputs": [],
   "source": [
    "letters = 'abcdefghijklmnopqrtuvwxyz'\n",
    "df = check_fn(sorting, letters, eps=1500)"
   ]
  },
  {
   "cell_type": "code",
   "execution_count": null,
   "metadata": {},
   "outputs": [],
   "source": [
    "paint(df, sorting)"
   ]
  },
  {
   "cell_type": "markdown",
   "metadata": {},
   "source": [
    "## Learning parameterized functions\n",
    "\n",
    "We attempt to make it learn a parameterized copy function. A number **M** is given and the next **N** inputs have to be copied **M** number of times. We need the learner to learn the following things.\n",
    "\n",
    "- what to copy\n",
    "- how to repeat it\n",
    "- when to stop repeating it"
   ]
  },
  {
   "cell_type": "code",
   "execution_count": null,
   "metadata": {
    "collapsed": true
   },
   "outputs": [],
   "source": [
    "def nestedcopy():\n",
    "    letters = 'bcdefghijklmnopqrtuvwxyz'\n",
    "    pad_char = 'a'\n",
    "    letters += pad_char\n",
    "    lim = 100\n",
    "    \n",
    "    text = [random.choice(letters) for _ in range(random.choice(range(1, 11)))]\n",
    "    rep = random.choice(range(10))\n",
    "    \n",
    "    inp = [str(rep)] + text\n",
    "    label = text*rep\n",
    "    \n",
    "    inp, label = inp + [pad_char]*(lim - len(inp)), label + [pad_char]*(lim - len(label))\n",
    "    return inp[:lim], label[:lim]"
   ]
  },
  {
   "cell_type": "code",
   "execution_count": null,
   "metadata": {},
   "outputs": [],
   "source": [
    "a, b = nestedcopy()\n",
    "print(''.join(a), len(a))\n",
    "print(''.join(b), len(b))"
   ]
  },
  {
   "cell_type": "code",
   "execution_count": null,
   "metadata": {},
   "outputs": [],
   "source": [
    "letters = 'abcdefghijklmnopqrtuvwxyz'\n",
    "df = check_fn(nestedcopy, letters, eps=1500, trials=200)"
   ]
  },
  {
   "cell_type": "code",
   "execution_count": null,
   "metadata": {},
   "outputs": [],
   "source": [
    "paint(df, nestedcopy)"
   ]
  },
  {
   "cell_type": "markdown",
   "metadata": {},
   "source": [
    "## Addition\n",
    "\n",
    "We try to teach it addition as an additional example."
   ]
  },
  {
   "cell_type": "code",
   "execution_count": null,
   "metadata": {
    "collapsed": true
   },
   "outputs": [],
   "source": [
    "def addition():\n",
    "    letters = '0123456789+'\n",
    "    pad = ' '\n",
    "    n_digits = 15\n",
    "    limit = n_digits*2+2\n",
    "    letters += pad\n",
    "    a = random.choice(range(10**n_digits))  # upto 4 digit numbers\n",
    "    b = random.choice(range(10**n_digits))\n",
    "    c = a+b\n",
    "    inp = list('{}+{}'.format(a, b))\n",
    "    out = list(str(c))\n",
    "\n",
    "    inp, out = inp + [pad]*(limit - len(inp)), out + [pad]*(limit - len(out))\n",
    "    return inp[:limit], out[:limit]"
   ]
  },
  {
   "cell_type": "code",
   "execution_count": null,
   "metadata": {},
   "outputs": [],
   "source": [
    "a, b = addition()\n",
    "print(''.join(a), '|')\n",
    "print(''.join(b), '|')"
   ]
  },
  {
   "cell_type": "code",
   "execution_count": null,
   "metadata": {},
   "outputs": [],
   "source": [
    "letters = '0123456789+ '\n",
    "df = check_fn(addition, letters, eps=900, trials=200)"
   ]
  },
  {
   "cell_type": "code",
   "execution_count": null,
   "metadata": {},
   "outputs": [],
   "source": [
    "paint(df, addition, ed=False)"
   ]
  },
  {
   "cell_type": "code",
   "execution_count": null,
   "metadata": {
    "collapsed": true
   },
   "outputs": [],
   "source": [
    "## Multiplication"
   ]
  },
  {
   "cell_type": "code",
   "execution_count": null,
   "metadata": {
    "collapsed": true
   },
   "outputs": [],
   "source": []
  }
 ],
 "metadata": {
  "kernelspec": {
   "display_name": "Python 3",
   "language": "python",
   "name": "python3"
  },
  "language_info": {
   "codemirror_mode": {
    "name": "ipython",
    "version": 3
   },
   "file_extension": ".py",
   "mimetype": "text/x-python",
   "name": "python",
   "nbconvert_exporter": "python",
   "pygments_lexer": "ipython3",
   "version": "3.5.3"
  }
 },
 "nbformat": 4,
 "nbformat_minor": 2
}
