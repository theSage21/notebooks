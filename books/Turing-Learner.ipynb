{
 "cells": [
  {
   "cell_type": "code",
   "execution_count": 1,
   "metadata": {
    "collapsed": true
   },
   "outputs": [],
   "source": [
    "import os\n",
    "import editdistance\n",
    "\n",
    "import random\n",
    "import ujson as json\n",
    "from rlagents import QLAgent, benchmark, make_df\n",
    "import seaborn as sns\n",
    "import pandas as pd\n",
    "from tqdm import tqdm_notebook, tqdm, trange\n",
    "from functools import reduce\n",
    "\n",
    "import numpy as np\n",
    "import warnings\n",
    "warnings.filterwarnings('ignore')\n",
    "from sklearn.metrics import f1_score\n",
    "import matplotlib.pyplot as plt\n",
    "%matplotlib inline"
   ]
  },
  {
   "cell_type": "markdown",
   "metadata": {},
   "source": [
    "## TuringLearner\n",
    "Can a Reinforcement Agent learn to perform right shift using a Turing Machine?\n",
    "\n",
    "Turing machines represent a powerful class of computing machines. The Human input to those machines is that part of the machine which contains it's 'programming'. Namely the part which says what action to take.\n",
    "\n",
    "The premise is that can such an agent learn to perform tasks based on some metric which is task agnostinc. Here we experiment with the metric being fraction of the tape which was an exact mamtch."
   ]
  },
  {
   "cell_type": "code",
   "execution_count": 4,
   "metadata": {},
   "outputs": [
    {
     "data": {
      "text/plain": [
       "(0, 0, 24)"
      ]
     },
     "execution_count": 4,
     "metadata": {},
     "output_type": "execute_result"
    }
   ],
   "source": [
    "from rlagents import __version__\n",
    "__version__"
   ]
  },
  {
   "cell_type": "markdown",
   "metadata": {},
   "source": [
    "## Turing Learner World"
   ]
  },
  {
   "cell_type": "code",
   "execution_count": 5,
   "metadata": {
    "collapsed": true
   },
   "outputs": [],
   "source": [
    "class TL:\n",
    "    def __init__(self, iogen, actions):\n",
    "        self.iogen = iogen\n",
    "        self.actions = actions\n",
    "        self.reset()\n",
    "    \n",
    "    def reset(self):\n",
    "        self.inp, self.expected = self.iogen()\n",
    "        self.rlimit = len(self.inp) - 1\n",
    "        self.head = 0\n",
    "        self.out = list(self.inp)\n",
    "        self.cache = self.inp[0]\n",
    "        self.comm = 0\n",
    "        self.done = False\n",
    "        return self.__obs()\n",
    "    \n",
    "    def __obs(self):\n",
    "        obs = [self.inp[self.head], self.out[self.head],\n",
    "               self.cache, self.comm]\n",
    "        return obs\n",
    "    \n",
    "    def step(self, actions):\n",
    "        if self.done:\n",
    "            raise Exception('Running done environment {}'.format(self.history) )\n",
    "        act, comm = actions  # Env action and communication action\n",
    "        rew = -1\n",
    "        self.done = (act == 'STOP')\n",
    "        if act == '>':\n",
    "            self.head = min(self.rlimit, self.head+1)\n",
    "        elif act == '<':\n",
    "            self.head = max(0, self.head - 1)\n",
    "        elif act == 'read':\n",
    "            self.cache = self.inp[self.head]\n",
    "        elif act[:5] == 'write':\n",
    "            self.out[self.head] = act[5:]\n",
    "        if self.done:\n",
    "            rew = sum(i==j for i, j in zip(self.expected, self.out))\n",
    "        obs = self.__obs() # Get the obs\n",
    "        self.comm = comm # Set commm for next iteration\n",
    "        return obs, rew, self.done, None\n",
    "    \n",
    "    def copy(self):\n",
    "        t = TL(self.iogen, self.actions)\n",
    "        return t"
   ]
  },
  {
   "cell_type": "code",
   "execution_count": 7,
   "metadata": {
    "collapsed": true
   },
   "outputs": [],
   "source": [
    " def check_fn(fn, letters, n_comm=2, eps=500, trials=100):\n",
    "    actions = [(a, i)\n",
    "               for i in range(n_comm)\n",
    "               for l in letters\n",
    "               for a in ['<', '>', 'write'+l]]\n",
    "    actions += [('STOP', 0)]\n",
    "    actions = list(set(actions))\n",
    "    \n",
    "    wo = [TL(fn, actions)]\n",
    "    ag = [QLAgent(actions)]\n",
    "    \n",
    "    print('{:,} actions'.format(len(actions)))\n",
    "    print('Runing {}'.format(fn.__name__))\n",
    "    ! rm -rf DataDir/\n",
    "    paths = benchmark(ag, wo, eps, None, trials)\n",
    "    df = make_df(paths)\n",
    "    return df"
   ]
  },
  {
   "cell_type": "code",
   "execution_count": 47,
   "metadata": {},
   "outputs": [],
   "source": [
    "def paint(df, fn, ed=True):\n",
    "    values = [(e, r) for e, r in dict(df.groupby('ep').rew.mean()).items()]\n",
    "    values.sort(key=lambda x: x[0])\n",
    "    v = np.array(values)\n",
    "    plt.plot(v[:, 0], v[:, 1], label=fn.__name__)\n",
    "    maxval = v[:,1].max()\n",
    "    plt.plot(v[:, 0],[maxval for _ in v[:, 1]], label='Max = {}'.format(maxval))\n",
    "    \n",
    "    \n",
    "    if ed:\n",
    "        # 1 mil samples\n",
    "        steps = [editdistance.eval(*fn()) for  _ in range(1*100*1000)]\n",
    "        avg_dist = sum(steps)/len(steps)\n",
    "        avg_rew = 100 - avg_dist\n",
    "        plt.plot(v[:, 0],[avg_rew for _ in v[:, 1]], label='EditDist = {}'.format(avg_rew))\n",
    "    \n",
    "    plt.xlabel('Episodes')\n",
    "    plt.ylabel('Mean reward over {:,} trials'.format(df.trial.max()+1))\n",
    "    plt.legend()"
   ]
  },
  {
   "cell_type": "markdown",
   "metadata": {},
   "source": [
    "## Position Tagging\n",
    "\n",
    "Here we try to teach it a function which depends only on position and not on the actual text."
   ]
  },
  {
   "cell_type": "code",
   "execution_count": 9,
   "metadata": {
    "collapsed": true
   },
   "outputs": [],
   "source": [
    "def periodic_pos():\n",
    "    letters = 'abcdefghijklmnopqrtuvwxyz'\n",
    "    text = [random.choice(letters) for _ in range(100)]\n",
    "    labels = ['+' if (i%6==0) else '-' for i, letter in enumerate(text)]\n",
    "    return text, labels"
   ]
  },
  {
   "cell_type": "code",
   "execution_count": 10,
   "metadata": {},
   "outputs": [
    {
     "name": "stdout",
     "output_type": "stream",
     "text": [
      "jcbqbcfjvzkcmznkhbtxmxhnmuqnczcwafgvuqtyimywcvkqotvbrbbeqdfzxnrazuhdttidcnyqmpvuytqerwyyhqiduqhqgaio\n",
      "+-----+-----+-----+-----+-----+-----+-----+-----+-----+-----+-----+-----+-----+-----+-----+-----+---\n"
     ]
    }
   ],
   "source": [
    "a, b = periodic_pos()\n",
    "print(''.join(a))\n",
    "print(''.join(b))"
   ]
  },
  {
   "cell_type": "code",
   "execution_count": 11,
   "metadata": {},
   "outputs": [
    {
     "name": "stdout",
     "output_type": "stream",
     "text": [
      "9 actions\n",
      "Runing periodic_pos\n",
      "DataDir does not exist. Creating...\n",
      "Building Dispatch list...\n",
      "Running experiments...\n"
     ]
    },
    {
     "name": "stderr",
     "output_type": "stream",
     "text": [
      "100%|██████████| 100/100 [00:03<00:00, 30.82it/s]"
     ]
    },
    {
     "name": "stdout",
     "output_type": "stream",
     "text": [
      "Experiments completed...\n",
      "100 files\n",
      "Reading files...\n"
     ]
    },
    {
     "name": "stderr",
     "output_type": "stream",
     "text": [
      "\n",
      "                                                                                "
     ]
    },
    {
     "name": "stdout",
     "output_type": "stream",
     "text": [
      "Painting...\n"
     ]
    },
    {
     "name": "stderr",
     "output_type": "stream",
     "text": [
      "\r"
     ]
    }
   ],
   "source": [
    "df = check_fn(periodic_pos, '+-')"
   ]
  },
  {
   "cell_type": "code",
   "execution_count": 12,
   "metadata": {},
   "outputs": [
    {
     "data": {
      "image/png": "[encoded data removed]",
      "text/plain": [
       "<matplotlib.figure.Figure at 0x7f48c6f3eb38>"
      ]
     },
     "metadata": {},
     "output_type": "display_data"
    }
   ],
   "source": [
    "paint(df, periodic_pos)"
   ]
  },
  {
   "cell_type": "markdown",
   "metadata": {},
   "source": [
    "## Index and text\n",
    "\n",
    "a task which depends on both index and task"
   ]
  },
  {
   "cell_type": "code",
   "execution_count": 16,
   "metadata": {
    "collapsed": true
   },
   "outputs": [],
   "source": [
    "def postext():\n",
    "    letters = 'abcdefghijklmnopqrtuvwxyz'\n",
    "    text = [random.choice(letters) for _ in range(100)]\n",
    "    labels = ['+' if ((i%5==0 or i%7==0) and letter in 'abc') else '-' for i, letter in enumerate(text)]\n",
    "    return text, labels"
   ]
  },
  {
   "cell_type": "code",
   "execution_count": 17,
   "metadata": {},
   "outputs": [
    {
     "name": "stdout",
     "output_type": "stream",
     "text": [
      "9 actions\n",
      "Runing postext\n",
      "DataDir does not exist. Creating...\n",
      "Building Dispatch list...\n",
      "Running experiments...\n"
     ]
    },
    {
     "name": "stderr",
     "output_type": "stream",
     "text": [
      "100%|██████████| 100/100 [00:03<00:00, 29.59it/s]"
     ]
    },
    {
     "name": "stdout",
     "output_type": "stream",
     "text": [
      "Experiments completed...\n",
      "100 files\n",
      "Reading files...\n"
     ]
    },
    {
     "name": "stderr",
     "output_type": "stream",
     "text": [
      "\n",
      "                                                                                \r"
     ]
    },
    {
     "name": "stdout",
     "output_type": "stream",
     "text": [
      "Painting...\n"
     ]
    }
   ],
   "source": [
    "df = check_fn(postext, '+-')"
   ]
  },
  {
   "cell_type": "code",
   "execution_count": 18,
   "metadata": {},
   "outputs": [
    {
     "data": {
      "image/png": "[encoded data removed]",
      "text/plain": [
       "<matplotlib.figure.Figure at 0x7f48c6f61588>"
      ]
     },
     "metadata": {},
     "output_type": "display_data"
    }
   ],
   "source": [
    "paint(df, postext)"
   ]
  },
  {
   "cell_type": "markdown",
   "metadata": {},
   "source": [
    "\n",
    "## A more rigorous battery of tasks\n",
    "\n",
    "We see that these tasks converge to their Edit distances. At this time we are confident enough to try and approach real tasks for this method."
   ]
  },
  {
   "cell_type": "code",
   "execution_count": 19,
   "metadata": {
    "collapsed": true
   },
   "outputs": [],
   "source": [
    "def sorting():\n",
    "    letters = 'abcdefghijklmnopqrtuvwxyz'\n",
    "    text = [random.choice(letters) for _ in range(100)]\n",
    "    labels = list(sorted(text))\n",
    "    return text, labels"
   ]
  },
  {
   "cell_type": "code",
   "execution_count": 20,
   "metadata": {},
   "outputs": [
    {
     "name": "stdout",
     "output_type": "stream",
     "text": [
      "55 actions\n",
      "Runing sorting\n",
      "DataDir does not exist. Creating...\n",
      "Building Dispatch list...\n",
      "Running experiments...\n"
     ]
    },
    {
     "name": "stderr",
     "output_type": "stream",
     "text": [
      "100%|██████████| 100/100 [01:20<00:00,  1.82it/s]"
     ]
    },
    {
     "name": "stdout",
     "output_type": "stream",
     "text": [
      "Experiments completed...\n",
      "100 files\n",
      "Reading files...\n"
     ]
    },
    {
     "name": "stderr",
     "output_type": "stream",
     "text": [
      "\n",
      "                                                                                \r"
     ]
    },
    {
     "name": "stdout",
     "output_type": "stream",
     "text": [
      "Painting...\n"
     ]
    }
   ],
   "source": [
    "letters = 'abcdefghijklmnopqrtuvwxyz'\n",
    "df = check_fn(sorting, letters, eps=1500)"
   ]
  },
  {
   "cell_type": "code",
   "execution_count": 21,
   "metadata": {},
   "outputs": [
    {
     "data": {
      "image/png": "[encoded data removed]",
      "text/plain": [
       "<matplotlib.figure.Figure at 0x7f48dcb40be0>"
      ]
     },
     "metadata": {},
     "output_type": "display_data"
    }
   ],
   "source": [
    "paint(df, sorting)"
   ]
  },
  {
   "cell_type": "markdown",
   "metadata": {},
   "source": [
    "## Learning parameterized functions\n",
    "\n",
    "We attempt to make it learn a parameterized copy function. A number **M** is given and the next **N** inputs have to be copied **M** number of times. We need the learner to learn the following things.\n",
    "\n",
    "- what to copy\n",
    "- how to repeat it\n",
    "- when to stop repeating it"
   ]
  },
  {
   "cell_type": "code",
   "execution_count": 22,
   "metadata": {},
   "outputs": [],
   "source": [
    "def nestedcopy():\n",
    "    letters = 'bcdefghijklmnopqrtuvwxyz'\n",
    "    pad_char = 'a'\n",
    "    letters += pad_char\n",
    "    lim = 100\n",
    "    \n",
    "    text = [random.choice(letters) for _ in range(random.choice(range(1, 11)))]\n",
    "    rep = random.choice(range(10))\n",
    "    \n",
    "    inp = [str(rep)] + text\n",
    "    label = text*rep\n",
    "    \n",
    "    inp, label = inp + [pad_char]*(lim - len(inp)), label + [pad_char]*(lim - len(label))\n",
    "    return inp[:lim], label[:lim]"
   ]
  },
  {
   "cell_type": "code",
   "execution_count": 23,
   "metadata": {},
   "outputs": [
    {
     "name": "stdout",
     "output_type": "stream",
     "text": [
      "4vncnmoptaaaaaaaaaaaaaaaaaaaaaaaaaaaaaaaaaaaaaaaaaaaaaaaaaaaaaaaaaaaaaaaaaaaaaaaaaaaaaaaaaaaaaaaaaaa 100\n",
      "vncnmoptvncnmoptvncnmoptvncnmoptaaaaaaaaaaaaaaaaaaaaaaaaaaaaaaaaaaaaaaaaaaaaaaaaaaaaaaaaaaaaaaaaaaaa 100\n"
     ]
    }
   ],
   "source": [
    "a, b = nestedcopy()\n",
    "print(''.join(a), len(a))\n",
    "print(''.join(b), len(b))"
   ]
  },
  {
   "cell_type": "code",
   "execution_count": 24,
   "metadata": {},
   "outputs": [
    {
     "name": "stdout",
     "output_type": "stream",
     "text": [
      "55 actions\n",
      "Runing nestedcopy\n",
      "DataDir does not exist. Creating...\n",
      "Building Dispatch list...\n",
      "Running experiments...\n"
     ]
    },
    {
     "name": "stderr",
     "output_type": "stream",
     "text": [
      "100%|██████████| 200/200 [01:34<00:00,  2.10it/s]"
     ]
    },
    {
     "name": "stdout",
     "output_type": "stream",
     "text": [
      "Experiments completed...\n",
      "200 files\n",
      "Reading files...\n"
     ]
    },
    {
     "name": "stderr",
     "output_type": "stream",
     "text": [
      "\n",
      "                                                                                \r"
     ]
    },
    {
     "name": "stdout",
     "output_type": "stream",
     "text": [
      "Painting...\n"
     ]
    }
   ],
   "source": [
    "letters = 'abcdefghijklmnopqrtuvwxyz'\n",
    "df = check_fn(nestedcopy, letters, eps=1500, trials=200)"
   ]
  },
  {
   "cell_type": "code",
   "execution_count": 25,
   "metadata": {},
   "outputs": [
    {
     "data": {
      "image/png": "[encoded data removed]",
      "text/plain": [
       "<matplotlib.figure.Figure at 0x7f48da644e48>"
      ]
     },
     "metadata": {},
     "output_type": "display_data"
    }
   ],
   "source": [
    "paint(df, nestedcopy)"
   ]
  },
  {
   "cell_type": "markdown",
   "metadata": {},
   "source": [
    "## Addition\n",
    "\n",
    "We try to teach it addition as an additional example."
   ]
  },
  {
   "cell_type": "code",
   "execution_count": 26,
   "metadata": {
    "collapsed": true
   },
   "outputs": [],
   "source": [
    "def addition():\n",
    "    letters = '0123456789+'\n",
    "    pad = ' '\n",
    "    limit = 10\n",
    "    letters += pad\n",
    "    a = random.choice(range(10000))  # upto 4 digit numbers\n",
    "    b = random.choice(range(10000))\n",
    "    c = a+b\n",
    "    inp = list('{}+{}'.format(a, b))\n",
    "    out = list(str(c))\n",
    "\n",
    "    inp, out = inp + [pad]*(limit - len(inp)), out + [pad]*(limit - len(out))\n",
    "    return inp[:limit], out[:limit]"
   ]
  },
  {
   "cell_type": "code",
   "execution_count": 29,
   "metadata": {},
   "outputs": [
    {
     "name": "stdout",
     "output_type": "stream",
     "text": [
      "2502+8831  |\n",
      "11333      |\n"
     ]
    }
   ],
   "source": [
    "a, b = addition()\n",
    "print(''.join(a), '|')\n",
    "print(''.join(b), '|')"
   ]
  },
  {
   "cell_type": "code",
   "execution_count": 30,
   "metadata": {},
   "outputs": [
    {
     "name": "stdout",
     "output_type": "stream",
     "text": [
      "29 actions\n",
      "Runing addition\n",
      "DataDir does not exist. Creating...\n",
      "Building Dispatch list...\n",
      "Running experiments...\n"
     ]
    },
    {
     "name": "stderr",
     "output_type": "stream",
     "text": [
      "100%|██████████| 200/200 [00:09<00:00, 21.97it/s]"
     ]
    },
    {
     "name": "stdout",
     "output_type": "stream",
     "text": [
      "Experiments completed...\n",
      "200 files\n",
      "Reading files...\n"
     ]
    },
    {
     "name": "stderr",
     "output_type": "stream",
     "text": [
      "\n",
      "                                                                                \r"
     ]
    },
    {
     "name": "stdout",
     "output_type": "stream",
     "text": [
      "Painting...\n"
     ]
    }
   ],
   "source": [
    "letters = '0123456789+ '\n",
    "df = check_fn(addition, letters, eps=900, trials=200)"
   ]
  },
  {
   "cell_type": "code",
   "execution_count": 48,
   "metadata": {},
   "outputs": [
    {
     "data": {
      "image/png": "[encoded data removed]",
      "text/plain": [
       "<matplotlib.figure.Figure at 0x7f489db4d0b8>"
      ]
     },
     "metadata": {},
     "output_type": "display_data"
    }
   ],
   "source": [
    "paint(df, addition, ed=False)"
   ]
  }
 ],
 "metadata": {
  "kernelspec": {
   "display_name": "Python 3",
   "language": "python",
   "name": "python3"
  },
  "language_info": {
   "codemirror_mode": {
    "name": "ipython",
    "version": 3
   },
   "file_extension": ".py",
   "mimetype": "text/x-python",
   "name": "python",
   "nbconvert_exporter": "python",
   "pygments_lexer": "ipython3",
   "version": "3.5.3"
  }
 },
 "nbformat": 4,
 "nbformat_minor": 2
}
