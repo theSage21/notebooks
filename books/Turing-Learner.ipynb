{
 "cells": [
  {
   "cell_type": "code",
   "execution_count": 1,
   "metadata": {
    "collapsed": true
   },
   "outputs": [],
   "source": [
    "import random\n",
    "from rlagents import MCAgent\n",
    "import matplotlib.pyplot as plt\n",
    "import pandas as pd\n",
    "from tqdm import tqdm_notebook, tqdm\n",
    "%matplotlib inline"
   ]
  },
  {
   "cell_type": "markdown",
   "metadata": {},
   "source": [
    "## TuringLearner\n",
    "Can a Reinforcement Agent learn to perform right shift using a Turing Machine?\n",
    "\n",
    "Turing machines represent a powerful class of computing machines. The Human input to those machines is that part of the machine which contains it's 'programming'. Namely the part which says what action to take."
   ]
  },
  {
   "cell_type": "code",
   "execution_count": 2,
   "metadata": {},
   "outputs": [
    {
     "data": {
      "text/plain": [
       "(0, 0, 8)"
      ]
     },
     "execution_count": 2,
     "metadata": {},
     "output_type": "execute_result"
    }
   ],
   "source": [
    "from rlagents import __version__\n",
    "__version__"
   ]
  },
  {
   "cell_type": "code",
   "execution_count": 3,
   "metadata": {},
   "outputs": [
    {
     "name": "stdout",
     "output_type": "stream",
     "text": [
      "<rlagents.mc.MCAgent object at 0x7f23ff6177f0>\n"
     ]
    }
   ],
   "source": [
    "actions = ['<', '>', 'r', 'w', 'stop']\n",
    "agent = MCAgent(actions)\n",
    "print(agent)"
   ]
  },
  {
   "cell_type": "code",
   "execution_count": 4,
   "metadata": {
    "collapsed": true
   },
   "outputs": [],
   "source": [
    "def make_obs(tape, head):\n",
    "    return [tape[head], head]"
   ]
  },
  {
   "cell_type": "code",
   "execution_count": 9,
   "metadata": {},
   "outputs": [
    {
     "name": "stderr",
     "output_type": "stream",
     "text": [
      "100%|██████████| 500000/500000 [01:16<00:00, 6545.75it/s] \n"
     ]
    }
   ],
   "source": [
    "data = []\n",
    "trials_ = 100\n",
    "eps_ = 5*1000\n",
    "maxno = 10\n",
    "with tqdm(total=trials_*eps_) as pbar:\n",
    "    for trial in range(trials_):\n",
    "        agent.reset()\n",
    "        for episode in range(eps_):\n",
    "            a, b = int(random.random()*maxno), int(random.random()*maxno)\n",
    "            c = a // 2\n",
    "            tape = ['0'] + list(bin(a)[2:])\n",
    "            head, cache = 0, '0'\n",
    "            while True:\n",
    "                obs = make_obs(tape, head)\n",
    "                act = agent.get_action(obs)\n",
    "                done = False\n",
    "                if act == '<':\n",
    "                    head = max(0, head - 1)\n",
    "                elif act == '>':\n",
    "                    head = min(len(tape)-1, head+1)\n",
    "                elif act == 'r':\n",
    "                    cache = tape[head]\n",
    "                elif act == 'w':\n",
    "                    tape[head] = cache\n",
    "                elif act == 'stop':\n",
    "                    done = True\n",
    "                b = int(''.join(tape), 2) \n",
    "                rew = 1 if b == c else 0\n",
    "                agent.observe_reward(rew)\n",
    "                if done:\n",
    "                    break\n",
    "            agent.end_episode()\n",
    "            data.append((episode, rew, trial))\n",
    "            pbar.update(1)"
   ]
  },
  {
   "cell_type": "markdown",
   "metadata": {},
   "source": [
    "## Take a look at the results"
   ]
  },
  {
   "cell_type": "code",
   "execution_count": 11,
   "metadata": {
    "collapsed": true
   },
   "outputs": [],
   "source": [
    "df = pd.DataFrame(data, columns=['ep', 'rew', 'trial'])"
   ]
  },
  {
   "cell_type": "code",
   "execution_count": 12,
   "metadata": {},
   "outputs": [
    {
     "data": {
      "text/plain": [
       "[<matplotlib.lines.Line2D at 0x7f23f5303240>]"
      ]
     },
     "execution_count": 12,
     "metadata": {},
     "output_type": "execute_result"
    },
    {
     "data": {
      "image/png": "[encoded data removed]",
      "text/plain": [
       "<matplotlib.figure.Figure at 0x7f23fed87390>"
      ]
     },
     "metadata": {},
     "output_type": "display_data"
    }
   ],
   "source": [
    "d = list(sorted(dict(df.groupby('ep')['rew'].mean()).items()))\n",
    "x = [i[0] for i in d]\n",
    "y = [i[1] for i in d]\n",
    "plt.plot(x, y)"
   ]
  }
 ],
 "metadata": {
  "kernelspec": {
   "display_name": "Python 3",
   "language": "python",
   "name": "python3"
  },
  "language_info": {
   "codemirror_mode": {
    "name": "ipython",
    "version": 3
   },
   "file_extension": ".py",
   "mimetype": "text/x-python",
   "name": "python",
   "nbconvert_exporter": "python",
   "pygments_lexer": "ipython3",
   "version": "3.6.1"
  }
 },
 "nbformat": 4,
 "nbformat_minor": 2
}
