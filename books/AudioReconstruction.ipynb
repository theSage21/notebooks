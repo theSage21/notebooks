{
 "cells": [
  {
   "cell_type": "code",
   "execution_count": 4,
   "metadata": {},
   "outputs": [
    {
     "name": "stdout",
     "output_type": "stream",
     "text": [
      "Populating the interactive namespace from numpy and matplotlib\n"
     ]
    }
   ],
   "source": [
    "from keras import models, layers, preprocessing\n",
    "from scipy.io.wavfile import read as wavread\n",
    "from scipy.signal import decimate\n",
    "from copy import deepcopy\n",
    "from tqdm import tqdm\n",
    "import os\n",
    "\n",
    "%pylab inline\n",
    "import random as pyrandom"
   ]
  },
  {
   "cell_type": "markdown",
   "metadata": {},
   "source": [
    "## Control variables"
   ]
  },
  {
   "cell_type": "code",
   "execution_count": 5,
   "metadata": {
    "collapsed": true
   },
   "outputs": [],
   "source": [
    "max_sequences = 100  # Limit data to n sequences for processing ease\n",
    "seq_len = 20*1000  # 4 seconds\n",
    "sampling_rate = 8*1000  # 8k Hz which is what wiki tells me is the telephone rate\n",
    "data_dim = 2  # mono channel\n",
    "train_fraction = 0.7\n",
    "max_contiguous_drop = seq_len//4  # What length can be dropped max?\n",
    "# This is akin to the noise ratio you expect. //2 gives you 0.5% of the conversation\n",
    "# Can be blacked out due to noise\n",
    "n_corruption_iterations = 10  # Each seq get's how many corruptions?"
   ]
  },
  {
   "cell_type": "markdown",
   "metadata": {},
   "source": [
    "## Data Formatting"
   ]
  },
  {
   "cell_type": "code",
   "execution_count": 7,
   "metadata": {},
   "outputs": [
    {
     "name": "stdout",
     "output_type": "stream",
     "text": [
      "48,000Hz (110645254, 2) SAME AUDIO raw_recordings/Beowulf - Audio Book-wA0MmqzIGfU.wav\n"
     ]
    },
    {
     "name": "stderr",
     "output_type": "stream",
     "text": [
      "\r",
      "  0%|          | 0/100 [00:00<?, ?it/s]"
     ]
    },
    {
     "name": "stdout",
     "output_type": "stream",
     "text": [
      "8,000.0Hz (18440876,) SAME AUDIO raw_recordings/Beowulf - Audio Book-wA0MmqzIGfU.wav\n",
      "Shuffling data sequences...\n"
     ]
    },
    {
     "name": "stderr",
     "output_type": "stream",
     "text": [
      "100%|██████████| 100/100 [00:00<00:00, 152.82it/s]\n"
     ]
    }
   ],
   "source": [
    "data = []\n",
    "for fl in sorted(os.listdir('raw_recordings/'), reverse=True):\n",
    "    path = os.path.join('raw_recordings/', fl)\n",
    "    if 'part' not in fl and 'wav' in fl:\n",
    "        datarate, audio = wavread(path)\n",
    "        same_channels = 'SAME AUDIO' if all(audio[:0] == audio[:1]) else 'MultiChannel'\n",
    "        print('{:,}Hz {} {} {}'.format(datarate, audio.shape, same_channels, path))\n",
    "        audio = audio[:,0]\n",
    "        # -------------------resampling\n",
    "        while True:\n",
    "            factor = int(min(10, datarate / sampling_rate))\n",
    "            datarate /= factor\n",
    "            if factor <= 1:\n",
    "                break\n",
    "            audio = decimate(audio, factor, zero_phase=True)\n",
    "        sampling_rate = datarate\n",
    "        print('{:,}Hz {} {} {}'.format(sampling_rate, audio.shape, same_channels, path))\n",
    "        # -------------------------\n",
    "        padding_length = seq_len - (audio.shape[0] - (int(audio.shape[0] / seq_len) * seq_len))\n",
    "        padding = np.zeros(padding_length)\n",
    "        padded = np.concatenate([audio, padding])\n",
    "        n_seq = int(padded.shape[0] / seq_len)\n",
    "        padded = padded.reshape((n_seq, seq_len))\n",
    "        data.append(padded)\n",
    "data = list(np.concatenate(data))\n",
    "print('Shuffling data sequences...')\n",
    "pyrandom.shuffle(data)\n",
    "data = [[(float(i), float(i)) for i in seq] for seq in tqdm(data[:max_sequences])]"
   ]
  },
  {
   "cell_type": "markdown",
   "metadata": {},
   "source": [
    "## Corrupt audio to make input data"
   ]
  },
  {
   "cell_type": "code",
   "execution_count": 25,
   "metadata": {},
   "outputs": [
    {
     "name": "stderr",
     "output_type": "stream",
     "text": [
      "100%|██████████| 1000/1000 [02:06<00:00,  8.17it/s]\n"
     ]
    }
   ],
   "source": [
    "pure, corrupted = [], []\n",
    "with tqdm(total=len(data)*n_corruption_iterations) as pbar:\n",
    "    for seq in (data):\n",
    "        out = seq\n",
    "        for _ in range(n_corruption_iterations):\n",
    "            inp = deepcopy(out)\n",
    "            o = deepcopy(out)\n",
    "            # ------------------\n",
    "            start = int(np.random.random()*len(o))\n",
    "            end = start + int(np.random.random()*max_contiguous_drop)\n",
    "            end = min(len(o), end)  # Don't overshoot the sequence\n",
    "            for i in range(start, end):\n",
    "                inp[i] = (0, 0)\n",
    "            # ---------------------\n",
    "            pure.append([i for i in o])\n",
    "            corrupted.append([i for i in inp])\n",
    "            pbar.update(1)"
   ]
  },
  {
   "cell_type": "code",
   "execution_count": 26,
   "metadata": {},
   "outputs": [
    {
     "data": {
      "text/plain": [
       "((1000, 20000, 2), (1000, 20000, 2))"
      ]
     },
     "execution_count": 26,
     "metadata": {},
     "output_type": "execute_result"
    }
   ],
   "source": [
    "inp, out = np.array(corrupted), np.array(pure)\n",
    "del(pure)\n",
    "del(corrupted)\n",
    "inp.shape, out.shape"
   ]
  },
  {
   "cell_type": "markdown",
   "metadata": {},
   "source": [
    "## Train Test splits"
   ]
  },
  {
   "cell_type": "code",
   "execution_count": 27,
   "metadata": {
    "collapsed": true
   },
   "outputs": [],
   "source": [
    "mask = np.random.random(inp.shape[0]) < train_fraction\n",
    "train_out, test_out = out[mask], out[~mask]\n",
    "train_inp, test_inp = inp[mask], inp[~mask]"
   ]
  },
  {
   "cell_type": "code",
   "execution_count": 28,
   "metadata": {},
   "outputs": [
    {
     "name": "stdout",
     "output_type": "stream",
     "text": [
      "(691, 20000, 2) (691, 20000, 2) (309, 20000, 2) (309, 20000, 2)\n"
     ]
    },
    {
     "data": {
      "text/plain": [
       "(dtype('float64'), dtype('float64'), dtype('float64'), dtype('float64'))"
      ]
     },
     "execution_count": 28,
     "metadata": {},
     "output_type": "execute_result"
    }
   ],
   "source": [
    "print(train_inp.shape, train_out.shape, test_inp.shape, test_out.shape)\n",
    "train_inp.dtype, test_inp.dtype, test_inp.dtype, test_out.dtype"
   ]
  },
  {
   "cell_type": "code",
   "execution_count": 32,
   "metadata": {},
   "outputs": [
    {
     "data": {
      "text/plain": [
       "<matplotlib.legend.Legend at 0x7f7af0ae7978>"
      ]
     },
     "execution_count": 32,
     "metadata": {},
     "output_type": "execute_result"
    },
    {
     "data": {
      "image/png": "[encoded data removed]",
      "text/plain": [
       "<matplotlib.figure.Figure at 0x7f7af0b03e80>"
      ]
     },
     "metadata": {},
     "output_type": "display_data"
    }
   ],
   "source": [
    "plt.subplots()\n",
    "\n",
    "plt.subplot(211)\n",
    "no = int(pyrandom.random()*len(train_out))\n",
    "plt.plot(train_out[no], label='Training out')\n",
    "plt.plot(train_inp[no], label='Training inp')\n",
    "plt.title(str(no))\n",
    "\n",
    "\n",
    "plt.subplot(212)\n",
    "no = int(pyrandom.random()*len(test_out))\n",
    "plt.plot(test_out[no], label='Testing out')\n",
    "plt.plot(test_inp[no], label='Testing inp')\n",
    "plt.title(str(no))\n",
    "\n",
    "plt.legend()"
   ]
  },
  {
   "cell_type": "markdown",
   "metadata": {},
   "source": [
    "## Model construction"
   ]
  },
  {
   "cell_type": "code",
   "execution_count": 35,
   "metadata": {},
   "outputs": [
    {
     "name": "stdout",
     "output_type": "stream",
     "text": [
      "_________________________________________________________________\n",
      "Layer (type)                 Output Shape              Param #   \n",
      "=================================================================\n",
      "gru_3 (GRU)                  (None, 20000, 2)          30        \n",
      "_________________________________________________________________\n",
      "dropout_4 (Dropout)          (None, 20000, 2)          0         \n",
      "_________________________________________________________________\n",
      "activation_7 (Activation)    (None, 20000, 2)          0         \n",
      "_________________________________________________________________\n",
      "gru_4 (GRU)                  (None, 20000, 2)          30        \n",
      "_________________________________________________________________\n",
      "activation_8 (Activation)    (None, 20000, 2)          0         \n",
      "=================================================================\n",
      "Total params: 60\n",
      "Trainable params: 60\n",
      "Non-trainable params: 0\n",
      "_________________________________________________________________\n"
     ]
    }
   ],
   "source": [
    "rnn, activation, dropout = layers.LSTM, layers.Activation, layers.Dropout\n",
    "rnn = layers.GRU\n",
    "\n",
    "model = models.Sequential()\n",
    "\n",
    "model.add(rnn(2, input_shape=(seq_len, data_dim), return_sequences=True))\n",
    "model.add(dropout(0.1))\n",
    "model.add(activation('relu'))\n",
    "\n",
    "model.add(rnn(data_dim, return_sequences=True))\n",
    "model.add(activation('sigmoid'))\n",
    "\n",
    "model.compile('sgd', 'mse', ['acc'])\n",
    "model.summary()"
   ]
  },
  {
   "cell_type": "markdown",
   "metadata": {},
   "source": [
    "## Model training"
   ]
  },
  {
   "cell_type": "code",
   "execution_count": null,
   "metadata": {},
   "outputs": [
    {
     "name": "stdout",
     "output_type": "stream",
     "text": [
      "Train on 691 samples, validate on 309 samples\n",
      "Epoch 1/10\n",
      "691/691 [==============================] - 103s - loss: 2126123.0861 - acc: 0.9998 - val_loss: 2124286.9721 - val_acc: 1.0000\n",
      "Epoch 2/10\n",
      "192/691 [=======>......................] - ETA: 67s - loss: 2082428.8333 - acc: 1.0000"
     ]
    }
   ],
   "source": [
    "model.fit(train_inp, train_out, validation_data=(test_inp, test_out))"
   ]
  }
 ],
 "metadata": {
  "kernelspec": {
   "display_name": "Python 3",
   "language": "python",
   "name": "python3"
  },
  "language_info": {
   "codemirror_mode": {
    "name": "ipython",
    "version": 3
   },
   "file_extension": ".py",
   "mimetype": "text/x-python",
   "name": "python",
   "nbconvert_exporter": "python",
   "pygments_lexer": "ipython3",
   "version": "3.5.3"
  }
 },
 "nbformat": 4,
 "nbformat_minor": 2
}
