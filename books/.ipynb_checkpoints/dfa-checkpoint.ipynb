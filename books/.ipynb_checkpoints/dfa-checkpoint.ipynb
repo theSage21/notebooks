{
 "cells": [
  {
   "cell_type": "markdown",
   "metadata": {},
   "source": [
    "# Deterministic Finite Automaton\n",
    "\n",
    "As wikipedia puts it.\n",
    "\n",
    "> In theory of computation, a branch of theoretical computer science, a deterministic finite automaton (DFA)—also known as deterministic finite state machine—is a finite state machine that accepts/rejects finite strings of symbols and only produces a unique computation (or run) of the automaton for each input string.\n",
    "\n",
    "That is dense for someone new to the world of Computation. This article is all about exploring the DFA."
   ]
  },
  {
   "cell_type": "markdown",
   "metadata": {},
   "source": [
    "An automaton, very generally it is an abstract machine. It is the idea of a machine with very specific things in mind. The DFA is a machine which exists in states. A DFA representing a fan may be either in the \"off\" state or \"on\" state. A DFA representing a clock may have 12 states representing the hours or many more if it has minutes and hours and so on.\n",
    "\n",
    "The point being that a DFA is an abstract machine consisting of states. Every time this machine receives an input, it transitions from the current state to another. This other state may be the same as the previous one though. The next input causes it to transition again. The inputs are called **symbols**.\n",
    "\n",
    "This sequence of inputs is generally called the input string (as in, a string of symbols). Thus the DFA is said to run on an input string; meaning it changes it's internal state as and when the input symbols are provided.\n",
    "\n",
    "The rules for transition are provided in the transition function which is usually denoted by $\\delta$ (we will come back to this later). Since the DFA must initially be in some state before receiving any input, a single state is marked out for this use called the starting state.\n",
    "\n",
    "Once the input string is complete, the state the DFA is in is recorded. If this state is one of a select few states, the DFA is said to *accept* the string. One must take note about the usage of the word *accept*. We have designed this DFA to accept or reject input strings. It is be design that a DFA will accept or reject some string."
   ]
  },
  {
   "cell_type": "markdown",
   "metadata": {},
   "source": [
    "A DFA is thus defined by 5 things (5 things are also called a quintuple, just like 2 things are called a pair).\n",
    "\n",
    "DFA = (K, $\\Sigma$, $\\delta$, S, F) where\n",
    "\n",
    "K = Set of all possible states that the DFA can be in\n",
    "$\\Sigma$ = Set of all symbols from which the input string is generated\n",
    "$\\delta$ = Transition function\n",
    "S = Starting state\n",
    "F = Set of all states which are acceptable\n",
    "\n",
    "Sometimes instead of text, a state diagram depicts the function of a DFA in a more digestable way.\n",
    "\n",
    "- The circles represent states\n",
    "- Double bordered circles are final states\n",
    "- Arrows represent transitions from-to states\n",
    "- Symbols associated with arrows represent the input symbol which caused that transition\n",
    "- The arrow coming in from nowhere depicts the Start state\n",
    "![Even count state diagram](dfa_even_odd.png)"
   ]
  },
  {
   "cell_type": "markdown",
   "metadata": {},
   "source": [
    "This DFA receives 0 and 1 as input symbols and accepts this string of symbols if the number of zeros in the string is even. You can follow the flow by looking at the diagram.\n",
    "\n",
    "Let us write a program which implements this DFA."
   ]
  },
  {
   "cell_type": "code",
   "execution_count": 3,
   "metadata": {
    "collapsed": true
   },
   "outputs": [],
   "source": [
    "def transition_function(current_state, symbol):\n",
    "    table = {('S1', '0'): 'S2',\n",
    "             ('S1', '1'): 'S1',\n",
    "             ('S2', '0'): 'S1',\n",
    "             ('S2', '1'): 'S2',\n",
    "            }\n",
    "    return table[(current_state, symbol)]"
   ]
  },
  {
   "cell_type": "markdown",
   "metadata": {},
   "source": [
    "This defines our transition function. As ween we tabulate the rules of transition in a Python dict structure. Next we need to run the DFA. Since the DFA is simply a quintuple (remember what that meant?) we can extract some things from it."
   ]
  },
  {
   "cell_type": "code",
   "execution_count": 5,
   "metadata": {
    "collapsed": true
   },
   "outputs": [],
   "source": [
    "def run_dfa(dfa, string):\n",
    "    # Extract the 5 things\n",
    "    states, alphabets, tr_fn, start, acceptable = dfa\n",
    "    # set starting state\n",
    "    current_state = start\n",
    "    # take in the symbols one by one\n",
    "    for symbol in string:\n",
    "        if symbol not in alphabets:\n",
    "            # since illegal symbols must cause the DFA to reject the string\n",
    "            return False\n",
    "        next_symbol = transition_function(current_state, symbol)\n",
    "        current_state = next_symbol\n",
    "    return current_state in acceptable"
   ]
  },
  {
   "cell_type": "markdown",
   "metadata": {},
   "source": [
    "Now this will run our DFA given the DFA quintuple and th einput string. LEt us form the quintuple and the string."
   ]
  },
  {
   "cell_type": "code",
   "execution_count": 8,
   "metadata": {
    "collapsed": false
   },
   "outputs": [
    {
     "name": "stdout",
     "output_type": "stream",
     "text": [
      "Enter the input string: 1010100010101110100100010011\n"
     ]
    }
   ],
   "source": [
    "dfa = (['S1', 'S2'],\n",
    "       ['0', '1'],\n",
    "       transition_function,\n",
    "       'S1',\n",
    "       ['S1']\n",
    "      )\n",
    "string = input('Enter the input string: ')"
   ]
  },
  {
   "cell_type": "markdown",
   "metadata": {},
   "source": [
    "Now that we have the quintuple and the input string, all that is left is to run the DFA using out functions. Let us do that."
   ]
  },
  {
   "cell_type": "code",
   "execution_count": 11,
   "metadata": {
    "collapsed": false
   },
   "outputs": [
    {
     "name": "stdout",
     "output_type": "stream",
     "text": [
      "16\n",
      "True\n",
      "17\n",
      "False\n"
     ]
    }
   ],
   "source": [
    "print(string.count('0'))\n",
    "print(run_dfa(dfa, string))\n",
    "\n",
    "string += '0'\n",
    "\n",
    "print(string.count('0'))\n",
    "print(run_dfa(dfa, string))"
   ]
  },
  {
   "cell_type": "markdown",
   "metadata": {},
   "source": [
    "As we can see, the DFA accepted the string with even number of zeros and rejected the one with odd number of zeros.\n",
    "\n",
    "Now, this is a very simple DFA in comparison to those which uphold entire corporate powerhouses like Google. In fact, it is the DFA which powers the wonderful things called [Regular expressions](https://en.wikipedia.org/wiki/Regular_expression).\n",
    "\n",
    "I take your leave with that, hope you enjoyed it."
   ]
  }
 ],
 "metadata": {
  "kernelspec": {
   "display_name": "Python 3",
   "language": "python",
   "name": "python3"
  },
  "language_info": {
   "codemirror_mode": {
    "name": "ipython",
    "version": 3
   },
   "file_extension": ".py",
   "mimetype": "text/x-python",
   "name": "python",
   "nbconvert_exporter": "python",
   "pygments_lexer": "ipython3",
   "version": "3.5.1"
  }
 },
 "nbformat": 4,
 "nbformat_minor": 0
}
