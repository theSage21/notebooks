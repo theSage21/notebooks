{
 "cells": [
  {
   "cell_type": "code",
   "execution_count": 1,
   "metadata": {},
   "outputs": [
    {
     "name": "stdout",
     "output_type": "stream",
     "text": [
      "Populating the interactive namespace from numpy and matplotlib\n"
     ]
    }
   ],
   "source": [
    "import random as pyr\n",
    "from tqdm import tqdm_notebook\n",
    "%pylab inline"
   ]
  },
  {
   "cell_type": "code",
   "execution_count": 2,
   "metadata": {
    "collapsed": true
   },
   "outputs": [],
   "source": [
    "N = 50\n",
    "steps = 200*1000\n",
    "seed = 100"
   ]
  },
  {
   "cell_type": "code",
   "execution_count": 3,
   "metadata": {},
   "outputs": [],
   "source": [
    "! rm -rf temp_frames/\n",
    "! mkdir temp_frames"
   ]
  },
  {
   "cell_type": "code",
   "execution_count": 4,
   "metadata": {
    "collapsed": true
   },
   "outputs": [],
   "source": [
    "def plotmoney(money, step):\n",
    "    plt.plot(sorted(money))\n",
    "    plt.title('Step: {:,}'.format(step))\n",
    "    plt.ylim(0, max(500, max(money)))\n",
    "    plt.xlabel('People ranked by money.')\n",
    "    plt.ylabel('Amount of Money')\n",
    "    plt.savefig('temp_frames/{:10}.png'.format(step))\n",
    "    plt.close()"
   ]
  },
  {
   "cell_type": "code",
   "execution_count": 8,
   "metadata": {},
   "outputs": [
    {
     "data": {
      "application/vnd.jupyter.widget-view+json": {
       "model_id": "f2516c1f01f145ad8b868dc71e6e68d6"
      }
     },
     "metadata": {},
     "output_type": "display_data"
    },
    {
     "name": "stdout",
     "output_type": "stream",
     "text": [
      "\n"
     ]
    }
   ],
   "source": [
    "money = [seed for _ in range(N)]\n",
    "\n",
    "for step in tqdm_notebook(list(range(steps))):\n",
    "    if step % 50 == 0:\n",
    "        for _ in range(5):\n",
    "            try:\n",
    "                plotmoney(money, step)\n",
    "            except:\n",
    "                pass\n",
    "            else:\n",
    "                break\n",
    "    # TIME\n",
    "    new_money = list(money)\n",
    "    # EVERY PERSON\n",
    "    for giver in range(N):\n",
    "        if money[giver] > 0:\n",
    "            # Choose someone else\n",
    "            while True:\n",
    "                rec = pyr.choice(range(N))\n",
    "                if rec != giver:\n",
    "                    break\n",
    "            # Give money\n",
    "            new_money[rec] += 1\n",
    "            new_money[giver] -= 1\n",
    "    money = new_money"
   ]
  },
  {
   "cell_type": "code",
   "execution_count": 10,
   "metadata": {},
   "outputs": [
    {
     "name": "stdout",
     "output_type": "stream",
     "text": [
      "ffmpeg version 3.2.4-1build2 Copyright (c) 2000-2017 the FFmpeg developers\n",
      "  built with gcc 6.3.0 (Ubuntu 6.3.0-8ubuntu1) 20170221\n",
      "  configuration: --prefix=/usr --extra-version=1build2 --toolchain=hardened --libdir=/usr/lib/x86_64-linux-gnu --incdir=/usr/include/x86_64-linux-gnu --enable-gpl --disable-stripping --enable-avresample --enable-avisynth --enable-gnutls --enable-ladspa --enable-libass --enable-libbluray --enable-libbs2b --enable-libcaca --enable-libcdio --enable-libebur128 --enable-libflite --enable-libfontconfig --enable-libfreetype --enable-libfribidi --enable-libgme --enable-libgsm --enable-libmp3lame --enable-libopenjpeg --enable-libopenmpt --enable-libopus --enable-libpulse --enable-librubberband --enable-libshine --enable-libsnappy --enable-libsoxr --enable-libspeex --enable-libssh --enable-libtheora --enable-libtwolame --enable-libvorbis --enable-libvpx --enable-libwavpack --enable-libwebp --enable-libx265 --enable-libxvid --enable-libzmq --enable-libzvbi --enable-omx --enable-openal --enable-opengl --enable-sdl2 --enable-libdc1394 --enable-libiec61883 --enable-chromaprint --enable-frei0r --enable-libopencv --enable-libx264 --enable-shared\n",
      "  libavutil      55. 34.101 / 55. 34.101\n",
      "  libavcodec     57. 64.101 / 57. 64.101\n",
      "  libavformat    57. 56.101 / 57. 56.101\n",
      "  libavdevice    57.  1.100 / 57.  1.100\n",
      "  libavfilter     6. 65.100 /  6. 65.100\n",
      "  libavresample   3.  1.  0 /  3.  1.  0\n",
      "  libswscale      4.  2.100 /  4.  2.100\n",
      "  libswresample   2.  3.100 /  2.  3.100\n",
      "  libpostproc    54.  1.100 / 54.  1.100\n",
      "Input #0, image2, from 'temp_frames/*.png':\n",
      "  Duration: 00:00:20.00, start: 0.000000, bitrate: N/A\n",
      "    Stream #0:0: Video: png, rgba(pc), 432x288 [SAR 2834:2834 DAR 3:2], 200 fps, 200 tbr, 200 tbn, 200 tbc\n",
      "\u001b[1;36m[libx264 @ 0x564a21a2b760] \u001b[0musing SAR=1/1\n",
      "\u001b[1;36m[libx264 @ 0x564a21a2b760] \u001b[0musing cpu capabilities: MMX2 SSE2Fast SSSE3 SSE4.2 AVX FMA3 AVX2 LZCNT BMI2\n",
      "\u001b[1;36m[libx264 @ 0x564a21a2b760] \u001b[0mprofile High, level 3.1\n",
      "\u001b[1;36m[libx264 @ 0x564a21a2b760] \u001b[0m264 - core 148 r2748 97eaef2 - H.264/MPEG-4 AVC codec - Copyleft 2003-2016 - http://www.videolan.org/x264.html - options: cabac=1 ref=3 deblock=1:0:0 analyse=0x3:0x113 me=hex subme=7 psy=1 psy_rd=1.00:0.00 mixed_ref=1 me_range=16 chroma_me=1 trellis=1 8x8dct=1 cqm=0 deadzone=21,11 fast_pskip=1 chroma_qp_offset=-2 threads=6 lookahead_threads=1 sliced_threads=0 nr=0 decimate=1 interlaced=0 bluray_compat=0 constrained_intra=0 bframes=3 b_pyramid=2 b_adapt=1 b_bias=0 direct=1 weightb=1 open_gop=0 weightp=2 keyint=250 keyint_min=25 scenecut=40 intra_refresh=0 rc_lookahead=40 rc=crf mbtree=1 crf=23.0 qcomp=0.60 qpmin=0 qpmax=69 qpstep=4 ip_ratio=1.40 aq=1:1.00\n",
      "Output #0, mp4, to 'out.mp4':\n",
      "  Metadata:\n",
      "    encoder         : Lavf57.56.101\n",
      "    Stream #0:0: Video: h264 (libx264) ([33][0][0][0] / 0x0021), yuv420p, 432x288 [SAR 1:1 DAR 3:2], q=-1--1, 200 fps, 12800 tbn, 200 tbc\n",
      "    Metadata:\n",
      "      encoder         : Lavc57.64.101 libx264\n",
      "    Side data:\n",
      "      cpb: bitrate max/min/avg: 0/0/0 buffer size: 0 vbv_delay: -1\n",
      "Stream mapping:\n",
      "  Stream #0:0 -> #0:0 (png (native) -> h264 (libx264))\n",
      "Press [q] to stop, [?] for help\n",
      "frame= 4000 fps=490 q=-1.0 Lsize=    1346kB time=00:00:19.98 bitrate= 551.5kbits/s speed=2.45x    \n",
      "video:1298kB audio:0kB subtitle:0kB other streams:0kB global headers:0kB muxing overhead: 3.668714%\n",
      "\u001b[1;36m[libx264 @ 0x564a21a2b760] \u001b[0mframe I:16    Avg QP:21.28  size:  4655\n",
      "\u001b[1;36m[libx264 @ 0x564a21a2b760] \u001b[0mframe P:1017  Avg QP:29.35  size:   482\n",
      "\u001b[1;36m[libx264 @ 0x564a21a2b760] \u001b[0mframe B:2967  Avg QP:35.16  size:   257\n",
      "\u001b[1;36m[libx264 @ 0x564a21a2b760] \u001b[0mconsecutive B-frames:  0.7%  0.9%  0.8% 97.6%\n",
      "\u001b[1;36m[libx264 @ 0x564a21a2b760] \u001b[0mmb I  I16..4: 32.7% 47.4% 19.9%\n",
      "\u001b[1;36m[libx264 @ 0x564a21a2b760] \u001b[0mmb P  I16..4:  2.0%  1.4%  0.3%  P16..4:  5.0%  3.6%  1.1%  0.0%  0.0%    skip:86.7%\n",
      "\u001b[1;36m[libx264 @ 0x564a21a2b760] \u001b[0mmb B  I16..4:  1.1%  0.5%  0.0%  B16..8:  7.3%  3.4%  0.5%  direct: 0.3%  skip:86.9%  L0:51.9% L1:44.5% BI: 3.6%\n",
      "\u001b[1;36m[libx264 @ 0x564a21a2b760] \u001b[0m8x8 transform intra:34.3% inter:7.6%\n",
      "\u001b[1;36m[libx264 @ 0x564a21a2b760] \u001b[0mcoded y,uvDC,uvAC intra: 5.2% 6.5% 5.6% inter: 1.2% 0.3% 0.1%\n",
      "\u001b[1;36m[libx264 @ 0x564a21a2b760] \u001b[0mi16 v,h,dc,p: 11% 87%  2%  0%\n",
      "\u001b[1;36m[libx264 @ 0x564a21a2b760] \u001b[0mi8 v,h,dc,ddl,ddr,vr,hd,vl,hu: 20%  5% 75%  0%  0%  0%  0%  0%  0%\n",
      "\u001b[1;36m[libx264 @ 0x564a21a2b760] \u001b[0mi4 v,h,dc,ddl,ddr,vr,hd,vl,hu: 16% 32% 39%  4%  1%  1%  1%  3%  5%\n",
      "\u001b[1;36m[libx264 @ 0x564a21a2b760] \u001b[0mi8c dc,h,v,p: 90%  7%  3%  0%\n",
      "\u001b[1;36m[libx264 @ 0x564a21a2b760] \u001b[0mWeighted P-Frames: Y:0.0% UV:0.0%\n",
      "\u001b[1;36m[libx264 @ 0x564a21a2b760] \u001b[0mref P L0: 53.9%  2.6% 26.3% 17.2%\n",
      "\u001b[1;36m[libx264 @ 0x564a21a2b760] \u001b[0mref B L0: 70.4% 23.1%  6.5%\n",
      "\u001b[1;36m[libx264 @ 0x564a21a2b760] \u001b[0mref B L1: 88.5% 11.5%\n",
      "\u001b[1;36m[libx264 @ 0x564a21a2b760] \u001b[0mkb/s:531.34\n"
     ]
    }
   ],
   "source": [
    "! rm out.mp4\n",
    "! ffmpeg -f image2 -r 200/1 -pattern_type glob -i 'temp_frames/*.png' -c:v libx264 -pix_fmt yuv420p out.mp4"
   ]
  },
  {
   "cell_type": "code",
   "execution_count": 11,
   "metadata": {
    "collapsed": true
   },
   "outputs": [],
   "source": [
    "! mv out.mp4 ../support/videos/money_dist.mp4"
   ]
  },
  {
   "cell_type": "markdown",
   "metadata": {},
   "source": [
    "[Video](support/videos/money_dist.mp4)"
   ]
  }
 ],
 "metadata": {
  "kernelspec": {
   "display_name": "Python 3",
   "language": "python",
   "name": "python3"
  },
  "language_info": {
   "codemirror_mode": {
    "name": "ipython",
    "version": 3
   },
   "file_extension": ".py",
   "mimetype": "text/x-python",
   "name": "python",
   "nbconvert_exporter": "python",
   "pygments_lexer": "ipython3",
   "version": "3.5.3"
  }
 },
 "nbformat": 4,
 "nbformat_minor": 2
}
