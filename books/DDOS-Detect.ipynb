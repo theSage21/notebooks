{
 "cells": [
  {
   "cell_type": "code",
   "execution_count": null,
   "metadata": {},
   "outputs": [],
   "source": [
    "from keras import layers as L\n",
    "from keras import models as M\n",
    "import random as pyr\n",
    "from tqdm import trange, tqdm\n",
    "%pylab inline"
   ]
  },
  {
   "cell_type": "code",
   "execution_count": null,
   "metadata": {
    "collapsed": true
   },
   "outputs": [],
   "source": [
    "data_rate = 50*1"
   ]
  },
  {
   "cell_type": "code",
   "execution_count": 3,
   "metadata": {
    "collapsed": true
   },
   "outputs": [],
   "source": [
    "def gen_samples(n_samples, kind):\n",
    "    N_IP_ADDRS = 10\n",
    "    samples = []\n",
    "    for _ in range(n_samples):\n",
    "        tp = pyr.choice([0, 1])\n",
    "        ip = [0]*N_IP_ADDRS\n",
    "        ip[pyr.choice(range(N_IP_ADDRS))] = 1\n",
    "        if kind == 'n':\n",
    "            flag = pyr.choice([0, 1, 2, 3, 4, 5]) # flag\n",
    "        else:\n",
    "            flag = (pyr.choice([0, 1, 5]) if (pyr.random() < 0.8) else pyr.choice([2, 3, 4])) # flag\n",
    "        fv = [flag]\n",
    "        vec = [tp] + ip + fv\n",
    "        samples.append(vec)\n",
    "    return samples"
   ]
  },
  {
   "cell_type": "code",
   "execution_count": 4,
   "metadata": {},
   "outputs": [],
   "source": [
    "def gen_dataset(n_samples, kind):\n",
    "    dataset = gen_samples(n_samples, kind)\n",
    "\n",
    "    x, y = [], []\n",
    "    lag = dataset[:data_rate]\n",
    "    for d in dataset[data_rate:]:\n",
    "        x.append(list(lag))\n",
    "        y.append(d)\n",
    "\n",
    "        lag.pop(0)\n",
    "        lag.append(d)\n",
    "    return x, y"
   ]
  },
  {
   "cell_type": "code",
   "execution_count": 5,
   "metadata": {},
   "outputs": [],
   "source": [
    "x, y = gen_dataset((data_rate*10), 'n')"
   ]
  },
  {
   "cell_type": "code",
   "execution_count": 6,
   "metadata": {},
   "outputs": [
    {
     "name": "stdout",
     "output_type": "stream",
     "text": [
      "_________________________________________________________________\n",
      "Layer (type)                 Output Shape              Param #   \n",
      "=================================================================\n",
      "gru_1 (GRU)                  (None, 12)                900       \n",
      "=================================================================\n",
      "Total params: 900\n",
      "Trainable params: 900\n",
      "Non-trainable params: 0\n",
      "_________________________________________________________________\n"
     ]
    }
   ],
   "source": [
    "inp_dim = len(x[0][0]) # out samples are 3 dimensional\n",
    "\n",
    "m = M.Sequential([L.GRU(inp_dim,\n",
    "                        input_shape=(data_rate, inp_dim)\n",
    "                       )])\n",
    "m.summary()"
   ]
  },
  {
   "cell_type": "code",
   "execution_count": 7,
   "metadata": {
    "collapsed": true
   },
   "outputs": [],
   "source": [
    "m.compile('rmsprop', 'mse')"
   ]
  },
  {
   "cell_type": "code",
   "execution_count": 8,
   "metadata": {},
   "outputs": [],
   "source": [
    "_x, _y = gen_dataset((data_rate*10), 'n')"
   ]
  },
  {
   "cell_type": "code",
   "execution_count": 9,
   "metadata": {},
   "outputs": [
    {
     "name": "stdout",
     "output_type": "stream",
     "text": [
      "Train on 450 samples, validate on 450 samples\n",
      "Epoch 1/25\n",
      "450/450 [==============================] - 0s - loss: 0.8204 - val_loss: 0.8673\n",
      "Epoch 2/25\n",
      "450/450 [==============================] - 0s - loss: 0.7484 - val_loss: 0.8108\n",
      "Epoch 3/25\n",
      "450/450 [==============================] - 0s - loss: 0.7035 - val_loss: 0.7680\n",
      "Epoch 4/25\n",
      "450/450 [==============================] - 0s - loss: 0.6695 - val_loss: 0.7340\n",
      "Epoch 5/25\n",
      "450/450 [==============================] - 0s - loss: 0.6419 - val_loss: 0.7087\n",
      "Epoch 6/25\n",
      "450/450 [==============================] - 0s - loss: 0.6207 - val_loss: 0.6875\n",
      "Epoch 7/25\n",
      "450/450 [==============================] - 0s - loss: 0.6030 - val_loss: 0.6694\n",
      "Epoch 8/25\n",
      "450/450 [==============================] - 0s - loss: 0.5882 - val_loss: 0.6548\n",
      "Epoch 9/25\n",
      "450/450 [==============================] - 0s - loss: 0.5764 - val_loss: 0.6433\n",
      "Epoch 10/25\n",
      "450/450 [==============================] - 0s - loss: 0.5665 - val_loss: 0.6336\n",
      "Epoch 11/25\n",
      "450/450 [==============================] - 0s - loss: 0.5579 - val_loss: 0.6257\n",
      "Epoch 12/25\n",
      "450/450 [==============================] - 0s - loss: 0.5508 - val_loss: 0.6181\n",
      "Epoch 13/25\n",
      "450/450 [==============================] - 0s - loss: 0.5443 - val_loss: 0.6129\n",
      "Epoch 14/25\n",
      "450/450 [==============================] - 0s - loss: 0.5395 - val_loss: 0.6080\n",
      "Epoch 15/25\n",
      "450/450 [==============================] - 0s - loss: 0.5346 - val_loss: 0.6032\n",
      "Epoch 16/25\n",
      "450/450 [==============================] - 0s - loss: 0.5303 - val_loss: 0.5994\n",
      "Epoch 17/25\n",
      "450/450 [==============================] - 0s - loss: 0.5266 - val_loss: 0.5956\n",
      "Epoch 18/25\n",
      "450/450 [==============================] - 0s - loss: 0.5233 - val_loss: 0.5929\n",
      "Epoch 19/25\n",
      "450/450 [==============================] - 0s - loss: 0.5205 - val_loss: 0.5899\n",
      "Epoch 20/25\n",
      "450/450 [==============================] - 0s - loss: 0.5179 - val_loss: 0.5876\n",
      "Epoch 21/25\n",
      "450/450 [==============================] - 0s - loss: 0.5157 - val_loss: 0.5857\n",
      "Epoch 22/25\n",
      "450/450 [==============================] - 0s - loss: 0.5137 - val_loss: 0.5841\n",
      "Epoch 23/25\n",
      "450/450 [==============================] - 0s - loss: 0.5122 - val_loss: 0.5830\n",
      "Epoch 24/25\n",
      "450/450 [==============================] - 0s - loss: 0.5107 - val_loss: 0.5817\n",
      "Epoch 25/25\n",
      "450/450 [==============================] - 0s - loss: 0.5095 - val_loss: 0.5804\n"
     ]
    }
   ],
   "source": [
    "history = m.fit(x, y, epochs=25, validation_data=(_x, _y))"
   ]
  },
  {
   "cell_type": "code",
   "execution_count": 10,
   "metadata": {},
   "outputs": [
    {
     "data": {
      "text/plain": [
       "<matplotlib.legend.Legend at 0x7fe17eaa7d68>"
      ]
     },
     "execution_count": 10,
     "metadata": {},
     "output_type": "execute_result"
    },
    {
     "data": {
      "image/png": "[encoded data removed]",
      "text/plain": [
       "<matplotlib.figure.Figure at 0x7fe17e204588>"
      ]
     },
     "metadata": {},
     "output_type": "display_data"
    }
   ],
   "source": [
    "plot(history.history['loss'], label='loss')\n",
    "plot(history.history['val_loss'], label='val_loss')\n",
    "legend()"
   ]
  },
  {
   "cell_type": "markdown",
   "metadata": {},
   "source": [
    "Predicting on normal data gives us an expected loss as seen in training"
   ]
  },
  {
   "cell_type": "code",
   "execution_count": 11,
   "metadata": {},
   "outputs": [],
   "source": [
    "errs = []\n",
    "for _ in range(100):\n",
    "    _x, _y = gen_dataset((data_rate*10), 'n')\n",
    "    p = m.predict(_x)\n",
    "    errs.extend(list(np.square((p-_y).flatten())))"
   ]
  },
  {
   "cell_type": "code",
   "execution_count": 14,
   "metadata": {},
   "outputs": [
    {
     "data": {
      "text/plain": [
       "0.53887211406767999"
      ]
     },
     "execution_count": 14,
     "metadata": {},
     "output_type": "execute_result"
    }
   ],
   "source": [
    "np.array(errs).mean()"
   ]
  },
  {
   "cell_type": "markdown",
   "metadata": {},
   "source": [
    "Predicting on attack data should give us a higher loss"
   ]
  },
  {
   "cell_type": "code",
   "execution_count": 15,
   "metadata": {},
   "outputs": [],
   "source": [
    "errs = []\n",
    "for _ in range(100):\n",
    "    _x, _y = gen_dataset((data_rate*10), 'm')\n",
    "    p = m.predict(_x)\n",
    "    errs.extend(list(np.square((p-_y).flatten())))"
   ]
  },
  {
   "cell_type": "code",
   "execution_count": 16,
   "metadata": {},
   "outputs": [
    {
     "data": {
      "text/plain": [
       "0.56348971503450451"
      ]
     },
     "execution_count": 16,
     "metadata": {},
     "output_type": "execute_result"
    }
   ],
   "source": [
    "np.array(errs).mean()"
   ]
  }
 ],
 "metadata": {
  "kernelspec": {
   "display_name": "Python 3",
   "language": "python",
   "name": "python3"
  },
  "language_info": {
   "codemirror_mode": {
    "name": "ipython",
    "version": 3
   },
   "file_extension": ".py",
   "mimetype": "text/x-python",
   "name": "python",
   "nbconvert_exporter": "python",
   "pygments_lexer": "ipython3",
   "version": "3.5.3"
  }
 },
 "nbformat": 4,
 "nbformat_minor": 2
}
